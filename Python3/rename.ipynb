{
 "cells": [
  {
   "cell_type": "code",
   "execution_count": 1,
   "metadata": {
    "collapsed": true
   },
   "outputs": [],
   "source": [
    "import os"
   ]
  },
  {
   "cell_type": "code",
   "execution_count": 2,
   "metadata": {},
   "outputs": [
    {
     "data": {
      "text/plain": [
       "'C:\\\\Users\\\\dpaul7\\\\Jupyter'"
      ]
     },
     "execution_count": 2,
     "metadata": {},
     "output_type": "execute_result"
    }
   ],
   "source": [
    "os.getcwd()"
   ]
  },
  {
   "cell_type": "code",
   "execution_count": 3,
   "metadata": {
    "collapsed": true
   },
   "outputs": [],
   "source": [
    "os.chdir(\"C:\\\\Users\\\\dpaul7\\\\VideoArchives\")"
   ]
  },
  {
   "cell_type": "code",
   "execution_count": 21,
   "metadata": {},
   "outputs": [
    {
     "data": {
      "text/plain": [
       "['PHM 616 - 11-28-2018 - Room 250A.asf',\n",
       " 'PHM 616 - 11-28-2018 - Room 250B.asf',\n",
       " 'PHM 616 - 11-28-2018 - Room 250C.asf',\n",
       " 'PHM 616 - 11-28-2018 - Room 250D.asf',\n",
       " 'PHM 616 - 11-28-2018 - Room 250E.asf',\n",
       " 'PHM 616 - 11-28-2018 - Room 250F.asf',\n",
       " 'PHM 616 - 11-28-2018 - Room 250G.asf',\n",
       " 'PHM 616 - 11-28-2018 - Room 250H.asf',\n",
       " 'PHM 616 - 11-28-2018 - Room 250J.asf',\n",
       " 'PHM 616 - 11-28-2018 - Room 250K.asf',\n",
       " 'PHM 616 - 11-28-2018 - Room 250L.asf',\n",
       " 'PHM 616 - 11-28-2018 - Room 250M.asf']"
      ]
     },
     "execution_count": 21,
     "metadata": {},
     "output_type": "execute_result"
    }
   ],
   "source": [
    "os.listdir()"
   ]
  },
  {
   "cell_type": "code",
   "execution_count": 19,
   "metadata": {},
   "outputs": [
    {
     "data": {
      "text/plain": [
       "'PHM 616 - 11-28-2018 - Room 250H.asf'"
      ]
     },
     "execution_count": 19,
     "metadata": {},
     "output_type": "execute_result"
    }
   ],
   "source": [
    "str.replace(os.listdir()[0],\"2017\",\"2018\")"
   ]
  },
  {
   "cell_type": "code",
   "execution_count": 20,
   "metadata": {
    "collapsed": true
   },
   "outputs": [],
   "source": [
    "for i in range(len(os.listdir())):\n",
    "    os.rename(os.listdir()[i],str.replace(os.listdir()[i],\"2017\",\"2018\"))"
   ]
  },
  {
   "cell_type": "code",
   "execution_count": null,
   "metadata": {
    "collapsed": true
   },
   "outputs": [],
   "source": []
  }
 ],
 "metadata": {
  "kernelspec": {
   "display_name": "Python 3",
   "language": "python",
   "name": "python3"
  },
  "language_info": {
   "codemirror_mode": {
    "name": "ipython",
    "version": 3
   },
   "file_extension": ".py",
   "mimetype": "text/x-python",
   "name": "python",
   "nbconvert_exporter": "python",
   "pygments_lexer": "ipython3",
   "version": "3.6.1"
  }
 },
 "nbformat": 4,
 "nbformat_minor": 2
}
