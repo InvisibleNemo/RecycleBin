{
 "cells": [
  {
   "cell_type": "code",
   "execution_count": 1,
   "metadata": {
    "collapsed": true
   },
   "outputs": [],
   "source": [
    "from moviepy.editor import VideoFileClip\n",
    "import os\n",
    "import pandas as pd\n",
    "import time\n",
    "from datetime import datetime, date"
   ]
  },
  {
   "cell_type": "code",
   "execution_count": 2,
   "metadata": {},
   "outputs": [
    {
     "data": {
      "text/plain": [
       "'C:\\\\Users\\\\dpaul7\\\\Jupyter'"
      ]
     },
     "execution_count": 2,
     "metadata": {},
     "output_type": "execute_result"
    }
   ],
   "source": [
    "os.getcwd()"
   ]
  },
  {
   "cell_type": "code",
   "execution_count": 3,
   "metadata": {
    "collapsed": true
   },
   "outputs": [],
   "source": [
    "X=pd.read_excel(\"..\\\\Job\\\\VideoSplicing\\\\Video Schedule Fall 2017-Special-2.xlsm\", sheetname=\"All_Jobs\")"
   ]
  },
  {
   "cell_type": "code",
   "execution_count": 8,
   "metadata": {},
   "outputs": [
    {
     "data": {
      "text/html": [
       "<div>\n",
       "<style>\n",
       "    .dataframe thead tr:only-child th {\n",
       "        text-align: right;\n",
       "    }\n",
       "\n",
       "    .dataframe thead th {\n",
       "        text-align: left;\n",
       "    }\n",
       "\n",
       "    .dataframe tbody tr th {\n",
       "        vertical-align: top;\n",
       "    }\n",
       "</style>\n",
       "<table border=\"1\" class=\"dataframe\">\n",
       "  <thead>\n",
       "    <tr style=\"text-align: right;\">\n",
       "      <th></th>\n",
       "      <th>Date</th>\n",
       "      <th>Course</th>\n",
       "      <th>Rooms</th>\n",
       "      <th>Student(Last,First)</th>\n",
       "      <th>StudentID</th>\n",
       "      <th>Recorded</th>\n",
       "      <th>StudentFolderDue</th>\n",
       "      <th>FeedUsed</th>\n",
       "      <th>Start_time</th>\n",
       "      <th>End_time</th>\n",
       "      <th>Done</th>\n",
       "      <th>DueIn</th>\n",
       "      <th>FileName</th>\n",
       "      <th>FolderName</th>\n",
       "      <th>FilePath</th>\n",
       "      <th>Alias</th>\n",
       "      <th>LastName</th>\n",
       "      <th>FirstName</th>\n",
       "    </tr>\n",
       "  </thead>\n",
       "  <tbody>\n",
       "    <tr>\n",
       "      <th>0</th>\n",
       "      <td>2017-11-28</td>\n",
       "      <td>Competition</td>\n",
       "      <td>250A</td>\n",
       "      <td>O'Connor,Megan</td>\n",
       "      <td>meganoco</td>\n",
       "      <td>Yes</td>\n",
       "      <td>2017-11-30</td>\n",
       "      <td>250A VIEW1CAM1</td>\n",
       "      <td>19:12:11</td>\n",
       "      <td>19:22:32</td>\n",
       "      <td>Yes</td>\n",
       "      <td>Done</td>\n",
       "      <td>Competition - 11-28-2017 - Room 250A - meganoco</td>\n",
       "      <td>meganoco</td>\n",
       "      <td>V:\\Students\\meganoco</td>\n",
       "      <td>NaN</td>\n",
       "      <td>NaN</td>\n",
       "      <td>NaN</td>\n",
       "    </tr>\n",
       "    <tr>\n",
       "      <th>1</th>\n",
       "      <td>2017-11-28</td>\n",
       "      <td>Competition</td>\n",
       "      <td>250A</td>\n",
       "      <td>Samad,Syed</td>\n",
       "      <td>syedsama</td>\n",
       "      <td>Yes</td>\n",
       "      <td>2017-11-30</td>\n",
       "      <td>250C VIEW1CAM5</td>\n",
       "      <td>18:57:36</td>\n",
       "      <td>19:07:22</td>\n",
       "      <td>Yes</td>\n",
       "      <td>Done</td>\n",
       "      <td>Competition - 11-28-2017 - Room 250A - syedsama</td>\n",
       "      <td>syedsama</td>\n",
       "      <td>V:\\Students\\syedsama</td>\n",
       "      <td>NaN</td>\n",
       "      <td>NaN</td>\n",
       "      <td>NaN</td>\n",
       "    </tr>\n",
       "    <tr>\n",
       "      <th>2</th>\n",
       "      <td>2017-11-28</td>\n",
       "      <td>Competition</td>\n",
       "      <td>250A</td>\n",
       "      <td>Fredrick,Stacy</td>\n",
       "      <td>srf7</td>\n",
       "      <td>Yes</td>\n",
       "      <td>2017-11-30</td>\n",
       "      <td>250E VIEW1CAM9</td>\n",
       "      <td>18:46:08</td>\n",
       "      <td>18:55:50</td>\n",
       "      <td>Yes</td>\n",
       "      <td>Done</td>\n",
       "      <td>Competition - 11-28-2017 - Room 250A - srf7</td>\n",
       "      <td>srf7</td>\n",
       "      <td>V:\\Students\\srf7</td>\n",
       "      <td>NaN</td>\n",
       "      <td>NaN</td>\n",
       "      <td>NaN</td>\n",
       "    </tr>\n",
       "    <tr>\n",
       "      <th>3</th>\n",
       "      <td>2017-11-28</td>\n",
       "      <td>Competition</td>\n",
       "      <td>250A</td>\n",
       "      <td>Fornes,Abby</td>\n",
       "      <td>abbyforn</td>\n",
       "      <td>Yes</td>\n",
       "      <td>2017-11-30</td>\n",
       "      <td>250E VIEW1CAM9</td>\n",
       "      <td>18:33:44</td>\n",
       "      <td>18:44:14</td>\n",
       "      <td>Yes</td>\n",
       "      <td>Done</td>\n",
       "      <td>Competition - 11-28-2017 - Room 250A - abbyforn</td>\n",
       "      <td>abbyforn</td>\n",
       "      <td>V:\\Students\\abbyforn</td>\n",
       "      <td>NaN</td>\n",
       "      <td>NaN</td>\n",
       "      <td>NaN</td>\n",
       "    </tr>\n",
       "    <tr>\n",
       "      <th>4</th>\n",
       "      <td>2017-11-28</td>\n",
       "      <td>Competition</td>\n",
       "      <td>250C</td>\n",
       "      <td>Almeter,Madeira</td>\n",
       "      <td>madeiraa</td>\n",
       "      <td>Yes</td>\n",
       "      <td>2017-11-30</td>\n",
       "      <td>250A VIEW1CAM1</td>\n",
       "      <td>18:33:44</td>\n",
       "      <td>18:43:56</td>\n",
       "      <td>Yes</td>\n",
       "      <td>Done</td>\n",
       "      <td>Competition - 11-28-2017 - Room 250C - madeiraa</td>\n",
       "      <td>madeiraa</td>\n",
       "      <td>V:\\Students\\madeiraa</td>\n",
       "      <td>NaN</td>\n",
       "      <td>NaN</td>\n",
       "      <td>NaN</td>\n",
       "    </tr>\n",
       "    <tr>\n",
       "      <th>5</th>\n",
       "      <td>2017-11-28</td>\n",
       "      <td>Competition</td>\n",
       "      <td>250C</td>\n",
       "      <td>Lutley,Brianne</td>\n",
       "      <td>bmlutley</td>\n",
       "      <td>Yes</td>\n",
       "      <td>2017-11-30</td>\n",
       "      <td>250C VIEW1CAM5</td>\n",
       "      <td>19:12:11</td>\n",
       "      <td>19:21:53</td>\n",
       "      <td>Yes</td>\n",
       "      <td>Done</td>\n",
       "      <td>Competition - 11-28-2017 - Room 250C - bmlutley</td>\n",
       "      <td>bmlutley</td>\n",
       "      <td>V:\\Students\\bmlutley</td>\n",
       "      <td>NaN</td>\n",
       "      <td>NaN</td>\n",
       "      <td>NaN</td>\n",
       "    </tr>\n",
       "    <tr>\n",
       "      <th>6</th>\n",
       "      <td>2017-11-28</td>\n",
       "      <td>Competition</td>\n",
       "      <td>250C</td>\n",
       "      <td>Zhang,Cui Ling</td>\n",
       "      <td>cuilingz</td>\n",
       "      <td>Yes</td>\n",
       "      <td>2017-11-30</td>\n",
       "      <td>250C VIEW1CAM5</td>\n",
       "      <td>18:48:08</td>\n",
       "      <td>18:55:15</td>\n",
       "      <td>Yes</td>\n",
       "      <td>Done</td>\n",
       "      <td>Competition - 11-28-2017 - Room 250C - cuilingz</td>\n",
       "      <td>cuilingz</td>\n",
       "      <td>V:\\Students\\cuilingz</td>\n",
       "      <td>NaN</td>\n",
       "      <td>NaN</td>\n",
       "      <td>NaN</td>\n",
       "    </tr>\n",
       "    <tr>\n",
       "      <th>7</th>\n",
       "      <td>2017-11-28</td>\n",
       "      <td>Competition</td>\n",
       "      <td>250C</td>\n",
       "      <td>Russo,Kristen</td>\n",
       "      <td>kmrusso2</td>\n",
       "      <td>Yes</td>\n",
       "      <td>2017-11-30</td>\n",
       "      <td>250E VIEW1CAM9</td>\n",
       "      <td>18:57:36</td>\n",
       "      <td>19:08:39</td>\n",
       "      <td>Yes</td>\n",
       "      <td>Done</td>\n",
       "      <td>Competition - 11-28-2017 - Room 250C - kmrusso2</td>\n",
       "      <td>kmrusso2</td>\n",
       "      <td>V:\\Students\\kmrusso2</td>\n",
       "      <td>NaN</td>\n",
       "      <td>NaN</td>\n",
       "      <td>NaN</td>\n",
       "    </tr>\n",
       "  </tbody>\n",
       "</table>\n",
       "</div>"
      ],
      "text/plain": [
       "        Date       Course Rooms Student(Last,First) StudentID Recorded  \\\n",
       "0 2017-11-28  Competition  250A      O'Connor,Megan  meganoco      Yes   \n",
       "1 2017-11-28  Competition  250A          Samad,Syed  syedsama      Yes   \n",
       "2 2017-11-28  Competition  250A      Fredrick,Stacy      srf7      Yes   \n",
       "3 2017-11-28  Competition  250A         Fornes,Abby  abbyforn      Yes   \n",
       "4 2017-11-28  Competition  250C     Almeter,Madeira  madeiraa      Yes   \n",
       "5 2017-11-28  Competition  250C      Lutley,Brianne  bmlutley      Yes   \n",
       "6 2017-11-28  Competition  250C      Zhang,Cui Ling  cuilingz      Yes   \n",
       "7 2017-11-28  Competition  250C       Russo,Kristen  kmrusso2      Yes   \n",
       "\n",
       "  StudentFolderDue        FeedUsed Start_time  End_time Done DueIn  \\\n",
       "0       2017-11-30  250A VIEW1CAM1   19:12:11  19:22:32  Yes  Done   \n",
       "1       2017-11-30  250C VIEW1CAM5   18:57:36  19:07:22  Yes  Done   \n",
       "2       2017-11-30  250E VIEW1CAM9   18:46:08  18:55:50  Yes  Done   \n",
       "3       2017-11-30  250E VIEW1CAM9   18:33:44  18:44:14  Yes  Done   \n",
       "4       2017-11-30  250A VIEW1CAM1   18:33:44  18:43:56  Yes  Done   \n",
       "5       2017-11-30  250C VIEW1CAM5   19:12:11  19:21:53  Yes  Done   \n",
       "6       2017-11-30  250C VIEW1CAM5   18:48:08  18:55:15  Yes  Done   \n",
       "7       2017-11-30  250E VIEW1CAM9   18:57:36  19:08:39  Yes  Done   \n",
       "\n",
       "                                          FileName FolderName  \\\n",
       "0  Competition - 11-28-2017 - Room 250A - meganoco   meganoco   \n",
       "1  Competition - 11-28-2017 - Room 250A - syedsama   syedsama   \n",
       "2      Competition - 11-28-2017 - Room 250A - srf7       srf7   \n",
       "3  Competition - 11-28-2017 - Room 250A - abbyforn   abbyforn   \n",
       "4  Competition - 11-28-2017 - Room 250C - madeiraa   madeiraa   \n",
       "5  Competition - 11-28-2017 - Room 250C - bmlutley   bmlutley   \n",
       "6  Competition - 11-28-2017 - Room 250C - cuilingz   cuilingz   \n",
       "7  Competition - 11-28-2017 - Room 250C - kmrusso2   kmrusso2   \n",
       "\n",
       "               FilePath  Alias  LastName  FirstName  \n",
       "0  V:\\Students\\meganoco    NaN       NaN        NaN  \n",
       "1  V:\\Students\\syedsama    NaN       NaN        NaN  \n",
       "2      V:\\Students\\srf7    NaN       NaN        NaN  \n",
       "3  V:\\Students\\abbyforn    NaN       NaN        NaN  \n",
       "4  V:\\Students\\madeiraa    NaN       NaN        NaN  \n",
       "5  V:\\Students\\bmlutley    NaN       NaN        NaN  \n",
       "6  V:\\Students\\cuilingz    NaN       NaN        NaN  \n",
       "7  V:\\Students\\kmrusso2    NaN       NaN        NaN  "
      ]
     },
     "execution_count": 8,
     "metadata": {},
     "output_type": "execute_result"
    }
   ],
   "source": [
    "X"
   ]
  },
  {
   "cell_type": "code",
   "execution_count": 5,
   "metadata": {
    "collapsed": true
   },
   "outputs": [],
   "source": [
    "offset=18"
   ]
  },
  {
   "cell_type": "code",
   "execution_count": 6,
   "metadata": {
    "collapsed": true
   },
   "outputs": [],
   "source": [
    "rooms=['A-C','C-C']"
   ]
  },
  {
   "cell_type": "code",
   "execution_count": 10,
   "metadata": {},
   "outputs": [
    {
     "data": {
      "text/plain": [
       "'A'"
      ]
     },
     "execution_count": 10,
     "metadata": {},
     "output_type": "execute_result"
    }
   ],
   "source": [
    "rooms[0][0]"
   ]
  },
  {
   "cell_type": "code",
   "execution_count": 11,
   "metadata": {
    "scrolled": false
   },
   "outputs": [
    {
     "name": "stdout",
     "output_type": "stream",
     "text": [
      "[MoviePy] >>>> Building video ..\\VideoArchives\\Competition - 11-28-2017 - Room 250A - meganoco.mp4\n",
      "[MoviePy] Writing audio in Competition - 11-28-2017 - Room 250A - meganocoTEMP_MPY_wvf_snd.mp3\n"
     ]
    },
    {
     "name": "stderr",
     "output_type": "stream",
     "text": [
      "100%|██████████████████████████████████| 13694/13694 [00:10<00:00, 1296.17it/s]\n"
     ]
    },
    {
     "name": "stdout",
     "output_type": "stream",
     "text": [
      "[MoviePy] Done.\n",
      "[MoviePy] Writing video ..\\VideoArchives\\Competition - 11-28-2017 - Room 250A - meganoco.mp4\n"
     ]
    },
    {
     "name": "stderr",
     "output_type": "stream",
     "text": [
      "100%|█████████████████████████████████████| 9309/9309 [00:55<00:00, 166.64it/s]\n"
     ]
    },
    {
     "name": "stdout",
     "output_type": "stream",
     "text": [
      "[MoviePy] Done.\n",
      "[MoviePy] >>>> Video ready: ..\\VideoArchives\\Competition - 11-28-2017 - Room 250A - meganoco.mp4 \n",
      "\n",
      "[MoviePy] >>>> Building video ..\\VideoArchives\\Competition - 11-28-2017 - Room 250A - syedsama.mp4\n",
      "[MoviePy] Writing audio in Competition - 11-28-2017 - Room 250A - syedsamaTEMP_MPY_wvf_snd.mp3\n"
     ]
    },
    {
     "name": "stderr",
     "output_type": "stream",
     "text": [
      "100%|██████████████████████████████████| 12922/12922 [00:10<00:00, 1260.44it/s]\n"
     ]
    },
    {
     "name": "stdout",
     "output_type": "stream",
     "text": [
      "[MoviePy] Done.\n",
      "[MoviePy] Writing video ..\\VideoArchives\\Competition - 11-28-2017 - Room 250A - syedsama.mp4\n"
     ]
    },
    {
     "name": "stderr",
     "output_type": "stream",
     "text": [
      "100%|█████████████████████████████████████| 8785/8785 [00:52<00:00, 166.33it/s]\n"
     ]
    },
    {
     "name": "stdout",
     "output_type": "stream",
     "text": [
      "[MoviePy] Done.\n",
      "[MoviePy] >>>> Video ready: ..\\VideoArchives\\Competition - 11-28-2017 - Room 250A - syedsama.mp4 \n",
      "\n",
      "[MoviePy] >>>> Building video ..\\VideoArchives\\Competition - 11-28-2017 - Room 250A - srf7.mp4\n",
      "[MoviePy] Writing audio in Competition - 11-28-2017 - Room 250A - srf7TEMP_MPY_wvf_snd.mp3\n"
     ]
    },
    {
     "name": "stderr",
     "output_type": "stream",
     "text": [
      "100%|██████████████████████████████████| 12834/12834 [00:10<00:00, 1225.09it/s]\n"
     ]
    },
    {
     "name": "stdout",
     "output_type": "stream",
     "text": [
      "[MoviePy] Done.\n",
      "[MoviePy] Writing video ..\\VideoArchives\\Competition - 11-28-2017 - Room 250A - srf7.mp4\n"
     ]
    },
    {
     "name": "stderr",
     "output_type": "stream",
     "text": [
      "100%|█████████████████████████████████████| 8725/8725 [00:54<00:00, 160.23it/s]\n"
     ]
    },
    {
     "name": "stdout",
     "output_type": "stream",
     "text": [
      "[MoviePy] Done.\n",
      "[MoviePy] >>>> Video ready: ..\\VideoArchives\\Competition - 11-28-2017 - Room 250A - srf7.mp4 \n",
      "\n",
      "[MoviePy] >>>> Building video ..\\VideoArchives\\Competition - 11-28-2017 - Room 250A - abbyforn.mp4\n",
      "[MoviePy] Writing audio in Competition - 11-28-2017 - Room 250A - abbyfornTEMP_MPY_wvf_snd.mp3\n"
     ]
    },
    {
     "name": "stderr",
     "output_type": "stream",
     "text": [
      "100%|██████████████████████████████████| 13892/13892 [00:11<00:00, 1196.25it/s]\n"
     ]
    },
    {
     "name": "stdout",
     "output_type": "stream",
     "text": [
      "[MoviePy] Done.\n",
      "[MoviePy] Writing video ..\\VideoArchives\\Competition - 11-28-2017 - Room 250A - abbyforn.mp4\n"
     ]
    },
    {
     "name": "stderr",
     "output_type": "stream",
     "text": [
      "100%|█████████████████████████████████████| 9444/9444 [00:55<00:00, 170.21it/s]\n"
     ]
    },
    {
     "name": "stdout",
     "output_type": "stream",
     "text": [
      "[MoviePy] Done.\n",
      "[MoviePy] >>>> Video ready: ..\\VideoArchives\\Competition - 11-28-2017 - Room 250A - abbyforn.mp4 \n",
      "\n",
      "[MoviePy] >>>> Building video ..\\VideoArchives\\Competition - 11-28-2017 - Room 250C - madeiraa.mp4\n",
      "[MoviePy] Writing audio in Competition - 11-28-2017 - Room 250C - madeiraaTEMP_MPY_wvf_snd.mp3\n"
     ]
    },
    {
     "name": "stderr",
     "output_type": "stream",
     "text": [
      "100%|██████████████████████████████████| 13495/13495 [00:11<00:00, 1205.77it/s]\n"
     ]
    },
    {
     "name": "stdout",
     "output_type": "stream",
     "text": [
      "[MoviePy] Done.\n",
      "[MoviePy] Writing video ..\\VideoArchives\\Competition - 11-28-2017 - Room 250C - madeiraa.mp4\n"
     ]
    },
    {
     "name": "stderr",
     "output_type": "stream",
     "text": [
      "100%|█████████████████████████████████████| 9174/9174 [00:54<00:00, 116.92it/s]\n"
     ]
    },
    {
     "name": "stdout",
     "output_type": "stream",
     "text": [
      "[MoviePy] Done.\n",
      "[MoviePy] >>>> Video ready: ..\\VideoArchives\\Competition - 11-28-2017 - Room 250C - madeiraa.mp4 \n",
      "\n",
      "[MoviePy] >>>> Building video ..\\VideoArchives\\Competition - 11-28-2017 - Room 250C - bmlutley.mp4\n",
      "[MoviePy] Writing audio in Competition - 11-28-2017 - Room 250C - bmlutleyTEMP_MPY_wvf_snd.mp3\n"
     ]
    },
    {
     "name": "stderr",
     "output_type": "stream",
     "text": [
      "100%|██████████████████████████████████| 12834/12834 [00:12<00:00, 1053.78it/s]\n"
     ]
    },
    {
     "name": "stdout",
     "output_type": "stream",
     "text": [
      "[MoviePy] Done.\n",
      "[MoviePy] Writing video ..\\VideoArchives\\Competition - 11-28-2017 - Room 250C - bmlutley.mp4\n"
     ]
    },
    {
     "name": "stderr",
     "output_type": "stream",
     "text": [
      "100%|█████████████████████████████████████| 8725/8725 [00:48<00:00, 180.10it/s]\n"
     ]
    },
    {
     "name": "stdout",
     "output_type": "stream",
     "text": [
      "[MoviePy] Done.\n",
      "[MoviePy] >>>> Video ready: ..\\VideoArchives\\Competition - 11-28-2017 - Room 250C - bmlutley.mp4 \n",
      "\n",
      "[MoviePy] >>>> Building video ..\\VideoArchives\\Competition - 11-28-2017 - Room 250C - cuilingz.mp4\n",
      "[MoviePy] Writing audio in Competition - 11-28-2017 - Room 250C - cuilingzTEMP_MPY_wvf_snd.mp3\n"
     ]
    },
    {
     "name": "stderr",
     "output_type": "stream",
     "text": [
      "100%|████████████████████████████████████| 9416/9416 [00:07<00:00, 1209.19it/s]\n"
     ]
    },
    {
     "name": "stdout",
     "output_type": "stream",
     "text": [
      "[MoviePy] Done.\n",
      "[MoviePy] Writing video ..\\VideoArchives\\Competition - 11-28-2017 - Room 250C - cuilingz.mp4\n"
     ]
    },
    {
     "name": "stderr",
     "output_type": "stream",
     "text": [
      "100%|█████████████████████████████████████| 6401/6401 [00:37<00:00, 172.69it/s]\n"
     ]
    },
    {
     "name": "stdout",
     "output_type": "stream",
     "text": [
      "[MoviePy] Done.\n",
      "[MoviePy] >>>> Video ready: ..\\VideoArchives\\Competition - 11-28-2017 - Room 250C - cuilingz.mp4 \n",
      "\n",
      "[MoviePy] >>>> Building video ..\\VideoArchives\\Competition - 11-28-2017 - Room 250C - kmrusso2.mp4\n",
      "[MoviePy] Writing audio in Competition - 11-28-2017 - Room 250C - kmrusso2TEMP_MPY_wvf_snd.mp3\n"
     ]
    },
    {
     "name": "stderr",
     "output_type": "stream",
     "text": [
      "100%|██████████████████████████████████| 14620/14620 [00:11<00:00, 1227.13it/s]\n"
     ]
    },
    {
     "name": "stdout",
     "output_type": "stream",
     "text": [
      "[MoviePy] Done.\n",
      "[MoviePy] Writing video ..\\VideoArchives\\Competition - 11-28-2017 - Room 250C - kmrusso2.mp4\n"
     ]
    },
    {
     "name": "stderr",
     "output_type": "stream",
     "text": [
      "100%|█████████████████████████████████████| 9939/9939 [00:56<00:00, 176.68it/s]\n"
     ]
    },
    {
     "name": "stdout",
     "output_type": "stream",
     "text": [
      "[MoviePy] Done.\n",
      "[MoviePy] >>>> Video ready: ..\\VideoArchives\\Competition - 11-28-2017 - Room 250C - kmrusso2.mp4 \n",
      "\n"
     ]
    }
   ],
   "source": [
    "start=time.time()\n",
    "for room in rooms:\n",
    "    try:\n",
    "        clip=VideoFileClip(\"..\\\\VideoArchives\\\\250\"+room+\".asf\")\n",
    "        for i in X[X[\"Rooms\"]==\"250\"+room[0]].index:\n",
    "            if(X[X[\"Rooms\"]==\"250\"+room[0]][\"Done\"][i]==\"Yes\"):\n",
    "                st=X[X[\"Rooms\"]==\"250\"+room[0]][\"Start_time\"][i]\n",
    "                et=X[X[\"Rooms\"]==\"250\"+room[0]][\"End_time\"][i]\n",
    "                fileName=X[X[\"Rooms\"]==\"250\"+room[0]][\"FileName\"][i]            \n",
    "                newclip=clip.subclip(t_start=(st.hour - offset,st.minute-30,st.second), t_end=(et.hour - offset,et.minute-30,et.second))\n",
    "                newclip.write_videofile(\"..\\\\VideoArchives\\\\\"+fileName+\".mp4\")\n",
    "    except:\n",
    "        continue            \n",
    "end=time.time()"
   ]
  },
  {
   "cell_type": "code",
   "execution_count": 6,
   "metadata": {
    "scrolled": true
   },
   "outputs": [
    {
     "ename": "NameError",
     "evalue": "name 'end' is not defined",
     "output_type": "error",
     "traceback": [
      "\u001b[1;31m---------------------------------------------------------------------------\u001b[0m",
      "\u001b[1;31mNameError\u001b[0m                                 Traceback (most recent call last)",
      "\u001b[1;32m<ipython-input-6-2b5f346047e3>\u001b[0m in \u001b[0;36m<module>\u001b[1;34m()\u001b[0m\n\u001b[1;32m----> 1\u001b[1;33m \u001b[0mend\u001b[0m\u001b[1;33m-\u001b[0m\u001b[0mstart\u001b[0m\u001b[1;33m\u001b[0m\u001b[0m\n\u001b[0m",
      "\u001b[1;31mNameError\u001b[0m: name 'end' is not defined"
     ]
    }
   ],
   "source": [
    "end-start"
   ]
  },
  {
   "cell_type": "code",
   "execution_count": 5,
   "metadata": {
    "collapsed": true
   },
   "outputs": [],
   "source": [
    "rooms=list(\"BL\")"
   ]
  },
  {
   "cell_type": "code",
   "execution_count": 6,
   "metadata": {
    "scrolled": false
   },
   "outputs": [
    {
     "name": "stdout",
     "output_type": "stream",
     "text": [
      "[MoviePy] >>>> Building video ..\\VideoArchives\\Augostini Anna PHM515 CS3 11-21-2017 - annaaugo.mp4\n",
      "[MoviePy] Writing audio in Augostini Anna PHM515 CS3 11-21-2017 - annaaugoTEMP_MPY_wvf_snd.mp3\n"
     ]
    },
    {
     "name": "stderr",
     "output_type": "stream",
     "text": [
      "100%|████████████████████████████████████| 7894/7894 [00:06<00:00, 1178.03it/s]\n"
     ]
    },
    {
     "name": "stdout",
     "output_type": "stream",
     "text": [
      "[MoviePy] Done.\n",
      "[MoviePy] Writing video ..\\VideoArchives\\Augostini Anna PHM515 CS3 11-21-2017 - annaaugo.mp4\n"
     ]
    },
    {
     "name": "stderr",
     "output_type": "stream",
     "text": [
      "100%|██████████████████████████████████████| 5367/5367 [01:45<00:00, 49.01it/s]\n"
     ]
    },
    {
     "name": "stdout",
     "output_type": "stream",
     "text": [
      "[MoviePy] Done.\n",
      "[MoviePy] >>>> Video ready: ..\\VideoArchives\\Augostini Anna PHM515 CS3 11-21-2017 - annaaugo.mp4 \n",
      "\n",
      "[MoviePy] >>>> Building video ..\\VideoArchives\\Brighton Christopher PHM515 CS3 11-21-2017 - cabright.mp4\n",
      "[MoviePy] Writing audio in Brighton Christopher PHM515 CS3 11-21-2017 - cabrightTEMP_MPY_wvf_snd.mp3\n"
     ]
    },
    {
     "name": "stderr",
     "output_type": "stream",
     "text": [
      "100%|█████████████████████████████████████| 8424/8424 [00:20<00:00, 406.64it/s]\n"
     ]
    },
    {
     "name": "stdout",
     "output_type": "stream",
     "text": [
      "[MoviePy] Done.\n",
      "[MoviePy] Writing video ..\\VideoArchives\\Brighton Christopher PHM515 CS3 11-21-2017 - cabright.mp4\n"
     ]
    },
    {
     "name": "stderr",
     "output_type": "stream",
     "text": [
      "100%|██████████████████████████████████████| 5727/5727 [02:07<00:00, 44.92it/s]\n"
     ]
    },
    {
     "name": "stdout",
     "output_type": "stream",
     "text": [
      "[MoviePy] Done.\n",
      "[MoviePy] >>>> Video ready: ..\\VideoArchives\\Brighton Christopher PHM515 CS3 11-21-2017 - cabright.mp4 \n",
      "\n",
      "[MoviePy] >>>> Building video ..\\VideoArchives\\Canales Gisela PHM515 CS3 11-21-2017 - giselaca.mp4\n",
      "[MoviePy] Writing audio in Canales Gisela PHM515 CS3 11-21-2017 - giselacaTEMP_MPY_wvf_snd.mp3\n"
     ]
    },
    {
     "name": "stderr",
     "output_type": "stream",
     "text": [
      "100%|█████████████████████████████████████| 6968/6968 [00:17<00:00, 387.74it/s]\n"
     ]
    },
    {
     "name": "stdout",
     "output_type": "stream",
     "text": [
      "[MoviePy] Done.\n",
      "[MoviePy] Writing video ..\\VideoArchives\\Canales Gisela PHM515 CS3 11-21-2017 - giselaca.mp4\n"
     ]
    },
    {
     "name": "stderr",
     "output_type": "stream",
     "text": [
      "100%|██████████████████████████████████████| 4737/4737 [01:33<00:00, 50.80it/s]\n"
     ]
    },
    {
     "name": "stdout",
     "output_type": "stream",
     "text": [
      "[MoviePy] Done.\n",
      "[MoviePy] >>>> Video ready: ..\\VideoArchives\\Canales Gisela PHM515 CS3 11-21-2017 - giselaca.mp4 \n",
      "\n",
      "[MoviePy] >>>> Building video ..\\VideoArchives\\Doan Susan PHM515 CS3 11-21-2017 - susandoa.mp4\n",
      "[MoviePy] Writing audio in Doan Susan PHM515 CS3 11-21-2017 - susandoaTEMP_MPY_wvf_snd.mp3\n"
     ]
    },
    {
     "name": "stderr",
     "output_type": "stream",
     "text": [
      "100%|█████████████████████████████████████| 7497/7497 [00:19<00:00, 384.94it/s]\n"
     ]
    },
    {
     "name": "stdout",
     "output_type": "stream",
     "text": [
      "[MoviePy] Done.\n",
      "[MoviePy] Writing video ..\\VideoArchives\\Doan Susan PHM515 CS3 11-21-2017 - susandoa.mp4\n"
     ]
    },
    {
     "name": "stderr",
     "output_type": "stream",
     "text": [
      "100%|██████████████████████████████████████| 5097/5097 [01:54<00:00, 44.38it/s]\n"
     ]
    },
    {
     "name": "stdout",
     "output_type": "stream",
     "text": [
      "[MoviePy] Done.\n",
      "[MoviePy] >>>> Video ready: ..\\VideoArchives\\Doan Susan PHM515 CS3 11-21-2017 - susandoa.mp4 \n",
      "\n",
      "[MoviePy] >>>> Building video ..\\VideoArchives\\Fadale Thomas PHM515 CS3 11-21-2017 - tmfadale.mp4\n",
      "[MoviePy] Writing audio in Fadale Thomas PHM515 CS3 11-21-2017 - tmfadaleTEMP_MPY_wvf_snd.mp3\n"
     ]
    },
    {
     "name": "stderr",
     "output_type": "stream",
     "text": [
      "100%|█████████████████████████████████████| 6505/6505 [00:16<00:00, 402.31it/s]\n"
     ]
    },
    {
     "name": "stdout",
     "output_type": "stream",
     "text": [
      "[MoviePy] Done.\n",
      "[MoviePy] Writing video ..\\VideoArchives\\Fadale Thomas PHM515 CS3 11-21-2017 - tmfadale.mp4\n"
     ]
    },
    {
     "name": "stderr",
     "output_type": "stream",
     "text": [
      "100%|██████████████████████████████████████| 4423/4423 [01:53<00:00, 38.85it/s]\n"
     ]
    },
    {
     "name": "stdout",
     "output_type": "stream",
     "text": [
      "[MoviePy] Done.\n",
      "[MoviePy] >>>> Video ready: ..\\VideoArchives\\Fadale Thomas PHM515 CS3 11-21-2017 - tmfadale.mp4 \n",
      "\n",
      "[MoviePy] >>>> Building video ..\\VideoArchives\\Halligan Kaitlin PHM515 CS3 11-21-2017 - kjhallig.mp4\n",
      "[MoviePy] Writing audio in Halligan Kaitlin PHM515 CS3 11-21-2017 - kjhalligTEMP_MPY_wvf_snd.mp3\n"
     ]
    },
    {
     "name": "stderr",
     "output_type": "stream",
     "text": [
      "100%|█████████████████████████████████████| 5557/5557 [00:14<00:00, 389.12it/s]\n"
     ]
    },
    {
     "name": "stdout",
     "output_type": "stream",
     "text": [
      "[MoviePy] Done.\n",
      "[MoviePy] Writing video ..\\VideoArchives\\Halligan Kaitlin PHM515 CS3 11-21-2017 - kjhallig.mp4\n"
     ]
    },
    {
     "name": "stderr",
     "output_type": "stream",
     "text": [
      "100%|██████████████████████████████████████| 3778/3778 [01:36<00:00, 39.18it/s]\n"
     ]
    },
    {
     "name": "stdout",
     "output_type": "stream",
     "text": [
      "[MoviePy] Done.\n",
      "[MoviePy] >>>> Video ready: ..\\VideoArchives\\Halligan Kaitlin PHM515 CS3 11-21-2017 - kjhallig.mp4 \n",
      "\n",
      "[MoviePy] >>>> Building video ..\\VideoArchives\\Jaffe Emanuel PHM515 CS3 11-21-2017 - ejaffe.mp4\n",
      "[MoviePy] Writing audio in Jaffe Emanuel PHM515 CS3 11-21-2017 - ejaffeTEMP_MPY_wvf_snd.mp3\n"
     ]
    },
    {
     "name": "stderr",
     "output_type": "stream",
     "text": [
      "100%|█████████████████████████████████████| 7762/7762 [00:22<00:00, 343.34it/s]\n"
     ]
    },
    {
     "name": "stdout",
     "output_type": "stream",
     "text": [
      "[MoviePy] Done.\n",
      "[MoviePy] Writing video ..\\VideoArchives\\Jaffe Emanuel PHM515 CS3 11-21-2017 - ejaffe.mp4\n"
     ]
    },
    {
     "name": "stderr",
     "output_type": "stream",
     "text": [
      "100%|██████████████████████████████████████| 5277/5277 [02:24<00:00, 36.48it/s]\n"
     ]
    },
    {
     "name": "stdout",
     "output_type": "stream",
     "text": [
      "[MoviePy] Done.\n",
      "[MoviePy] >>>> Video ready: ..\\VideoArchives\\Jaffe Emanuel PHM515 CS3 11-21-2017 - ejaffe.mp4 \n",
      "\n",
      "[MoviePy] >>>> Building video ..\\VideoArchives\\Latvala Taylor PHM515 CS3 11-21-2017 - tmlatval.mp4\n",
      "[MoviePy] Writing audio in Latvala Taylor PHM515 CS3 11-21-2017 - tmlatvalTEMP_MPY_wvf_snd.mp3\n"
     ]
    },
    {
     "name": "stderr",
     "output_type": "stream",
     "text": [
      "100%|█████████████████████████████████████| 5425/5425 [00:18<00:00, 294.10it/s]\n"
     ]
    },
    {
     "name": "stdout",
     "output_type": "stream",
     "text": [
      "[MoviePy] Done.\n",
      "[MoviePy] Writing video ..\\VideoArchives\\Latvala Taylor PHM515 CS3 11-21-2017 - tmlatval.mp4\n"
     ]
    },
    {
     "name": "stderr",
     "output_type": "stream",
     "text": [
      "100%|██████████████████████████████████████| 3688/3688 [01:27<00:00, 42.04it/s]\n"
     ]
    },
    {
     "name": "stdout",
     "output_type": "stream",
     "text": [
      "[MoviePy] Done.\n",
      "[MoviePy] >>>> Video ready: ..\\VideoArchives\\Latvala Taylor PHM515 CS3 11-21-2017 - tmlatval.mp4 \n",
      "\n",
      "[MoviePy] >>>> Building video ..\\VideoArchives\\Nowak Joshua PHM515 CS3 11-21-2017 - jdnowak.mp4\n",
      "[MoviePy] Writing audio in Nowak Joshua PHM515 CS3 11-21-2017 - jdnowakTEMP_MPY_wvf_snd.mp3\n"
     ]
    },
    {
     "name": "stderr",
     "output_type": "stream",
     "text": [
      "100%|█████████████████████████████████████| 9129/9129 [00:25<00:00, 361.43it/s]\n"
     ]
    },
    {
     "name": "stdout",
     "output_type": "stream",
     "text": [
      "[MoviePy] Done.\n",
      "[MoviePy] Writing video ..\\VideoArchives\\Nowak Joshua PHM515 CS3 11-21-2017 - jdnowak.mp4\n"
     ]
    },
    {
     "name": "stderr",
     "output_type": "stream",
     "text": [
      "100%|██████████████████████████████████████| 6206/6206 [02:20<00:00, 44.06it/s]\n"
     ]
    },
    {
     "name": "stdout",
     "output_type": "stream",
     "text": [
      "[MoviePy] Done.\n",
      "[MoviePy] >>>> Video ready: ..\\VideoArchives\\Nowak Joshua PHM515 CS3 11-21-2017 - jdnowak.mp4 \n",
      "\n",
      "[MoviePy] >>>> Building video ..\\VideoArchives\\Salavati Jasmine PHM515 CS3 11-21-2017 - jsalavat.mp4\n",
      "[MoviePy] Writing audio in Salavati Jasmine PHM515 CS3 11-21-2017 - jsalavatTEMP_MPY_wvf_snd.mp3\n"
     ]
    },
    {
     "name": "stderr",
     "output_type": "stream",
     "text": [
      "100%|█████████████████████████████████████| 6527/6527 [00:17<00:00, 370.28it/s]\n"
     ]
    },
    {
     "name": "stdout",
     "output_type": "stream",
     "text": [
      "[MoviePy] Done.\n",
      "[MoviePy] Writing video ..\\VideoArchives\\Salavati Jasmine PHM515 CS3 11-21-2017 - jsalavat.mp4\n"
     ]
    },
    {
     "name": "stderr",
     "output_type": "stream",
     "text": [
      "100%|██████████████████████████████████████| 4438/4438 [01:08<00:00, 65.15it/s]\n"
     ]
    },
    {
     "name": "stdout",
     "output_type": "stream",
     "text": [
      "[MoviePy] Done.\n",
      "[MoviePy] >>>> Video ready: ..\\VideoArchives\\Salavati Jasmine PHM515 CS3 11-21-2017 - jsalavat.mp4 \n",
      "\n",
      "[MoviePy] >>>> Building video ..\\VideoArchives\\Smyth McQuaid PHM515 CS3 11-21-2017 - mcquaids.mp4\n",
      "[MoviePy] Writing audio in Smyth McQuaid PHM515 CS3 11-21-2017 - mcquaidsTEMP_MPY_wvf_snd.mp3\n"
     ]
    },
    {
     "name": "stderr",
     "output_type": "stream",
     "text": [
      "100%|████████████████████████████████████| 5050/5050 [00:03<00:00, 1272.36it/s]\n"
     ]
    },
    {
     "name": "stdout",
     "output_type": "stream",
     "text": [
      "[MoviePy] Done.\n",
      "[MoviePy] Writing video ..\\VideoArchives\\Smyth McQuaid PHM515 CS3 11-21-2017 - mcquaids.mp4\n"
     ]
    },
    {
     "name": "stderr",
     "output_type": "stream",
     "text": [
      "100%|█████████████████████████████████████| 3433/3433 [00:21<00:00, 161.55it/s]\n"
     ]
    },
    {
     "name": "stdout",
     "output_type": "stream",
     "text": [
      "[MoviePy] Done.\n",
      "[MoviePy] >>>> Video ready: ..\\VideoArchives\\Smyth McQuaid PHM515 CS3 11-21-2017 - mcquaids.mp4 \n",
      "\n",
      "[MoviePy] >>>> Building video ..\\VideoArchives\\Chen Zhilei PHM515 CS3 11-21-2017 - zhileich.mp4\n",
      "[MoviePy] Writing audio in Chen Zhilei PHM515 CS3 11-21-2017 - zhileichTEMP_MPY_wvf_snd.mp3\n"
     ]
    },
    {
     "name": "stderr",
     "output_type": "stream",
     "text": [
      "100%|████████████████████████████████████| 7299/7299 [00:05<00:00, 1253.69it/s]\n"
     ]
    },
    {
     "name": "stdout",
     "output_type": "stream",
     "text": [
      "[MoviePy] Done.\n",
      "[MoviePy] Writing video ..\\VideoArchives\\Chen Zhilei PHM515 CS3 11-21-2017 - zhileich.mp4\n"
     ]
    },
    {
     "name": "stderr",
     "output_type": "stream",
     "text": [
      "100%|█████████████████████████████████████| 4962/4962 [00:31<00:00, 158.22it/s]\n"
     ]
    },
    {
     "name": "stdout",
     "output_type": "stream",
     "text": [
      "[MoviePy] Done.\n",
      "[MoviePy] >>>> Video ready: ..\\VideoArchives\\Chen Zhilei PHM515 CS3 11-21-2017 - zhileich.mp4 \n",
      "\n",
      "[MoviePy] >>>> Building video ..\\VideoArchives\\Kanika Kamrun PHM515 CS3 11-21-2017 - kamrunka.mp4\n",
      "[MoviePy] Writing audio in Kanika Kamrun PHM515 CS3 11-21-2017 - kamrunkaTEMP_MPY_wvf_snd.mp3\n"
     ]
    },
    {
     "name": "stderr",
     "output_type": "stream",
     "text": [
      "100%|████████████████████████████████████| 6726/6726 [00:05<00:00, 1256.73it/s]\n"
     ]
    },
    {
     "name": "stdout",
     "output_type": "stream",
     "text": [
      "[MoviePy] Done.\n",
      "[MoviePy] Writing video ..\\VideoArchives\\Kanika Kamrun PHM515 CS3 11-21-2017 - kamrunka.mp4\n"
     ]
    },
    {
     "name": "stderr",
     "output_type": "stream",
     "text": [
      "100%|█████████████████████████████████████| 4572/4572 [00:26<00:00, 174.72it/s]\n"
     ]
    },
    {
     "name": "stdout",
     "output_type": "stream",
     "text": [
      "[MoviePy] Done.\n",
      "[MoviePy] >>>> Video ready: ..\\VideoArchives\\Kanika Kamrun PHM515 CS3 11-21-2017 - kamrunka.mp4 \n",
      "\n",
      "[MoviePy] >>>> Building video ..\\VideoArchives\\Krikheli Maggie PHM515 CS3 11-21-2017 - maggiekr.mp4\n",
      "[MoviePy] Writing audio in Krikheli Maggie PHM515 CS3 11-21-2017 - maggiekrTEMP_MPY_wvf_snd.mp3\n"
     ]
    },
    {
     "name": "stderr",
     "output_type": "stream",
     "text": [
      "100%|████████████████████████████████████| 9460/9460 [00:07<00:00, 1274.25it/s]\n"
     ]
    },
    {
     "name": "stdout",
     "output_type": "stream",
     "text": [
      "[MoviePy] Done.\n",
      "[MoviePy] Writing video ..\\VideoArchives\\Krikheli Maggie PHM515 CS3 11-21-2017 - maggiekr.mp4\n"
     ]
    },
    {
     "name": "stderr",
     "output_type": "stream",
     "text": [
      "100%|██████████████████████████████████████| 6431/6431 [01:12<00:00, 89.17it/s]\n"
     ]
    },
    {
     "name": "stdout",
     "output_type": "stream",
     "text": [
      "[MoviePy] Done.\n",
      "[MoviePy] >>>> Video ready: ..\\VideoArchives\\Krikheli Maggie PHM515 CS3 11-21-2017 - maggiekr.mp4 \n",
      "\n",
      "[MoviePy] >>>> Building video ..\\VideoArchives\\Pudim III Edward PHM515 CS3 11-21-2017 - epudim.mp4\n",
      "[MoviePy] Writing audio in Pudim III Edward PHM515 CS3 11-21-2017 - epudimTEMP_MPY_wvf_snd.mp3\n"
     ]
    },
    {
     "name": "stderr",
     "output_type": "stream",
     "text": [
      "100%|████████████████████████████████████| 7167/7167 [00:06<00:00, 1091.03it/s]\n"
     ]
    },
    {
     "name": "stdout",
     "output_type": "stream",
     "text": [
      "[MoviePy] Done.\n",
      "[MoviePy] Writing video ..\\VideoArchives\\Pudim III Edward PHM515 CS3 11-21-2017 - epudim.mp4\n"
     ]
    },
    {
     "name": "stderr",
     "output_type": "stream",
     "text": [
      "100%|██████████████████████████████████████| 4872/4872 [01:15<00:00, 64.22it/s]\n"
     ]
    },
    {
     "name": "stdout",
     "output_type": "stream",
     "text": [
      "[MoviePy] Done.\n",
      "[MoviePy] >>>> Video ready: ..\\VideoArchives\\Pudim III Edward PHM515 CS3 11-21-2017 - epudim.mp4 \n",
      "\n",
      "[MoviePy] >>>> Building video ..\\VideoArchives\\Sherpa Chheten PHM515 CS3 11-21-2017 - chhetens.mp4\n",
      "[MoviePy] Writing audio in Sherpa Chheten PHM515 CS3 11-21-2017 - chhetensTEMP_MPY_wvf_snd.mp3\n"
     ]
    },
    {
     "name": "stderr",
     "output_type": "stream",
     "text": [
      "100%|█████████████████████████████████████| 7806/7806 [00:09<00:00, 792.33it/s]\n"
     ]
    },
    {
     "name": "stdout",
     "output_type": "stream",
     "text": [
      "[MoviePy] Done.\n",
      "[MoviePy] Writing video ..\\VideoArchives\\Sherpa Chheten PHM515 CS3 11-21-2017 - chhetens.mp4\n"
     ]
    },
    {
     "name": "stderr",
     "output_type": "stream",
     "text": [
      "100%|██████████████████████████████████████| 5307/5307 [02:03<00:00, 32.64it/s]\n"
     ]
    },
    {
     "name": "stdout",
     "output_type": "stream",
     "text": [
      "[MoviePy] Done.\n",
      "[MoviePy] >>>> Video ready: ..\\VideoArchives\\Sherpa Chheten PHM515 CS3 11-21-2017 - chhetens.mp4 \n",
      "\n",
      "[MoviePy] >>>> Building video ..\\VideoArchives\\Tse Andy PHM515 CS3 11-21-2017 - atse.mp4\n",
      "[MoviePy] Writing audio in Tse Andy PHM515 CS3 11-21-2017 - atseTEMP_MPY_wvf_snd.mp3\n"
     ]
    },
    {
     "name": "stderr",
     "output_type": "stream",
     "text": [
      "100%|█████████████████████████████████████| 5072/5072 [00:05<00:00, 993.54it/s]\n"
     ]
    },
    {
     "name": "stdout",
     "output_type": "stream",
     "text": [
      "[MoviePy] Done.\n",
      "[MoviePy] Writing video ..\\VideoArchives\\Tse Andy PHM515 CS3 11-21-2017 - atse.mp4\n"
     ]
    },
    {
     "name": "stderr",
     "output_type": "stream",
     "text": [
      "100%|██████████████████████████████████████| 3448/3448 [01:40<00:00, 23.17it/s]\n"
     ]
    },
    {
     "name": "stdout",
     "output_type": "stream",
     "text": [
      "[MoviePy] Done.\n",
      "[MoviePy] >>>> Video ready: ..\\VideoArchives\\Tse Andy PHM515 CS3 11-21-2017 - atse.mp4 \n",
      "\n",
      "[MoviePy] >>>> Building video ..\\VideoArchives\\Vogt James PHM515 CS3 11-21-2017 - jamesvog.mp4\n",
      "[MoviePy] Writing audio in Vogt James PHM515 CS3 11-21-2017 - jamesvogTEMP_MPY_wvf_snd.mp3\n"
     ]
    },
    {
     "name": "stderr",
     "output_type": "stream",
     "text": [
      "100%|█████████████████████████████████████| 6152/6152 [00:06<00:00, 948.50it/s]\n"
     ]
    },
    {
     "name": "stdout",
     "output_type": "stream",
     "text": [
      "[MoviePy] Done.\n",
      "[MoviePy] Writing video ..\\VideoArchives\\Vogt James PHM515 CS3 11-21-2017 - jamesvog.mp4\n"
     ]
    },
    {
     "name": "stderr",
     "output_type": "stream",
     "text": [
      "100%|██████████████████████████████████████| 4183/4183 [01:57<00:00, 35.74it/s]\n"
     ]
    },
    {
     "name": "stdout",
     "output_type": "stream",
     "text": [
      "[MoviePy] Done.\n",
      "[MoviePy] >>>> Video ready: ..\\VideoArchives\\Vogt James PHM515 CS3 11-21-2017 - jamesvog.mp4 \n",
      "\n",
      "[MoviePy] >>>> Building video ..\\VideoArchives\\Wat Sang Kit PHM515 CS3 11-21-2017 - sangkitw.mp4\n",
      "[MoviePy] Writing audio in Wat Sang Kit PHM515 CS3 11-21-2017 - sangkitwTEMP_MPY_wvf_snd.mp3\n"
     ]
    },
    {
     "name": "stderr",
     "output_type": "stream",
     "text": [
      "100%|█████████████████████████████████████| 5270/5270 [00:06<00:00, 771.71it/s]\n"
     ]
    },
    {
     "name": "stdout",
     "output_type": "stream",
     "text": [
      "[MoviePy] Done.\n",
      "[MoviePy] Writing video ..\\VideoArchives\\Wat Sang Kit PHM515 CS3 11-21-2017 - sangkitw.mp4\n"
     ]
    },
    {
     "name": "stderr",
     "output_type": "stream",
     "text": [
      "100%|██████████████████████████████████████| 3583/3583 [01:39<00:00, 35.93it/s]\n"
     ]
    },
    {
     "name": "stdout",
     "output_type": "stream",
     "text": [
      "[MoviePy] Done.\n",
      "[MoviePy] >>>> Video ready: ..\\VideoArchives\\Wat Sang Kit PHM515 CS3 11-21-2017 - sangkitw.mp4 \n",
      "\n",
      "[MoviePy] >>>> Building video ..\\VideoArchives\\Yu Chung Hon PHM515 CS3 11-21-2017 - chunghon.mp4\n",
      "[MoviePy] Writing audio in Yu Chung Hon PHM515 CS3 11-21-2017 - chunghonTEMP_MPY_wvf_snd.mp3\n"
     ]
    },
    {
     "name": "stderr",
     "output_type": "stream",
     "text": [
      "100%|█████████████████████████████████████| 6064/6064 [00:08<00:00, 731.13it/s]\n"
     ]
    },
    {
     "name": "stdout",
     "output_type": "stream",
     "text": [
      "[MoviePy] Done.\n",
      "[MoviePy] Writing video ..\\VideoArchives\\Yu Chung Hon PHM515 CS3 11-21-2017 - chunghon.mp4\n"
     ]
    },
    {
     "name": "stderr",
     "output_type": "stream",
     "text": [
      "100%|██████████████████████████████████████| 4123/4123 [01:31<00:00, 45.06it/s]\n"
     ]
    },
    {
     "name": "stdout",
     "output_type": "stream",
     "text": [
      "[MoviePy] Done.\n",
      "[MoviePy] >>>> Video ready: ..\\VideoArchives\\Yu Chung Hon PHM515 CS3 11-21-2017 - chunghon.mp4 \n",
      "\n",
      "[MoviePy] >>>> Building video ..\\VideoArchives\\Zheng Alice PHM515 CS3 11-21-2017 - alicezhe.mp4\n",
      "[MoviePy] Writing audio in Zheng Alice PHM515 CS3 11-21-2017 - alicezheTEMP_MPY_wvf_snd.mp3\n"
     ]
    },
    {
     "name": "stderr",
     "output_type": "stream",
     "text": [
      "100%|███████████████████████████████████| 85907/85907 [01:27<00:00, 982.72it/s]\n"
     ]
    },
    {
     "name": "stdout",
     "output_type": "stream",
     "text": [
      "[MoviePy] Done.\n",
      "[MoviePy] Writing video ..\\VideoArchives\\Zheng Alice PHM515 CS3 11-21-2017 - alicezhe.mp4\n"
     ]
    },
    {
     "name": "stderr",
     "output_type": "stream",
     "text": [
      "100%|████████████████████████████████████| 58402/58402 [18:42<00:00, 52.04it/s]\n"
     ]
    },
    {
     "name": "stdout",
     "output_type": "stream",
     "text": [
      "[MoviePy] Done.\n",
      "[MoviePy] >>>> Video ready: ..\\VideoArchives\\Zheng Alice PHM515 CS3 11-21-2017 - alicezhe.mp4 \n",
      "\n",
      "[MoviePy] >>>> Building video ..\\VideoArchives\\Zheng Xinyue PHM515 CS3 11-21-2017 - xzheng9.mp4\n",
      "[MoviePy] Writing audio in Zheng Xinyue PHM515 CS3 11-21-2017 - xzheng9TEMP_MPY_wvf_snd.mp3\n"
     ]
    },
    {
     "name": "stderr",
     "output_type": "stream",
     "text": [
      "100%|█████████████████████████████████████| 9482/9482 [00:09<00:00, 961.47it/s]\n"
     ]
    },
    {
     "name": "stdout",
     "output_type": "stream",
     "text": [
      "[MoviePy] Done.\n",
      "[MoviePy] Writing video ..\\VideoArchives\\Zheng Xinyue PHM515 CS3 11-21-2017 - xzheng9.mp4\n"
     ]
    },
    {
     "name": "stderr",
     "output_type": "stream",
     "text": [
      "100%|██████████████████████████████████████| 6446/6446 [02:14<00:00, 47.85it/s]\n"
     ]
    },
    {
     "name": "stdout",
     "output_type": "stream",
     "text": [
      "[MoviePy] Done.\n",
      "[MoviePy] >>>> Video ready: ..\\VideoArchives\\Zheng Xinyue PHM515 CS3 11-21-2017 - xzheng9.mp4 \n",
      "\n"
     ]
    }
   ],
   "source": [
    "start=time.time()\n",
    "for room in rooms:\n",
    "    try:\n",
    "        clip=VideoFileClip(\"..\\\\VideoArchives\\\\250\"+room+\".asf\")\n",
    "        for i in X[X[\"Rooms\"]==\"250\"+room].index:\n",
    "            if(X[X[\"Rooms\"]==\"250\"+room][\"Done\"][i]==\"Yes\"):\n",
    "                st=X[X[\"Rooms\"]==\"250\"+room][\"Start_time\"][i]\n",
    "                et=X[X[\"Rooms\"]==\"250\"+room][\"End_time\"][i]\n",
    "                fileName=X[X[\"Rooms\"]==\"250\"+room][\"FileName\"][i]            \n",
    "                newclip=clip.subclip(t_start=(st.hour - offset,st.minute,st.second), t_end=(et.hour - offset,et.minute,et.second))\n",
    "                newclip.write_videofile(\"..\\\\VideoArchives\\\\\"+fileName+\".mp4\")\n",
    "    except:\n",
    "        continue            \n",
    "end=time.time()"
   ]
  },
  {
   "cell_type": "markdown",
   "metadata": {},
   "source": [
    "# ============================================================\n"
   ]
  },
  {
   "cell_type": "code",
   "execution_count": 14,
   "metadata": {
    "collapsed": true
   },
   "outputs": [],
   "source": [
    "clip=VideoFileClip(\"..\\\\VideoArchives\\\\250\"+room+\".asf\")"
   ]
  },
  {
   "cell_type": "code",
   "execution_count": 19,
   "metadata": {
    "scrolled": false
   },
   "outputs": [
    {
     "name": "stdout",
     "output_type": "stream",
     "text": [
      "[MoviePy] >>>> Building video ..\\VideoArchives\\PHM 516 - 11-07-2017 - Room 250M - atuldila.mp4\n",
      "[MoviePy] Writing audio in PHM 516 - 11-07-2017 - Room 250M - atuldilaTEMP_MPY_wvf_snd.mp3\n"
     ]
    },
    {
     "name": "stderr",
     "output_type": "stream",
     "text": [
      "100%|██████████████████████████████████| 17773/17773 [00:16<00:00, 1052.24it/s]\n"
     ]
    },
    {
     "name": "stdout",
     "output_type": "stream",
     "text": [
      "[MoviePy] Done.\n",
      "[MoviePy] Writing video ..\\VideoArchives\\PHM 516 - 11-07-2017 - Room 250M - atuldila.mp4\n"
     ]
    },
    {
     "name": "stderr",
     "output_type": "stream",
     "text": [
      "100%|████████████████████████████████████| 12082/12082 [02:39<00:00, 75.70it/s]\n"
     ]
    },
    {
     "name": "stdout",
     "output_type": "stream",
     "text": [
      "[MoviePy] Done.\n",
      "[MoviePy] >>>> Video ready: ..\\VideoArchives\\PHM 516 - 11-07-2017 - Room 250M - atuldila.mp4 \n",
      "\n",
      "[MoviePy] >>>> Building video ..\\VideoArchives\\PHM 516 - 11-07-2017 - Room 250M - leaperry.mp4\n",
      "[MoviePy] Writing audio in PHM 516 - 11-07-2017 - Room 250M - leaperryTEMP_MPY_wvf_snd.mp3\n"
     ]
    },
    {
     "name": "stderr",
     "output_type": "stream",
     "text": [
      "100%|██████████████████████████████████| 17993/17993 [00:16<00:00, 1121.09it/s]\n"
     ]
    },
    {
     "name": "stdout",
     "output_type": "stream",
     "text": [
      "[MoviePy] Done.\n",
      "[MoviePy] Writing video ..\\VideoArchives\\PHM 516 - 11-07-2017 - Room 250M - leaperry.mp4\n"
     ]
    },
    {
     "name": "stderr",
     "output_type": "stream",
     "text": [
      "100%|████████████████████████████████████| 12232/12232 [03:28<00:00, 58.76it/s]\n"
     ]
    },
    {
     "name": "stdout",
     "output_type": "stream",
     "text": [
      "[MoviePy] Done.\n",
      "[MoviePy] >>>> Video ready: ..\\VideoArchives\\PHM 516 - 11-07-2017 - Room 250M - leaperry.mp4 \n",
      "\n",
      "[MoviePy] >>>> Building video ..\\VideoArchives\\PHM 516 - 11-07-2017 - Room 250M - pauleena.mp4\n",
      "[MoviePy] Writing audio in PHM 516 - 11-07-2017 - Room 250M - pauleenaTEMP_MPY_wvf_snd.mp3\n"
     ]
    },
    {
     "name": "stderr",
     "output_type": "stream",
     "text": [
      "100%|██████████████████████████████████| 18148/18148 [00:15<00:00, 1147.55it/s]\n"
     ]
    },
    {
     "name": "stdout",
     "output_type": "stream",
     "text": [
      "[MoviePy] Done.\n",
      "[MoviePy] Writing video ..\\VideoArchives\\PHM 516 - 11-07-2017 - Room 250M - pauleena.mp4\n"
     ]
    },
    {
     "name": "stderr",
     "output_type": "stream",
     "text": [
      "100%|████████████████████████████████████| 12337/12337 [02:59<00:00, 68.60it/s]\n"
     ]
    },
    {
     "name": "stdout",
     "output_type": "stream",
     "text": [
      "[MoviePy] Done.\n",
      "[MoviePy] >>>> Video ready: ..\\VideoArchives\\PHM 516 - 11-07-2017 - Room 250M - pauleena.mp4 \n",
      "\n",
      "[MoviePy] >>>> Building video ..\\VideoArchives\\PHM 516 - 11-07-2017 - Room 250M - shanitho.mp4\n",
      "[MoviePy] Writing audio in PHM 516 - 11-07-2017 - Room 250M - shanithoTEMP_MPY_wvf_snd.mp3\n"
     ]
    },
    {
     "name": "stderr",
     "output_type": "stream",
     "text": [
      "100%|███████████████████████████████████| 10496/10496 [00:18<00:00, 556.14it/s]\n"
     ]
    },
    {
     "name": "stdout",
     "output_type": "stream",
     "text": [
      "[MoviePy] Done.\n",
      "[MoviePy] Writing video ..\\VideoArchives\\PHM 516 - 11-07-2017 - Room 250M - shanitho.mp4\n"
     ]
    },
    {
     "name": "stderr",
     "output_type": "stream",
     "text": [
      "100%|██████████████████████████████████████| 7136/7136 [01:57<00:00, 60.48it/s]\n"
     ]
    },
    {
     "name": "stdout",
     "output_type": "stream",
     "text": [
      "[MoviePy] Done.\n",
      "[MoviePy] >>>> Video ready: ..\\VideoArchives\\PHM 516 - 11-07-2017 - Room 250M - shanitho.mp4 \n",
      "\n",
      "[MoviePy] >>>> Building video ..\\VideoArchives\\PHM 516 - 11-07-2017 - Room 250M - vinsonen.mp4\n",
      "[MoviePy] Writing audio in PHM 516 - 11-07-2017 - Room 250M - vinsonenTEMP_MPY_wvf_snd.mp3\n"
     ]
    },
    {
     "name": "stderr",
     "output_type": "stream",
     "text": [
      "100%|██████████████████████████████████| 13451/13451 [00:11<00:00, 1183.01it/s]\n"
     ]
    },
    {
     "name": "stdout",
     "output_type": "stream",
     "text": [
      "[MoviePy] Done.\n",
      "[MoviePy] Writing video ..\\VideoArchives\\PHM 516 - 11-07-2017 - Room 250M - vinsonen.mp4\n"
     ]
    },
    {
     "name": "stderr",
     "output_type": "stream",
     "text": [
      "100%|██████████████████████████████████████| 9144/9144 [02:13<00:00, 45.69it/s]\n"
     ]
    },
    {
     "name": "stdout",
     "output_type": "stream",
     "text": [
      "[MoviePy] Done.\n",
      "[MoviePy] >>>> Video ready: ..\\VideoArchives\\PHM 516 - 11-07-2017 - Room 250M - vinsonen.mp4 \n",
      "\n",
      "[MoviePy] >>>> Building video ..\\VideoArchives\\PHM 516 - 11-07-2017 - Room 250M - yli272.mp4\n",
      "[MoviePy] Writing audio in PHM 516 - 11-07-2017 - Room 250M - yli272TEMP_MPY_wvf_snd.mp3\n"
     ]
    },
    {
     "name": "stderr",
     "output_type": "stream",
     "text": [
      "100%|███████████████████████████████████| 16119/16119 [00:18<00:00, 889.48it/s]\n"
     ]
    },
    {
     "name": "stdout",
     "output_type": "stream",
     "text": [
      "[MoviePy] Done.\n",
      "[MoviePy] Writing video ..\\VideoArchives\\PHM 516 - 11-07-2017 - Room 250M - yli272.mp4\n"
     ]
    },
    {
     "name": "stderr",
     "output_type": "stream",
     "text": [
      "100%|████████████████████████████████████| 10958/10958 [02:28<00:00, 74.03it/s]\n"
     ]
    },
    {
     "name": "stdout",
     "output_type": "stream",
     "text": [
      "[MoviePy] Done.\n",
      "[MoviePy] >>>> Video ready: ..\\VideoArchives\\PHM 516 - 11-07-2017 - Room 250M - yli272.mp4 \n",
      "\n",
      "[MoviePy] >>>> Building video ..\\VideoArchives\\PHM 516 - 11-07-2017 - Room 250M - hliang7.mp4\n",
      "[MoviePy] Writing audio in PHM 516 - 11-07-2017 - Room 250M - hliang7TEMP_MPY_wvf_snd.mp3\n"
     ]
    },
    {
     "name": "stderr",
     "output_type": "stream",
     "text": [
      "100%|██████████████████████████████████| 11444/11444 [00:09<00:00, 1165.85it/s]\n"
     ]
    },
    {
     "name": "stdout",
     "output_type": "stream",
     "text": [
      "[MoviePy] Done.\n",
      "[MoviePy] Writing video ..\\VideoArchives\\PHM 516 - 11-07-2017 - Room 250M - hliang7.mp4\n"
     ]
    },
    {
     "name": "stderr",
     "output_type": "stream",
     "text": [
      "100%|██████████████████████████████████████| 7780/7780 [02:27<00:00, 38.79it/s]\n"
     ]
    },
    {
     "name": "stdout",
     "output_type": "stream",
     "text": [
      "[MoviePy] Done.\n",
      "[MoviePy] >>>> Video ready: ..\\VideoArchives\\PHM 516 - 11-07-2017 - Room 250M - hliang7.mp4 \n",
      "\n",
      "[MoviePy] >>>> Building video ..\\VideoArchives\\PHM 516 - 11-07-2017 - Room 250M - hoyoungl.mp4\n",
      "[MoviePy] Writing audio in PHM 516 - 11-07-2017 - Room 250M - hoyounglTEMP_MPY_wvf_snd.mp3\n"
     ]
    },
    {
     "name": "stderr",
     "output_type": "stream",
     "text": [
      "100%|██████████████████████████████████| 14950/14950 [00:12<00:00, 1173.44it/s]\n"
     ]
    },
    {
     "name": "stdout",
     "output_type": "stream",
     "text": [
      "[MoviePy] Done.\n",
      "[MoviePy] Writing video ..\\VideoArchives\\PHM 516 - 11-07-2017 - Room 250M - hoyoungl.mp4\n"
     ]
    },
    {
     "name": "stderr",
     "output_type": "stream",
     "text": [
      "100%|████████████████████████████████████| 10164/10164 [02:53<00:00, 58.56it/s]\n"
     ]
    },
    {
     "name": "stdout",
     "output_type": "stream",
     "text": [
      "[MoviePy] Done.\n",
      "[MoviePy] >>>> Video ready: ..\\VideoArchives\\PHM 516 - 11-07-2017 - Room 250M - hoyoungl.mp4 \n",
      "\n",
      "[MoviePy] >>>> Building video ..\\VideoArchives\\PHM 516 - 11-07-2017 - Room 250M - alecroma.mp4\n",
      "[MoviePy] Writing audio in PHM 516 - 11-07-2017 - Room 250M - alecromaTEMP_MPY_wvf_snd.mp3\n"
     ]
    },
    {
     "name": "stderr",
     "output_type": "stream",
     "text": [
      "100%|██████████████████████████████████| 20904/20904 [00:17<00:00, 1168.81it/s]\n"
     ]
    },
    {
     "name": "stdout",
     "output_type": "stream",
     "text": [
      "[MoviePy] Done.\n",
      "[MoviePy] Writing video ..\\VideoArchives\\PHM 516 - 11-07-2017 - Room 250M - alecroma.mp4\n"
     ]
    },
    {
     "name": "stderr",
     "output_type": "stream",
     "text": [
      "100%|████████████████████████████████████| 14211/14211 [04:27<00:00, 35.83it/s]\n"
     ]
    },
    {
     "name": "stdout",
     "output_type": "stream",
     "text": [
      "[MoviePy] Done.\n",
      "[MoviePy] >>>> Video ready: ..\\VideoArchives\\PHM 516 - 11-07-2017 - Room 250M - alecroma.mp4 \n",
      "\n",
      "[MoviePy] >>>> Building video ..\\VideoArchives\\PHM 516 - 11-07-2017 - Room 250M - cmbanker.mp4\n",
      "[MoviePy] Writing audio in PHM 516 - 11-07-2017 - Room 250M - cmbankerTEMP_MPY_wvf_snd.mp3\n"
     ]
    },
    {
     "name": "stderr",
     "output_type": "stream",
     "text": [
      "100%|██████████████████████████████████| 16847/16847 [00:15<00:00, 1102.51it/s]\n"
     ]
    },
    {
     "name": "stdout",
     "output_type": "stream",
     "text": [
      "[MoviePy] Done.\n",
      "[MoviePy] Writing video ..\\VideoArchives\\PHM 516 - 11-07-2017 - Room 250M - cmbanker.mp4\n"
     ]
    },
    {
     "name": "stderr",
     "output_type": "stream",
     "text": [
      "100%|████████████████████████████████████| 11453/11453 [03:14<00:00, 58.85it/s]\n"
     ]
    },
    {
     "name": "stdout",
     "output_type": "stream",
     "text": [
      "[MoviePy] Done.\n",
      "[MoviePy] >>>> Video ready: ..\\VideoArchives\\PHM 516 - 11-07-2017 - Room 250M - cmbanker.mp4 \n",
      "\n",
      "[MoviePy] >>>> Building video ..\\VideoArchives\\PHM 516 - 11-07-2017 - Room 250M - alraditi.mp4\n",
      "[MoviePy] Writing audio in PHM 516 - 11-07-2017 - Room 250M - alraditiTEMP_MPY_wvf_snd.mp3\n"
     ]
    },
    {
     "name": "stderr",
     "output_type": "stream",
     "text": [
      "100%|██████████████████████████████████| 17376/17376 [00:15<00:00, 1148.48it/s]\n"
     ]
    },
    {
     "name": "stdout",
     "output_type": "stream",
     "text": [
      "[MoviePy] Done.\n",
      "[MoviePy] Writing video ..\\VideoArchives\\PHM 516 - 11-07-2017 - Room 250M - alraditi.mp4\n"
     ]
    },
    {
     "name": "stderr",
     "output_type": "stream",
     "text": [
      "100%|████████████████████████████████████| 11813/11813 [03:12<00:00, 61.50it/s]\n"
     ]
    },
    {
     "name": "stdout",
     "output_type": "stream",
     "text": [
      "[MoviePy] Done.\n",
      "[MoviePy] >>>> Video ready: ..\\VideoArchives\\PHM 516 - 11-07-2017 - Room 250M - alraditi.mp4 \n",
      "\n"
     ]
    }
   ],
   "source": [
    "start=time.time()\n",
    "for i in X[X[\"Rooms\"]==\"250\"+room].index:\n",
    "    if(X[X[\"Rooms\"]==\"250\"+room][\"Done\"][i]==\"Yes\"):\n",
    "        st=X[X[\"Rooms\"]==\"250\"+room][\"Start_time\"][i]\n",
    "        et=X[X[\"Rooms\"]==\"250\"+room][\"End_time\"][i]\n",
    "        fileName=X[X[\"Rooms\"]==\"250\"+room][\"FileName\"][i]\n",
    "        newclip=clip.subclip(t_start=(st.hour - offsetHour,st.minute,st.second), t_end=(et.hour - offsetHour,et.minute,et.second))\n",
    "        newclip.write_videofile(\"..\\\\VideoArchives\\\\\"+fileName+\".mp4\")\n",
    "end=time.time()"
   ]
  },
  {
   "cell_type": "code",
   "execution_count": 24,
   "metadata": {},
   "outputs": [
    {
     "data": {
      "text/plain": [
       "2105.405519247055"
      ]
     },
     "execution_count": 24,
     "metadata": {},
     "output_type": "execute_result"
    }
   ],
   "source": [
    "end-start"
   ]
  },
  {
   "cell_type": "markdown",
   "metadata": {},
   "source": [
    "# =============================================================="
   ]
  },
  {
   "cell_type": "code",
   "execution_count": 17,
   "metadata": {},
   "outputs": [
    {
     "data": {
      "text/html": [
       "<div>\n",
       "<style>\n",
       "    .dataframe thead tr:only-child th {\n",
       "        text-align: right;\n",
       "    }\n",
       "\n",
       "    .dataframe thead th {\n",
       "        text-align: left;\n",
       "    }\n",
       "\n",
       "    .dataframe tbody tr th {\n",
       "        vertical-align: top;\n",
       "    }\n",
       "</style>\n",
       "<table border=\"1\" class=\"dataframe\">\n",
       "  <thead>\n",
       "    <tr style=\"text-align: right;\">\n",
       "      <th></th>\n",
       "      <th>Date</th>\n",
       "      <th>Course</th>\n",
       "      <th>Rooms</th>\n",
       "      <th>Student(Last,First)</th>\n",
       "      <th>StudentID</th>\n",
       "      <th>Recorded</th>\n",
       "      <th>StudentFolderDue</th>\n",
       "      <th>FeedUsed</th>\n",
       "      <th>Start_time</th>\n",
       "      <th>End_time</th>\n",
       "      <th>Done</th>\n",
       "      <th>DueIn</th>\n",
       "      <th>FileName</th>\n",
       "      <th>FolderName</th>\n",
       "      <th>FilePath</th>\n",
       "      <th>Alias</th>\n",
       "      <th>LastName</th>\n",
       "      <th>FirstName</th>\n",
       "      <th>File</th>\n",
       "    </tr>\n",
       "  </thead>\n",
       "  <tbody>\n",
       "    <tr>\n",
       "      <th>6</th>\n",
       "      <td>2017-11-14</td>\n",
       "      <td>PHM 515</td>\n",
       "      <td>250G</td>\n",
       "      <td>Sherpa,Chheten</td>\n",
       "      <td>chhetens</td>\n",
       "      <td>Yes</td>\n",
       "      <td>2017-11-21</td>\n",
       "      <td>NaN</td>\n",
       "      <td>07:44:30</td>\n",
       "      <td>07:54:48</td>\n",
       "      <td>Yes</td>\n",
       "      <td>Done</td>\n",
       "      <td>PHM 515 - 11-14-2017 - Room 250G - chhetens</td>\n",
       "      <td>chhetens</td>\n",
       "      <td>V:\\Students\\chhetens</td>\n",
       "      <td>NaN</td>\n",
       "      <td>NaN</td>\n",
       "      <td>NaN</td>\n",
       "      <td>V:\\Students\\chhetens\\PHM 515 - 11-14-2017 - Ro...</td>\n",
       "    </tr>\n",
       "    <tr>\n",
       "      <th>18</th>\n",
       "      <td>2017-11-14</td>\n",
       "      <td>PHM 515</td>\n",
       "      <td>250G</td>\n",
       "      <td>Yu,Chung Hon</td>\n",
       "      <td>chunghon</td>\n",
       "      <td>Yes</td>\n",
       "      <td>2017-11-21</td>\n",
       "      <td>NaN</td>\n",
       "      <td>08:07:01</td>\n",
       "      <td>08:14:48</td>\n",
       "      <td>Yes</td>\n",
       "      <td>Done</td>\n",
       "      <td>PHM 515 - 11-14-2017 - Room 250G - chunghon</td>\n",
       "      <td>chunghon</td>\n",
       "      <td>V:\\Students\\chunghon</td>\n",
       "      <td>NaN</td>\n",
       "      <td>NaN</td>\n",
       "      <td>NaN</td>\n",
       "      <td>V:\\Students\\chunghon\\PHM 515 - 11-14-2017 - Ro...</td>\n",
       "    </tr>\n",
       "    <tr>\n",
       "      <th>30</th>\n",
       "      <td>2017-11-14</td>\n",
       "      <td>PHM 515</td>\n",
       "      <td>250G</td>\n",
       "      <td>Wat,Sang Kit</td>\n",
       "      <td>sangkitw</td>\n",
       "      <td>Yes</td>\n",
       "      <td>2017-11-21</td>\n",
       "      <td>NaN</td>\n",
       "      <td>08:36:08</td>\n",
       "      <td>08:42:45</td>\n",
       "      <td>Yes</td>\n",
       "      <td>Done</td>\n",
       "      <td>PHM 515 - 11-14-2017 - Room 250G - sangkitw</td>\n",
       "      <td>sangkitw</td>\n",
       "      <td>V:\\Students\\sangkitw</td>\n",
       "      <td>NaN</td>\n",
       "      <td>NaN</td>\n",
       "      <td>NaN</td>\n",
       "      <td>V:\\Students\\sangkitw\\PHM 515 - 11-14-2017 - Ro...</td>\n",
       "    </tr>\n",
       "    <tr>\n",
       "      <th>42</th>\n",
       "      <td>2017-11-14</td>\n",
       "      <td>PHM 515</td>\n",
       "      <td>250G</td>\n",
       "      <td>Zheng,Alice</td>\n",
       "      <td>alicezhe</td>\n",
       "      <td>Yes</td>\n",
       "      <td>2017-11-21</td>\n",
       "      <td>NaN</td>\n",
       "      <td>09:02:07</td>\n",
       "      <td>09:09:40</td>\n",
       "      <td>Yes</td>\n",
       "      <td>Done</td>\n",
       "      <td>PHM 515 - 11-14-2017 - Room 250G - alicezhe</td>\n",
       "      <td>alicezhe</td>\n",
       "      <td>V:\\Students\\alicezhe</td>\n",
       "      <td>NaN</td>\n",
       "      <td>NaN</td>\n",
       "      <td>NaN</td>\n",
       "      <td>V:\\Students\\alicezhe\\PHM 515 - 11-14-2017 - Ro...</td>\n",
       "    </tr>\n",
       "    <tr>\n",
       "      <th>54</th>\n",
       "      <td>2017-11-14</td>\n",
       "      <td>PHM 515</td>\n",
       "      <td>250G</td>\n",
       "      <td>Tse,Andy</td>\n",
       "      <td>atse</td>\n",
       "      <td>Yes</td>\n",
       "      <td>2017-11-21</td>\n",
       "      <td>NaN</td>\n",
       "      <td>09:24:13</td>\n",
       "      <td>09:30:20</td>\n",
       "      <td>Yes</td>\n",
       "      <td>Done</td>\n",
       "      <td>PHM 515 - 11-14-2017 - Room 250G - atse</td>\n",
       "      <td>atse</td>\n",
       "      <td>V:\\Students\\atse</td>\n",
       "      <td>NaN</td>\n",
       "      <td>NaN</td>\n",
       "      <td>NaN</td>\n",
       "      <td>V:\\Students\\atse\\PHM 515 - 11-14-2017 - Room 2...</td>\n",
       "    </tr>\n",
       "    <tr>\n",
       "      <th>66</th>\n",
       "      <td>2017-11-14</td>\n",
       "      <td>PHM 515</td>\n",
       "      <td>250G</td>\n",
       "      <td>Vogt,James</td>\n",
       "      <td>jamesvog</td>\n",
       "      <td>Yes</td>\n",
       "      <td>2017-11-21</td>\n",
       "      <td>NaN</td>\n",
       "      <td>09:44:16</td>\n",
       "      <td>09:51:52</td>\n",
       "      <td>Yes</td>\n",
       "      <td>Done</td>\n",
       "      <td>PHM 515 - 11-14-2017 - Room 250G - jamesvog</td>\n",
       "      <td>jamesvog</td>\n",
       "      <td>V:\\Students\\jamesvog</td>\n",
       "      <td>NaN</td>\n",
       "      <td>NaN</td>\n",
       "      <td>NaN</td>\n",
       "      <td>V:\\Students\\jamesvog\\PHM 515 - 11-14-2017 - Ro...</td>\n",
       "    </tr>\n",
       "    <tr>\n",
       "      <th>78</th>\n",
       "      <td>2017-11-14</td>\n",
       "      <td>PHM 515</td>\n",
       "      <td>250G</td>\n",
       "      <td>Chen,Zhilei</td>\n",
       "      <td>zhileich</td>\n",
       "      <td>Yes</td>\n",
       "      <td>2017-11-21</td>\n",
       "      <td>NaN</td>\n",
       "      <td>10:05:54</td>\n",
       "      <td>10:13:55</td>\n",
       "      <td>Yes</td>\n",
       "      <td>Done</td>\n",
       "      <td>PHM 515 - 11-14-2017 - Room 250G - zhileich</td>\n",
       "      <td>zhileich</td>\n",
       "      <td>V:\\Students\\zhileich</td>\n",
       "      <td>NaN</td>\n",
       "      <td>NaN</td>\n",
       "      <td>NaN</td>\n",
       "      <td>V:\\Students\\zhileich\\PHM 515 - 11-14-2017 - Ro...</td>\n",
       "    </tr>\n",
       "    <tr>\n",
       "      <th>90</th>\n",
       "      <td>2017-11-14</td>\n",
       "      <td>PHM 515</td>\n",
       "      <td>250G</td>\n",
       "      <td>Zheng,Xinyue</td>\n",
       "      <td>xzheng9</td>\n",
       "      <td>Yes</td>\n",
       "      <td>2017-11-21</td>\n",
       "      <td>NaN</td>\n",
       "      <td>10:27:14</td>\n",
       "      <td>10:37:23</td>\n",
       "      <td>Yes</td>\n",
       "      <td>Done</td>\n",
       "      <td>PHM 515 - 11-14-2017 - Room 250G - xzheng9</td>\n",
       "      <td>xzheng9</td>\n",
       "      <td>V:\\Students\\xzheng9</td>\n",
       "      <td>NaN</td>\n",
       "      <td>NaN</td>\n",
       "      <td>NaN</td>\n",
       "      <td>V:\\Students\\xzheng9\\PHM 515 - 11-14-2017 - Roo...</td>\n",
       "    </tr>\n",
       "    <tr>\n",
       "      <th>102</th>\n",
       "      <td>2017-11-14</td>\n",
       "      <td>PHM 515</td>\n",
       "      <td>250G</td>\n",
       "      <td>Kanika,Kamrun</td>\n",
       "      <td>kamrunka</td>\n",
       "      <td>Yes</td>\n",
       "      <td>2017-11-21</td>\n",
       "      <td>NaN</td>\n",
       "      <td>10:43:44</td>\n",
       "      <td>10:49:29</td>\n",
       "      <td>Yes</td>\n",
       "      <td>Done</td>\n",
       "      <td>PHM 515 - 11-14-2017 - Room 250G - kamrunka</td>\n",
       "      <td>kamrunka</td>\n",
       "      <td>V:\\Students\\kamrunka</td>\n",
       "      <td>NaN</td>\n",
       "      <td>NaN</td>\n",
       "      <td>NaN</td>\n",
       "      <td>V:\\Students\\kamrunka\\PHM 515 - 11-14-2017 - Ro...</td>\n",
       "    </tr>\n",
       "    <tr>\n",
       "      <th>114</th>\n",
       "      <td>2017-11-14</td>\n",
       "      <td>PHM 515</td>\n",
       "      <td>250G</td>\n",
       "      <td>Pudim III,Edward</td>\n",
       "      <td>epudim</td>\n",
       "      <td>Yes</td>\n",
       "      <td>2017-11-21</td>\n",
       "      <td>NaN</td>\n",
       "      <td>11:03:24</td>\n",
       "      <td>11:08:11</td>\n",
       "      <td>Yes</td>\n",
       "      <td>Done</td>\n",
       "      <td>PHM 515 - 11-14-2017 - Room 250G - epudim</td>\n",
       "      <td>epudim</td>\n",
       "      <td>V:\\Students\\epudim</td>\n",
       "      <td>NaN</td>\n",
       "      <td>NaN</td>\n",
       "      <td>NaN</td>\n",
       "      <td>V:\\Students\\epudim\\PHM 515 - 11-14-2017 - Room...</td>\n",
       "    </tr>\n",
       "    <tr>\n",
       "      <th>126</th>\n",
       "      <td>2017-11-14</td>\n",
       "      <td>PHM 515</td>\n",
       "      <td>250G</td>\n",
       "      <td>Krikheli,Maggie</td>\n",
       "      <td>maggiekr</td>\n",
       "      <td>Yes</td>\n",
       "      <td>2017-11-21</td>\n",
       "      <td>NaN</td>\n",
       "      <td>11:19:07</td>\n",
       "      <td>11:30:18</td>\n",
       "      <td>Yes</td>\n",
       "      <td>Done</td>\n",
       "      <td>PHM 515 - 11-14-2017 - Room 250G - maggiekr</td>\n",
       "      <td>maggiekr</td>\n",
       "      <td>V:\\Students\\maggiekr</td>\n",
       "      <td>NaN</td>\n",
       "      <td>NaN</td>\n",
       "      <td>NaN</td>\n",
       "      <td>V:\\Students\\maggiekr\\PHM 515 - 11-14-2017 - Ro...</td>\n",
       "    </tr>\n",
       "  </tbody>\n",
       "</table>\n",
       "</div>"
      ],
      "text/plain": [
       "          Date   Course Rooms Student(Last,First) StudentID Recorded  \\\n",
       "6   2017-11-14  PHM 515  250G      Sherpa,Chheten  chhetens      Yes   \n",
       "18  2017-11-14  PHM 515  250G        Yu,Chung Hon  chunghon      Yes   \n",
       "30  2017-11-14  PHM 515  250G        Wat,Sang Kit  sangkitw      Yes   \n",
       "42  2017-11-14  PHM 515  250G         Zheng,Alice  alicezhe      Yes   \n",
       "54  2017-11-14  PHM 515  250G            Tse,Andy      atse      Yes   \n",
       "66  2017-11-14  PHM 515  250G          Vogt,James  jamesvog      Yes   \n",
       "78  2017-11-14  PHM 515  250G         Chen,Zhilei  zhileich      Yes   \n",
       "90  2017-11-14  PHM 515  250G        Zheng,Xinyue   xzheng9      Yes   \n",
       "102 2017-11-14  PHM 515  250G       Kanika,Kamrun  kamrunka      Yes   \n",
       "114 2017-11-14  PHM 515  250G    Pudim III,Edward    epudim      Yes   \n",
       "126 2017-11-14  PHM 515  250G     Krikheli,Maggie  maggiekr      Yes   \n",
       "\n",
       "    StudentFolderDue  FeedUsed Start_time  End_time Done DueIn  \\\n",
       "6         2017-11-21       NaN   07:44:30  07:54:48  Yes  Done   \n",
       "18        2017-11-21       NaN   08:07:01  08:14:48  Yes  Done   \n",
       "30        2017-11-21       NaN   08:36:08  08:42:45  Yes  Done   \n",
       "42        2017-11-21       NaN   09:02:07  09:09:40  Yes  Done   \n",
       "54        2017-11-21       NaN   09:24:13  09:30:20  Yes  Done   \n",
       "66        2017-11-21       NaN   09:44:16  09:51:52  Yes  Done   \n",
       "78        2017-11-21       NaN   10:05:54  10:13:55  Yes  Done   \n",
       "90        2017-11-21       NaN   10:27:14  10:37:23  Yes  Done   \n",
       "102       2017-11-21       NaN   10:43:44  10:49:29  Yes  Done   \n",
       "114       2017-11-21       NaN   11:03:24  11:08:11  Yes  Done   \n",
       "126       2017-11-21       NaN   11:19:07  11:30:18  Yes  Done   \n",
       "\n",
       "                                        FileName FolderName  \\\n",
       "6    PHM 515 - 11-14-2017 - Room 250G - chhetens   chhetens   \n",
       "18   PHM 515 - 11-14-2017 - Room 250G - chunghon   chunghon   \n",
       "30   PHM 515 - 11-14-2017 - Room 250G - sangkitw   sangkitw   \n",
       "42   PHM 515 - 11-14-2017 - Room 250G - alicezhe   alicezhe   \n",
       "54       PHM 515 - 11-14-2017 - Room 250G - atse       atse   \n",
       "66   PHM 515 - 11-14-2017 - Room 250G - jamesvog   jamesvog   \n",
       "78   PHM 515 - 11-14-2017 - Room 250G - zhileich   zhileich   \n",
       "90    PHM 515 - 11-14-2017 - Room 250G - xzheng9    xzheng9   \n",
       "102  PHM 515 - 11-14-2017 - Room 250G - kamrunka   kamrunka   \n",
       "114    PHM 515 - 11-14-2017 - Room 250G - epudim     epudim   \n",
       "126  PHM 515 - 11-14-2017 - Room 250G - maggiekr   maggiekr   \n",
       "\n",
       "                 FilePath  Alias  LastName  FirstName  \\\n",
       "6    V:\\Students\\chhetens    NaN       NaN        NaN   \n",
       "18   V:\\Students\\chunghon    NaN       NaN        NaN   \n",
       "30   V:\\Students\\sangkitw    NaN       NaN        NaN   \n",
       "42   V:\\Students\\alicezhe    NaN       NaN        NaN   \n",
       "54       V:\\Students\\atse    NaN       NaN        NaN   \n",
       "66   V:\\Students\\jamesvog    NaN       NaN        NaN   \n",
       "78   V:\\Students\\zhileich    NaN       NaN        NaN   \n",
       "90    V:\\Students\\xzheng9    NaN       NaN        NaN   \n",
       "102  V:\\Students\\kamrunka    NaN       NaN        NaN   \n",
       "114    V:\\Students\\epudim    NaN       NaN        NaN   \n",
       "126  V:\\Students\\maggiekr    NaN       NaN        NaN   \n",
       "\n",
       "                                                  File  \n",
       "6    V:\\Students\\chhetens\\PHM 515 - 11-14-2017 - Ro...  \n",
       "18   V:\\Students\\chunghon\\PHM 515 - 11-14-2017 - Ro...  \n",
       "30   V:\\Students\\sangkitw\\PHM 515 - 11-14-2017 - Ro...  \n",
       "42   V:\\Students\\alicezhe\\PHM 515 - 11-14-2017 - Ro...  \n",
       "54   V:\\Students\\atse\\PHM 515 - 11-14-2017 - Room 2...  \n",
       "66   V:\\Students\\jamesvog\\PHM 515 - 11-14-2017 - Ro...  \n",
       "78   V:\\Students\\zhileich\\PHM 515 - 11-14-2017 - Ro...  \n",
       "90   V:\\Students\\xzheng9\\PHM 515 - 11-14-2017 - Roo...  \n",
       "102  V:\\Students\\kamrunka\\PHM 515 - 11-14-2017 - Ro...  \n",
       "114  V:\\Students\\epudim\\PHM 515 - 11-14-2017 - Room...  \n",
       "126  V:\\Students\\maggiekr\\PHM 515 - 11-14-2017 - Ro...  "
      ]
     },
     "execution_count": 17,
     "metadata": {},
     "output_type": "execute_result"
    }
   ],
   "source": [
    "X[X[\"Rooms\"]==\"250G\"]"
   ]
  },
  {
   "cell_type": "code",
   "execution_count": 18,
   "metadata": {
    "collapsed": true
   },
   "outputs": [],
   "source": [
    "st=X[X[\"Rooms\"]==\"250G\"][\"Start_time\"][126]\n",
    "et=X[X[\"Rooms\"]==\"250G\"][\"End_time\"][126]"
   ]
  },
  {
   "cell_type": "code",
   "execution_count": 45,
   "metadata": {},
   "outputs": [
    {
     "ename": "NameError",
     "evalue": "name 'datetime' is not defined",
     "output_type": "error",
     "traceback": [
      "\u001b[1;31m---------------------------------------------------------------------------\u001b[0m",
      "\u001b[1;31mNameError\u001b[0m                                 Traceback (most recent call last)",
      "\u001b[1;32m<ipython-input-45-5cc1bd3a64f4>\u001b[0m in \u001b[0;36m<module>\u001b[1;34m()\u001b[0m\n\u001b[1;32m----> 1\u001b[1;33m \u001b[0moffset\u001b[0m\u001b[1;33m=\u001b[0m\u001b[0mpd\u001b[0m\u001b[1;33m.\u001b[0m\u001b[0mdatetime\u001b[0m\u001b[1;33m.\u001b[0m\u001b[0mtime\u001b[0m\u001b[1;33m(\u001b[0m\u001b[0mdatetime\u001b[0m\u001b[1;33m.\u001b[0m\u001b[0mtime\u001b[0m\u001b[1;33m(\u001b[0m\u001b[1;36m7\u001b[0m\u001b[1;33m,\u001b[0m\u001b[1;36m30\u001b[0m\u001b[1;33m,\u001b[0m\u001b[1;36m0\u001b[0m\u001b[1;33m)\u001b[0m\u001b[1;33m)\u001b[0m\u001b[1;33m\u001b[0m\u001b[0m\n\u001b[0m",
      "\u001b[1;31mNameError\u001b[0m: name 'datetime' is not defined"
     ]
    }
   ],
   "source": [
    "offset=pd.datetime.time(datetime.time(7,30,0))"
   ]
  },
  {
   "cell_type": "code",
   "execution_count": 53,
   "metadata": {
    "collapsed": true
   },
   "outputs": [],
   "source": [
    "import datetime"
   ]
  },
  {
   "cell_type": "code",
   "execution_count": 56,
   "metadata": {},
   "outputs": [
    {
     "data": {
      "text/plain": [
       "datetime.time(7, 30)"
      ]
     },
     "execution_count": 56,
     "metadata": {},
     "output_type": "execute_result"
    }
   ],
   "source": [
    "datetime.time(7,30,0)"
   ]
  },
  {
   "cell_type": "code",
   "execution_count": 25,
   "metadata": {
    "collapsed": true
   },
   "outputs": [],
   "source": [
    "value=datetime.combine(date.today(),st) - datetime.combine(date.today(), offset)"
   ]
  },
  {
   "cell_type": "code",
   "execution_count": 26,
   "metadata": {},
   "outputs": [
    {
     "data": {
      "text/plain": [
       "datetime.timedelta(0, 13747)"
      ]
     },
     "execution_count": 26,
     "metadata": {},
     "output_type": "execute_result"
    }
   ],
   "source": [
    "value"
   ]
  },
  {
   "cell_type": "code",
   "execution_count": 27,
   "metadata": {},
   "outputs": [
    {
     "data": {
      "text/plain": [
       "datetime.time(3, 49, 7)"
      ]
     },
     "execution_count": 27,
     "metadata": {},
     "output_type": "execute_result"
    }
   ],
   "source": [
    "(datetime.min + value).time()"
   ]
  },
  {
   "cell_type": "code",
   "execution_count": 23,
   "metadata": {},
   "outputs": [
    {
     "data": {
      "text/plain": [
       "datetime.time"
      ]
     },
     "execution_count": 23,
     "metadata": {},
     "output_type": "execute_result"
    }
   ],
   "source": [
    "type(st)"
   ]
  },
  {
   "cell_type": "code",
   "execution_count": 24,
   "metadata": {},
   "outputs": [
    {
     "data": {
      "text/plain": [
       "datetime.time(11, 30, 18)"
      ]
     },
     "execution_count": 24,
     "metadata": {},
     "output_type": "execute_result"
    }
   ],
   "source": [
    "et"
   ]
  },
  {
   "cell_type": "code",
   "execution_count": 32,
   "metadata": {
    "collapsed": true
   },
   "outputs": [],
   "source": [
    "i=112\n",
    "room='E'"
   ]
  },
  {
   "cell_type": "code",
   "execution_count": 33,
   "metadata": {
    "scrolled": true
   },
   "outputs": [
    {
     "name": "stdout",
     "output_type": "stream",
     "text": [
      "[MoviePy] >>>> Building video ..\\VideoArchives\\PHM 515 - 11-14-2017 - Room 250E - fionawu.mp4\n",
      "[MoviePy] Writing audio in PHM 515 - 11-14-2017 - Room 250E - fionawuTEMP_MPY_wvf_snd.mp3\n"
     ]
    },
    {
     "name": "stderr",
     "output_type": "stream",
     "text": [
      "\n",
      "  0%|                                                | 0/10651 [00:00<?, ?it/s]\n",
      "  0%|                                        | 1/10651 [00:00<24:08,  7.35it/s]\n",
      "  1%|▍                                     | 110/10651 [00:00<16:46, 10.47it/s]\n",
      "  2%|▊                                     | 236/10651 [00:00<11:38, 14.91it/s]\n",
      "  3%|█▎                                    | 357/10651 [00:00<08:05, 21.19it/s]\n",
      "  4%|█▋                                    | 474/10651 [00:00<05:38, 30.03it/s]\n",
      "  5%|██                                    | 577/10651 [00:00<03:57, 42.37it/s]\n",
      "  7%|██▌                                   | 701/10651 [00:00<02:46, 59.63it/s]\n",
      "  8%|██▉                                   | 832/10651 [00:00<01:57, 83.56it/s]\n",
      "  9%|███▎                                 | 956/10651 [00:00<01:23, 116.02it/s]\n",
      " 10%|███▋                                | 1084/10651 [00:01<00:59, 159.55it/s]\n",
      " 11%|████                                | 1208/10651 [00:01<00:43, 216.01it/s]\n",
      " 12%|████▍                               | 1330/10651 [00:01<00:32, 286.82it/s]\n",
      " 14%|████▉                               | 1451/10651 [00:01<00:24, 369.90it/s]\n",
      " 15%|█████▎                              | 1581/10651 [00:01<00:19, 470.99it/s]\n",
      " 16%|█████▊                              | 1706/10651 [00:01<00:15, 579.29it/s]\n",
      " 17%|██████▏                             | 1837/10651 [00:01<00:12, 695.70it/s]\n",
      " 18%|██████▋                             | 1963/10651 [00:01<00:10, 796.05it/s]\n",
      " 20%|███████                             | 2088/10651 [00:01<00:09, 893.36it/s]\n",
      " 21%|███████▍                            | 2213/10651 [00:01<00:08, 974.68it/s]\n",
      " 22%|███████▋                           | 2342/10651 [00:02<00:07, 1051.78it/s]\n",
      " 23%|████████                           | 2468/10651 [00:02<00:07, 1095.07it/s]\n",
      " 24%|████████▌                          | 2598/10651 [00:02<00:07, 1149.40it/s]\n",
      " 26%|████████▉                          | 2724/10651 [00:02<00:06, 1160.87it/s]\n",
      " 27%|█████████▎                         | 2851/10651 [00:02<00:06, 1184.89it/s]\n",
      " 28%|█████████▊                         | 2977/10651 [00:02<00:06, 1206.43it/s]\n",
      " 29%|██████████▏                        | 3102/10651 [00:02<00:06, 1212.05it/s]\n",
      " 30%|██████████▌                        | 3232/10651 [00:02<00:05, 1237.12it/s]\n",
      " 32%|███████████                        | 3358/10651 [00:02<00:05, 1222.14it/s]\n",
      " 33%|███████████▍                       | 3491/10651 [00:02<00:05, 1252.58it/s]\n",
      " 34%|███████████▉                       | 3618/10651 [00:03<00:05, 1242.95it/s]\n",
      " 35%|████████████▎                      | 3750/10651 [00:03<00:05, 1265.07it/s]\n",
      " 36%|████████████▋                      | 3878/10651 [00:03<00:05, 1152.84it/s]\n",
      " 38%|█████████████▏                     | 3996/10651 [00:03<00:05, 1137.32it/s]\n",
      " 39%|█████████████▌                     | 4112/10651 [00:03<00:05, 1124.04it/s]\n",
      " 40%|█████████████▉                     | 4242/10651 [00:03<00:05, 1171.58it/s]\n",
      " 41%|██████████████▎                    | 4365/10651 [00:03<00:05, 1188.48it/s]\n",
      " 42%|██████████████▊                    | 4495/10651 [00:03<00:05, 1219.84it/s]\n",
      " 43%|███████████████▏                   | 4618/10651 [00:03<00:04, 1215.58it/s]\n",
      " 45%|███████████████▌                   | 4743/10651 [00:04<00:04, 1225.67it/s]\n",
      " 46%|███████████████▉                   | 4867/10651 [00:04<00:04, 1208.32it/s]\n",
      " 47%|████████████████▍                  | 4997/10651 [00:04<00:04, 1234.40it/s]\n",
      " 48%|████████████████▊                  | 5121/10651 [00:04<00:04, 1203.64it/s]\n",
      " 49%|█████████████████▏                 | 5242/10651 [00:04<00:04, 1198.34it/s]\n",
      " 50%|█████████████████▌                 | 5363/10651 [00:04<00:04, 1160.29it/s]\n",
      " 52%|██████████████████                 | 5489/10651 [00:04<00:04, 1188.47it/s]\n",
      " 53%|██████████████████▍                | 5614/10651 [00:04<00:04, 1206.25it/s]\n",
      " 54%|██████████████████▉                | 5747/10651 [00:04<00:03, 1240.85it/s]\n",
      " 55%|███████████████████▎               | 5872/10651 [00:04<00:03, 1228.87it/s]\n",
      " 56%|███████████████████▋               | 6001/10651 [00:05<00:03, 1232.27it/s]\n",
      " 58%|████████████████████▏              | 6134/10651 [00:05<00:03, 1260.01it/s]\n",
      " 59%|████████████████████▌              | 6261/10651 [00:05<00:03, 1255.46it/s]\n",
      " 60%|████████████████████▉              | 6388/10651 [00:05<00:03, 1259.75it/s]\n",
      " 61%|█████████████████████▍             | 6515/10651 [00:05<00:03, 1255.28it/s]\n",
      " 62%|█████████████████████▊             | 6641/10651 [00:05<00:03, 1216.61it/s]\n",
      " 64%|██████████████████████▏            | 6764/10651 [00:05<00:03, 1192.16it/s]\n",
      " 65%|██████████████████████▋            | 6891/10651 [00:05<00:03, 1214.46it/s]\n",
      " 66%|███████████████████████            | 7013/10651 [00:05<00:03, 1184.21it/s]\n",
      " 67%|███████████████████████▍           | 7145/10651 [00:05<00:02, 1221.88it/s]\n",
      " 68%|███████████████████████▉           | 7271/10651 [00:06<00:02, 1233.04it/s]\n",
      " 69%|████████████████████████▎          | 7401/10651 [00:06<00:02, 1245.16it/s]\n",
      " 71%|████████████████████████▋          | 7526/10651 [00:06<00:02, 1246.57it/s]\n",
      " 72%|█████████████████████████▏         | 7651/10651 [00:06<00:02, 1243.83it/s]\n",
      " 73%|█████████████████████████▌         | 7779/10651 [00:06<00:02, 1254.43it/s]\n",
      " 74%|█████████████████████████▉         | 7905/10651 [00:06<00:02, 1248.59it/s]\n",
      " 75%|██████████████████████████▍        | 8035/10651 [00:06<00:02, 1263.54it/s]\n",
      " 77%|██████████████████████████▊        | 8162/10651 [00:06<00:01, 1254.19it/s]\n",
      " 78%|███████████████████████████▏       | 8292/10651 [00:06<00:01, 1267.55it/s]\n",
      " 79%|███████████████████████████▋       | 8419/10651 [00:07<00:01, 1249.53it/s]\n",
      " 80%|████████████████████████████       | 8551/10651 [00:07<00:01, 1255.34it/s]\n",
      " 82%|████████████████████████████▌      | 8683/10651 [00:07<00:01, 1274.02it/s]\n",
      " 83%|████████████████████████████▉      | 8811/10651 [00:07<00:01, 1271.97it/s]\n",
      " 84%|█████████████████████████████▍     | 8941/10651 [00:07<00:01, 1280.21it/s]\n",
      " 85%|█████████████████████████████▊     | 9070/10651 [00:07<00:01, 1256.84it/s]\n",
      " 86%|██████████████████████████████▏    | 9196/10651 [00:07<00:01, 1257.75it/s]\n",
      " 88%|██████████████████████████████▋    | 9322/10651 [00:07<00:01, 1239.81it/s]\n",
      " 89%|███████████████████████████████    | 9451/10651 [00:07<00:00, 1239.94it/s]\n",
      " 90%|███████████████████████████████▍   | 9585/10651 [00:07<00:00, 1268.32it/s]\n",
      " 91%|███████████████████████████████▉   | 9713/10651 [00:08<00:00, 1249.42it/s]\n",
      " 92%|████████████████████████████████▎  | 9844/10651 [00:08<00:00, 1266.96it/s]\n",
      " 94%|████████████████████████████████▊  | 9971/10651 [00:08<00:00, 1245.45it/s]\n",
      " 95%|████████████████████████████████▏ | 10101/10651 [00:08<00:00, 1246.77it/s]\n",
      " 96%|████████████████████████████████▋ | 10232/10651 [00:08<00:00, 1265.05it/s]\n",
      " 97%|█████████████████████████████████ | 10359/10651 [00:08<00:00, 1262.72it/s]\n",
      " 99%|█████████████████████████████████▍| 10492/10651 [00:08<00:00, 1282.14it/s]\n",
      "100%|█████████████████████████████████▉| 10621/10651 [00:08<00:00, 1273.04it/s]\n",
      "100%|██████████████████████████████████| 10651/10651 [00:08<00:00, 1213.53it/s]"
     ]
    },
    {
     "name": "stdout",
     "output_type": "stream",
     "text": [
      "[MoviePy] Done.\n",
      "[MoviePy] Writing video ..\\VideoArchives\\PHM 515 - 11-14-2017 - Room 250E - fionawu.mp4\n"
     ]
    },
    {
     "name": "stderr",
     "output_type": "stream",
     "text": [
      "\n",
      "  0%|                                                 | 0/7241 [00:00<?, ?it/s]\n",
      "  0%|▏                                      | 27/7241 [00:00<00:26, 267.30it/s]\n",
      "  1%|▎                                      | 52/7241 [00:00<00:27, 261.03it/s]\n",
      "  1%|▎                                      | 69/7241 [00:00<00:32, 224.01it/s]\n",
      "  1%|▍                                      | 86/7241 [00:00<00:35, 203.77it/s]\n",
      "  1%|▌                                     | 101/7241 [00:00<00:45, 156.36it/s]\n",
      "  2%|▌                                     | 115/7241 [00:00<00:53, 133.36it/s]\n",
      "  2%|▋                                     | 128/7241 [00:00<00:58, 122.25it/s]\n",
      "  2%|▋                                     | 140/7241 [00:00<01:00, 117.28it/s]\n",
      "  2%|▊                                     | 155/7241 [00:01<00:56, 124.55it/s]\n",
      "  2%|▉                                     | 168/7241 [00:01<00:57, 123.27it/s]\n",
      "  3%|▉                                     | 183/7241 [00:01<00:54, 129.89it/s]\n",
      "  3%|█                                     | 197/7241 [00:01<00:53, 132.01it/s]\n",
      "  3%|█                                     | 213/7241 [00:01<00:50, 138.95it/s]\n",
      "  3%|█▏                                    | 228/7241 [00:01<00:53, 130.24it/s]\n",
      "  3%|█▎                                    | 242/7241 [00:01<00:52, 133.02it/s]\n",
      "  4%|█▎                                    | 256/7241 [00:01<00:51, 135.04it/s]\n",
      "  4%|█▍                                    | 270/7241 [00:01<00:51, 135.30it/s]\n",
      "  4%|█▍                                    | 284/7241 [00:01<00:52, 132.78it/s]\n",
      "  4%|█▌                                    | 300/7241 [00:02<00:51, 134.28it/s]\n",
      "  4%|█▋                                    | 314/7241 [00:02<00:54, 127.41it/s]\n",
      "  5%|█▋                                    | 329/7241 [00:02<00:52, 132.37it/s]\n",
      "  5%|█▊                                    | 344/7241 [00:02<00:50, 136.09it/s]\n",
      "  5%|█▉                                    | 358/7241 [00:02<00:53, 129.61it/s]\n",
      "  5%|█▉                                    | 374/7241 [00:02<00:51, 134.32it/s]\n",
      "  5%|██                                    | 388/7241 [00:02<00:51, 133.25it/s]\n",
      "  6%|██                                    | 402/7241 [00:02<00:53, 128.50it/s]\n",
      "  6%|██▏                                   | 415/7241 [00:03<00:55, 123.43it/s]\n",
      "  6%|██▏                                   | 428/7241 [00:03<00:58, 116.88it/s]\n",
      "  6%|██▎                                   | 440/7241 [00:03<01:00, 113.13it/s]\n",
      "  6%|██▍                                   | 453/7241 [00:03<00:58, 115.51it/s]\n",
      "  6%|██▍                                   | 465/7241 [00:03<01:01, 110.68it/s]\n",
      "  7%|██▌                                   | 481/7241 [00:03<00:55, 121.40it/s]\n",
      "  7%|██▌                                   | 496/7241 [00:03<00:52, 128.43it/s]\n",
      "  7%|██▋                                   | 510/7241 [00:03<00:54, 123.99it/s]\n",
      "  7%|██▋                                   | 524/7241 [00:03<00:52, 127.00it/s]\n",
      "  7%|██▊                                   | 538/7241 [00:04<00:51, 129.19it/s]\n",
      "  8%|██▉                                   | 552/7241 [00:04<00:50, 132.25it/s]\n",
      "  8%|██▉                                   | 567/7241 [00:04<00:49, 135.26it/s]\n",
      "  8%|███                                   | 581/7241 [00:04<00:51, 130.16it/s]\n",
      "  8%|███                                   | 595/7241 [00:04<00:51, 128.92it/s]\n",
      "  8%|███▏                                  | 608/7241 [00:04<00:51, 129.24it/s]\n",
      "  9%|███▎                                  | 621/7241 [00:04<00:56, 118.16it/s]\n",
      "  9%|███▎                                  | 634/7241 [00:04<00:56, 117.21it/s]\n",
      "  9%|███▍                                  | 647/7241 [00:04<00:55, 119.77it/s]\n",
      "  9%|███▍                                  | 660/7241 [00:04<00:55, 119.28it/s]\n",
      "  9%|███▌                                  | 675/7241 [00:05<00:51, 126.77it/s]\n",
      " 10%|███▌                                  | 689/7241 [00:05<00:50, 130.10it/s]\n",
      " 10%|███▋                                  | 705/7241 [00:05<00:47, 136.76it/s]\n",
      " 10%|███▊                                  | 720/7241 [00:05<00:46, 140.08it/s]\n",
      " 10%|███▊                                  | 736/7241 [00:05<00:46, 140.16it/s]\n",
      " 10%|███▉                                  | 756/7241 [00:05<00:42, 153.27it/s]\n",
      " 11%|████                                  | 772/7241 [00:05<00:42, 152.12it/s]\n",
      " 11%|████▏                                 | 790/7241 [00:05<00:40, 158.69it/s]\n",
      " 11%|████▎                                 | 810/7241 [00:05<00:38, 166.21it/s]\n",
      " 11%|████▎                                 | 829/7241 [00:06<00:37, 170.37it/s]\n",
      " 12%|████▍                                 | 847/7241 [00:06<00:37, 168.29it/s]\n",
      " 12%|████▌                                 | 864/7241 [00:06<00:38, 167.79it/s]\n",
      " 12%|████▌                                 | 881/7241 [00:06<00:39, 159.44it/s]\n",
      " 12%|████▋                                 | 898/7241 [00:06<00:41, 154.07it/s]\n",
      " 13%|████▊                                 | 914/7241 [00:06<00:42, 148.01it/s]\n",
      " 13%|████▉                                 | 933/7241 [00:06<00:39, 158.12it/s]\n",
      " 13%|████▉                                 | 950/7241 [00:06<00:39, 160.13it/s]\n",
      " 13%|█████                                 | 967/7241 [00:06<00:41, 152.86it/s]\n",
      " 14%|█████▏                                | 983/7241 [00:07<00:40, 153.15it/s]\n",
      " 14%|█████▏                                | 999/7241 [00:07<00:41, 150.33it/s]\n",
      " 14%|█████▏                               | 1015/7241 [00:07<00:41, 149.24it/s]\n",
      " 14%|█████▎                               | 1034/7241 [00:07<00:39, 157.91it/s]\n",
      " 15%|█████▍                               | 1052/7241 [00:07<00:39, 157.49it/s]\n",
      " 15%|█████▍                               | 1068/7241 [00:07<00:41, 149.36it/s]\n",
      " 15%|█████▌                               | 1084/7241 [00:07<00:43, 140.37it/s]\n",
      " 15%|█████▋                               | 1101/7241 [00:07<00:41, 146.95it/s]\n",
      " 15%|█████▋                               | 1118/7241 [00:07<00:39, 153.18it/s]\n",
      " 16%|█████▊                               | 1135/7241 [00:08<00:39, 155.27it/s]\n",
      " 16%|█████▉                               | 1151/7241 [00:08<00:42, 144.35it/s]\n",
      " 16%|█████▉                               | 1166/7241 [00:08<00:42, 142.26it/s]\n",
      " 16%|██████                               | 1181/7241 [00:08<00:44, 136.97it/s]\n",
      " 17%|██████                               | 1195/7241 [00:08<00:43, 137.46it/s]\n",
      " 17%|██████▏                              | 1213/7241 [00:08<00:43, 139.03it/s]\n",
      " 17%|██████▎                              | 1231/7241 [00:08<00:40, 147.38it/s]\n",
      " 17%|██████▍                              | 1249/7241 [00:08<00:38, 155.45it/s]\n",
      " 17%|██████▍                              | 1265/7241 [00:08<00:38, 156.78it/s]\n",
      " 18%|██████▌                              | 1282/7241 [00:09<00:37, 160.52it/s]\n",
      " 18%|██████▋                              | 1299/7241 [00:09<00:37, 160.02it/s]\n",
      " 18%|██████▋                              | 1316/7241 [00:09<00:38, 154.87it/s]\n",
      " 18%|██████▊                              | 1332/7241 [00:09<00:37, 155.91it/s]\n",
      " 19%|██████▉                              | 1348/7241 [00:09<00:37, 156.19it/s]\n",
      " 19%|██████▉                              | 1364/7241 [00:09<00:40, 145.71it/s]\n",
      " 19%|███████                              | 1383/7241 [00:09<00:38, 153.25it/s]\n",
      " 19%|███████▏                             | 1402/7241 [00:09<00:36, 161.03it/s]\n",
      " 20%|███████▎                             | 1419/7241 [00:09<00:35, 163.14it/s]\n",
      " 20%|███████▎                             | 1436/7241 [00:09<00:35, 165.14it/s]\n",
      " 20%|███████▍                             | 1453/7241 [00:10<00:35, 163.20it/s]\n",
      " 20%|███████▌                             | 1470/7241 [00:10<00:34, 165.18it/s]\n",
      " 21%|███████▌                             | 1487/7241 [00:10<00:36, 157.34it/s]\n",
      " 21%|███████▋                             | 1504/7241 [00:10<00:35, 160.47it/s]\n",
      " 21%|███████▊                             | 1521/7241 [00:10<00:36, 157.32it/s]\n",
      " 21%|███████▊                             | 1537/7241 [00:10<00:36, 156.26it/s]\n",
      " 21%|███████▉                             | 1553/7241 [00:10<00:39, 145.35it/s]\n",
      " 22%|████████                             | 1568/7241 [00:10<00:42, 134.48it/s]\n",
      " 22%|████████                             | 1582/7241 [00:11<00:42, 134.51it/s]\n",
      " 22%|████████▏                            | 1596/7241 [00:11<00:42, 133.39it/s]\n",
      " 22%|████████▏                            | 1611/7241 [00:11<00:40, 137.59it/s]\n",
      " 22%|████████▎                            | 1625/7241 [00:11<00:42, 133.17it/s]\n",
      " 23%|████████▎                            | 1639/7241 [00:11<00:41, 133.98it/s]\n",
      " 23%|████████▍                            | 1653/7241 [00:11<00:41, 133.78it/s]\n",
      " 23%|████████▌                            | 1667/7241 [00:11<00:41, 134.41it/s]\n",
      " 23%|████████▌                            | 1685/7241 [00:11<00:38, 145.11it/s]\n",
      " 23%|████████▋                            | 1701/7241 [00:11<00:37, 147.62it/s]\n",
      " 24%|████████▊                            | 1720/7241 [00:11<00:35, 157.42it/s]\n",
      " 24%|████████▉                            | 1737/7241 [00:12<00:35, 156.54it/s]\n",
      " 24%|████████▉                            | 1756/7241 [00:12<00:33, 163.98it/s]\n",
      " 24%|█████████                            | 1774/7241 [00:12<00:32, 168.00it/s]\n",
      " 25%|█████████▏                           | 1792/7241 [00:12<00:32, 167.13it/s]\n",
      " 25%|█████████▎                           | 1811/7241 [00:12<00:32, 164.81it/s]\n",
      " 25%|█████████▎                           | 1830/7241 [00:12<00:31, 170.25it/s]\n",
      " 26%|█████████▍                           | 1848/7241 [00:12<00:31, 173.06it/s]\n",
      " 26%|█████████▌                           | 1866/7241 [00:12<00:31, 172.56it/s]\n",
      " 26%|█████████▋                           | 1884/7241 [00:12<00:31, 172.21it/s]\n",
      " 26%|█████████▋                           | 1904/7241 [00:13<00:30, 172.27it/s]\n",
      " 27%|█████████▊                           | 1922/7241 [00:13<00:30, 173.50it/s]\n",
      " 27%|█████████▉                           | 1940/7241 [00:13<00:30, 174.89it/s]\n",
      " 27%|██████████                           | 1958/7241 [00:13<00:30, 171.84it/s]\n",
      " 27%|██████████                           | 1976/7241 [00:13<00:31, 166.93it/s]\n",
      " 28%|██████████▏                          | 1994/7241 [00:13<00:31, 165.01it/s]\n",
      " 28%|██████████▎                          | 2011/7241 [00:13<00:31, 165.98it/s]\n",
      " 28%|██████████▎                          | 2030/7241 [00:13<00:30, 172.05it/s]\n",
      " 28%|██████████▍                          | 2050/7241 [00:13<00:28, 179.58it/s]\n",
      " 29%|██████████▌                          | 2069/7241 [00:13<00:29, 175.98it/s]\n",
      " 29%|██████████▋                          | 2088/7241 [00:14<00:28, 179.96it/s]\n",
      " 29%|██████████▊                          | 2107/7241 [00:14<00:29, 176.24it/s]\n",
      " 29%|██████████▊                          | 2125/7241 [00:14<00:29, 171.27it/s]\n",
      " 30%|██████████▉                          | 2143/7241 [00:14<00:29, 173.29it/s]\n",
      " 30%|███████████                          | 2161/7241 [00:14<00:28, 175.25it/s]\n",
      " 30%|███████████▏                         | 2179/7241 [00:14<00:30, 164.98it/s]\n",
      " 30%|███████████▏                         | 2196/7241 [00:14<00:32, 156.78it/s]\n",
      " 31%|███████████▎                         | 2212/7241 [00:14<00:33, 151.03it/s]\n",
      " 31%|███████████▍                         | 2228/7241 [00:14<00:35, 141.02it/s]\n",
      " 31%|███████████▍                         | 2243/7241 [00:15<00:37, 133.26it/s]\n",
      " 31%|███████████▌                         | 2258/7241 [00:15<00:36, 137.87it/s]\n",
      " 31%|███████████▌                         | 2275/7241 [00:15<00:34, 145.03it/s]\n",
      " 32%|███████████▋                         | 2291/7241 [00:15<00:33, 148.80it/s]\n",
      " 32%|███████████▊                         | 2312/7241 [00:15<00:31, 158.62it/s]\n",
      " 32%|███████████▉                         | 2330/7241 [00:15<00:29, 164.47it/s]\n",
      " 32%|████████████                         | 2351/7241 [00:15<00:28, 174.16it/s]\n",
      " 33%|████████████                         | 2369/7241 [00:15<00:27, 174.33it/s]\n",
      " 33%|████████████▏                        | 2388/7241 [00:15<00:27, 178.25it/s]\n",
      " 33%|████████████▎                        | 2407/7241 [00:16<00:26, 179.04it/s]\n",
      " 34%|████████████▍                        | 2426/7241 [00:16<00:28, 168.61it/s]\n",
      " 34%|████████████▍                        | 2444/7241 [00:16<00:27, 171.38it/s]\n",
      " 34%|████████████▌                        | 2463/7241 [00:16<00:27, 175.58it/s]\n",
      " 34%|████████████▋                        | 2481/7241 [00:16<00:27, 170.35it/s]\n",
      " 35%|████████████▊                        | 2499/7241 [00:16<00:28, 167.80it/s]\n",
      " 35%|████████████▊                        | 2516/7241 [00:16<00:31, 151.76it/s]\n",
      " 35%|████████████▉                        | 2532/7241 [00:16<00:30, 153.25it/s]\n",
      " 35%|█████████████                        | 2550/7241 [00:16<00:29, 159.54it/s]\n",
      " 35%|█████████████                        | 2567/7241 [00:17<00:29, 158.45it/s]\n",
      " 36%|█████████████▏                       | 2585/7241 [00:17<00:28, 160.82it/s]\n",
      " 36%|█████████████▎                       | 2602/7241 [00:17<00:31, 148.47it/s]\n",
      " 36%|█████████████▍                       | 2618/7241 [00:17<00:31, 147.96it/s]\n",
      " 36%|█████████████▍                       | 2638/7241 [00:17<00:28, 160.48it/s]\n",
      " 37%|█████████████▌                       | 2655/7241 [00:17<00:28, 161.82it/s]\n",
      " 37%|█████████████▋                       | 2672/7241 [00:17<00:27, 163.24it/s]\n",
      " 37%|█████████████▋                       | 2689/7241 [00:17<00:30, 149.51it/s]\n",
      " 37%|█████████████▊                       | 2708/7241 [00:17<00:28, 158.52it/s]\n",
      " 38%|█████████████▉                       | 2725/7241 [00:18<00:29, 154.72it/s]\n",
      " 38%|██████████████                       | 2741/7241 [00:18<00:28, 155.81it/s]\n",
      " 38%|██████████████                       | 2760/7241 [00:18<00:27, 163.84it/s]\n",
      " 38%|██████████████▏                      | 2780/7241 [00:18<00:25, 171.89it/s]\n",
      " 39%|██████████████▎                      | 2798/7241 [00:18<00:25, 171.26it/s]\n",
      " 39%|██████████████▍                      | 2817/7241 [00:18<00:25, 175.50it/s]\n",
      " 39%|██████████████▍                      | 2835/7241 [00:18<00:27, 158.59it/s]\n",
      " 39%|██████████████▌                      | 2854/7241 [00:18<00:26, 165.99it/s]\n",
      " 40%|██████████████▋                      | 2871/7241 [00:18<00:26, 163.78it/s]\n",
      " 40%|██████████████▊                      | 2888/7241 [00:19<00:26, 165.11it/s]\n",
      " 40%|██████████████▊                      | 2905/7241 [00:19<00:26, 164.61it/s]\n",
      " 40%|██████████████▉                      | 2922/7241 [00:19<00:26, 162.38it/s]\n",
      " 41%|███████████████                      | 2940/7241 [00:19<00:25, 166.36it/s]\n",
      " 41%|███████████████                      | 2958/7241 [00:19<00:25, 169.74it/s]\n",
      " 41%|███████████████▏                     | 2976/7241 [00:19<00:24, 170.72it/s]\n",
      " 41%|███████████████▎                     | 2994/7241 [00:19<00:24, 173.40it/s]\n",
      " 42%|███████████████▍                     | 3012/7241 [00:19<00:24, 169.86it/s]\n",
      " 42%|███████████████▍                     | 3030/7241 [00:19<00:25, 167.01it/s]\n",
      " 42%|███████████████▌                     | 3049/7241 [00:19<00:24, 172.82it/s]\n",
      " 42%|███████████████▋                     | 3069/7241 [00:20<00:23, 179.19it/s]\n",
      " 43%|███████████████▊                     | 3088/7241 [00:20<00:23, 177.69it/s]\n",
      " 43%|███████████████▊                     | 3106/7241 [00:20<00:23, 177.32it/s]\n",
      " 43%|███████████████▉                     | 3124/7241 [00:20<00:24, 168.60it/s]\n",
      " 43%|████████████████                     | 3141/7241 [00:20<00:24, 168.01it/s]\n",
      " 44%|████████████████▏                    | 3159/7241 [00:20<00:23, 171.43it/s]\n",
      " 44%|████████████████▏                    | 3177/7241 [00:20<00:27, 147.05it/s]\n",
      " 44%|████████████████▎                    | 3193/7241 [00:20<00:35, 113.50it/s]\n",
      " 44%|████████████████▍                    | 3207/7241 [00:21<00:34, 118.50it/s]\n",
      " 44%|████████████████▍                    | 3221/7241 [00:21<00:33, 120.06it/s]\n",
      " 45%|████████████████▌                    | 3234/7241 [00:21<00:32, 121.84it/s]\n",
      " 45%|████████████████▌                    | 3247/7241 [00:21<00:32, 124.18it/s]\n",
      " 45%|████████████████▋                    | 3262/7241 [00:21<00:30, 129.91it/s]\n",
      " 45%|████████████████▊                    | 3279/7241 [00:21<00:28, 139.80it/s]\n",
      " 46%|████████████████▊                    | 3297/7241 [00:21<00:26, 149.84it/s]\n",
      " 46%|████████████████▉                    | 3313/7241 [00:21<00:27, 144.47it/s]\n",
      " 46%|█████████████████                    | 3333/7241 [00:21<00:25, 155.39it/s]\n",
      " 46%|█████████████████                    | 3351/7241 [00:22<00:24, 161.59it/s]\n",
      " 47%|█████████████████▏                   | 3369/7241 [00:22<00:23, 166.70it/s]\n",
      " 47%|█████████████████▎                   | 3387/7241 [00:22<00:23, 165.77it/s]\n"
     ]
    },
    {
     "name": "stderr",
     "output_type": "stream",
     "text": [
      " 47%|█████████████████▍                   | 3404/7241 [00:22<00:23, 163.63it/s]\n",
      " 47%|█████████████████▍                   | 3423/7241 [00:22<00:22, 169.37it/s]\n",
      " 48%|█████████████████▌                   | 3441/7241 [00:22<00:22, 172.42it/s]\n",
      " 48%|█████████████████▋                   | 3460/7241 [00:22<00:21, 176.35it/s]\n",
      " 48%|█████████████████▊                   | 3478/7241 [00:22<00:21, 174.33it/s]\n",
      " 48%|█████████████████▊                   | 3497/7241 [00:22<00:20, 178.75it/s]\n",
      " 49%|█████████████████▉                   | 3515/7241 [00:22<00:21, 174.43it/s]\n",
      " 49%|██████████████████                   | 3534/7241 [00:23<00:20, 177.82it/s]\n",
      " 49%|██████████████████▏                  | 3552/7241 [00:23<00:21, 175.33it/s]\n",
      " 49%|██████████████████▏                  | 3570/7241 [00:23<00:21, 169.22it/s]\n",
      " 50%|██████████████████▎                  | 3588/7241 [00:23<00:25, 143.81it/s]\n",
      " 50%|██████████████████▍                  | 3604/7241 [00:23<00:26, 139.03it/s]\n",
      " 50%|██████████████████▍                  | 3619/7241 [00:23<00:26, 137.46it/s]\n",
      " 50%|██████████████████▌                  | 3637/7241 [00:23<00:24, 147.94it/s]\n",
      " 51%|██████████████████▋                  | 3657/7241 [00:23<00:22, 159.32it/s]\n",
      " 51%|██████████████████▊                  | 3674/7241 [00:23<00:21, 162.37it/s]\n",
      " 51%|██████████████████▊                  | 3692/7241 [00:24<00:21, 164.53it/s]\n",
      " 51%|██████████████████▉                  | 3709/7241 [00:24<00:24, 146.01it/s]\n",
      " 51%|███████████████████                  | 3725/7241 [00:24<00:24, 146.24it/s]\n",
      " 52%|███████████████████                  | 3741/7241 [00:24<00:24, 144.03it/s]\n",
      " 52%|███████████████████▏                 | 3759/7241 [00:24<00:23, 150.14it/s]\n",
      " 52%|███████████████████▎                 | 3778/7241 [00:24<00:21, 157.82it/s]\n",
      " 52%|███████████████████▍                 | 3796/7241 [00:24<00:21, 160.37it/s]\n",
      " 53%|███████████████████▍                 | 3815/7241 [00:24<00:20, 167.35it/s]\n",
      " 53%|███████████████████▌                 | 3833/7241 [00:24<00:19, 170.95it/s]\n",
      " 53%|███████████████████▋                 | 3853/7241 [00:25<00:19, 174.07it/s]\n",
      " 53%|███████████████████▊                 | 3872/7241 [00:25<00:18, 177.55it/s]\n",
      " 54%|███████████████████▉                 | 3890/7241 [00:25<00:18, 178.27it/s]\n",
      " 54%|███████████████████▉                 | 3908/7241 [00:25<00:18, 176.68it/s]\n",
      " 54%|████████████████████                 | 3926/7241 [00:25<00:20, 165.41it/s]\n",
      " 54%|████████████████████▏                | 3945/7241 [00:25<00:19, 171.16it/s]\n",
      " 55%|████████████████████▎                | 3963/7241 [00:25<00:19, 172.22it/s]\n",
      " 55%|████████████████████▎                | 3983/7241 [00:25<00:18, 178.74it/s]\n",
      " 55%|████████████████████▍                | 4002/7241 [00:25<00:18, 175.42it/s]\n",
      " 56%|████████████████████▌                | 4021/7241 [00:26<00:18, 178.53it/s]\n",
      " 56%|████████████████████▋                | 4042/7241 [00:26<00:17, 185.45it/s]\n",
      " 56%|████████████████████▊                | 4061/7241 [00:26<00:17, 179.89it/s]\n",
      " 56%|████████████████████▊                | 4080/7241 [00:26<00:17, 177.67it/s]\n",
      " 57%|████████████████████▉                | 4099/7241 [00:26<00:17, 179.65it/s]\n",
      " 57%|█████████████████████                | 4118/7241 [00:26<00:17, 179.52it/s]\n",
      " 57%|█████████████████████▏               | 4137/7241 [00:26<00:17, 173.06it/s]\n",
      " 57%|█████████████████████▏               | 4155/7241 [00:26<00:17, 175.08it/s]\n",
      " 58%|█████████████████████▎               | 4173/7241 [00:26<00:17, 174.98it/s]\n",
      " 58%|█████████████████████▍               | 4191/7241 [00:27<00:17, 175.93it/s]\n",
      " 58%|█████████████████████▌               | 4210/7241 [00:27<00:16, 178.91it/s]\n",
      " 58%|█████████████████████▌               | 4228/7241 [00:27<00:17, 171.05it/s]\n",
      " 59%|█████████████████████▋               | 4246/7241 [00:27<00:17, 170.67it/s]\n",
      " 59%|█████████████████████▊               | 4264/7241 [00:27<00:17, 169.93it/s]\n",
      " 59%|█████████████████████▉               | 4284/7241 [00:27<00:16, 177.00it/s]\n",
      " 59%|█████████████████████▉               | 4302/7241 [00:27<00:17, 163.80it/s]\n",
      " 60%|██████████████████████               | 4319/7241 [00:27<00:17, 163.22it/s]\n",
      " 60%|██████████████████████▏              | 4338/7241 [00:27<00:17, 168.61it/s]\n",
      " 60%|██████████████████████▎              | 4357/7241 [00:27<00:16, 174.50it/s]\n",
      " 60%|██████████████████████▎              | 4375/7241 [00:28<00:17, 165.88it/s]\n",
      " 61%|██████████████████████▍              | 4393/7241 [00:28<00:17, 163.84it/s]\n",
      " 61%|██████████████████████▌              | 4410/7241 [00:28<00:17, 163.25it/s]\n",
      " 61%|██████████████████████▌              | 4427/7241 [00:28<00:18, 156.11it/s]\n",
      " 61%|██████████████████████▋              | 4443/7241 [00:28<00:18, 147.27it/s]\n",
      " 62%|██████████████████████▊              | 4458/7241 [00:28<00:18, 147.63it/s]\n",
      " 62%|██████████████████████▊              | 4473/7241 [00:28<00:19, 144.89it/s]\n",
      " 62%|██████████████████████▉              | 4491/7241 [00:28<00:17, 153.50it/s]\n",
      " 62%|███████████████████████              | 4509/7241 [00:28<00:17, 158.47it/s]\n",
      " 63%|███████████████████████▏             | 4526/7241 [00:29<00:17, 159.03it/s]\n",
      " 63%|███████████████████████▏             | 4543/7241 [00:29<00:17, 156.78it/s]\n",
      " 63%|███████████████████████▎             | 4559/7241 [00:29<00:17, 153.64it/s]\n",
      " 63%|███████████████████████▍             | 4578/7241 [00:29<00:16, 161.33it/s]\n",
      " 63%|███████████████████████▍             | 4595/7241 [00:29<00:16, 162.89it/s]\n",
      " 64%|███████████████████████▌             | 4613/7241 [00:29<00:15, 167.20it/s]\n",
      " 64%|███████████████████████▋             | 4630/7241 [00:29<00:16, 162.25it/s]\n",
      " 64%|███████████████████████▊             | 4648/7241 [00:29<00:15, 167.19it/s]\n",
      " 64%|███████████████████████▊             | 4665/7241 [00:29<00:16, 160.41it/s]\n",
      " 65%|███████████████████████▉             | 4684/7241 [00:30<00:15, 164.76it/s]\n",
      " 65%|████████████████████████             | 4703/7241 [00:30<00:14, 171.60it/s]\n",
      " 65%|████████████████████████             | 4721/7241 [00:30<00:14, 171.05it/s]\n",
      " 65%|████████████████████████▏            | 4739/7241 [00:30<00:14, 172.14it/s]\n",
      " 66%|████████████████████████▎            | 4757/7241 [00:30<00:14, 173.92it/s]\n",
      " 66%|████████████████████████▍            | 4775/7241 [00:30<00:15, 162.82it/s]\n",
      " 66%|████████████████████████▍            | 4792/7241 [00:30<00:16, 148.48it/s]\n",
      " 66%|████████████████████████▌            | 4808/7241 [00:30<00:16, 148.79it/s]\n",
      " 67%|████████████████████████▋            | 4824/7241 [00:30<00:17, 139.64it/s]\n",
      " 67%|████████████████████████▋            | 4839/7241 [00:31<00:17, 139.02it/s]\n",
      " 67%|████████████████████████▊            | 4854/7241 [00:31<00:17, 133.77it/s]\n",
      " 67%|████████████████████████▉            | 4872/7241 [00:31<00:16, 143.55it/s]\n",
      " 68%|████████████████████████▉            | 4888/7241 [00:31<00:16, 143.34it/s]\n",
      " 68%|█████████████████████████            | 4905/7241 [00:31<00:15, 150.41it/s]\n",
      " 68%|█████████████████████████▏           | 4921/7241 [00:31<00:15, 148.88it/s]\n",
      " 68%|█████████████████████████▏           | 4937/7241 [00:31<00:15, 145.02it/s]\n",
      " 68%|█████████████████████████▎           | 4952/7241 [00:31<00:16, 141.10it/s]\n",
      " 69%|█████████████████████████▍           | 4967/7241 [00:31<00:16, 138.10it/s]\n",
      " 69%|█████████████████████████▍           | 4983/7241 [00:32<00:15, 142.85it/s]\n",
      " 69%|█████████████████████████▌           | 4999/7241 [00:32<00:15, 146.78it/s]\n",
      " 69%|█████████████████████████▋           | 5016/7241 [00:32<00:14, 150.21it/s]\n",
      " 69%|█████████████████████████▋           | 5032/7241 [00:32<00:14, 151.71it/s]\n",
      " 70%|█████████████████████████▊           | 5048/7241 [00:32<00:15, 141.43it/s]\n",
      " 70%|█████████████████████████▉           | 5065/7241 [00:32<00:14, 147.77it/s]\n",
      " 70%|█████████████████████████▉           | 5080/7241 [00:32<00:14, 146.26it/s]\n",
      " 70%|██████████████████████████           | 5096/7241 [00:32<00:14, 148.86it/s]\n",
      " 71%|██████████████████████████           | 5112/7241 [00:32<00:15, 138.60it/s]\n",
      " 71%|██████████████████████████▏          | 5130/7241 [00:33<00:14, 148.50it/s]\n",
      " 71%|██████████████████████████▎          | 5148/7241 [00:33<00:13, 153.12it/s]\n",
      " 71%|██████████████████████████▍          | 5166/7241 [00:33<00:13, 159.45it/s]\n",
      " 72%|██████████████████████████▍          | 5183/7241 [00:33<00:12, 158.83it/s]\n",
      " 72%|██████████████████████████▌          | 5202/7241 [00:33<00:12, 167.04it/s]\n",
      " 72%|██████████████████████████▋          | 5219/7241 [00:33<00:12, 161.23it/s]\n",
      " 72%|██████████████████████████▊          | 5236/7241 [00:33<00:12, 162.35it/s]\n",
      " 73%|██████████████████████████▊          | 5255/7241 [00:33<00:11, 169.76it/s]\n",
      " 73%|██████████████████████████▉          | 5273/7241 [00:33<00:11, 166.93it/s]\n",
      " 73%|███████████████████████████          | 5291/7241 [00:34<00:11, 170.64it/s]\n",
      " 73%|███████████████████████████▏         | 5309/7241 [00:34<00:11, 170.39it/s]\n",
      " 74%|███████████████████████████▏         | 5328/7241 [00:34<00:10, 175.34it/s]\n",
      " 74%|███████████████████████████▎         | 5346/7241 [00:34<00:10, 174.65it/s]\n",
      " 74%|███████████████████████████▍         | 5364/7241 [00:34<00:10, 176.22it/s]\n",
      " 74%|███████████████████████████▌         | 5382/7241 [00:34<00:10, 173.23it/s]\n",
      " 75%|███████████████████████████▌         | 5400/7241 [00:34<00:10, 172.68it/s]\n",
      " 75%|███████████████████████████▋         | 5418/7241 [00:34<00:11, 163.83it/s]\n",
      " 75%|███████████████████████████▊         | 5435/7241 [00:34<00:11, 162.77it/s]\n",
      " 75%|███████████████████████████▊         | 5452/7241 [00:34<00:11, 153.28it/s]\n",
      " 76%|███████████████████████████▉         | 5468/7241 [00:35<00:13, 128.33it/s]\n",
      " 76%|████████████████████████████         | 5483/7241 [00:35<00:13, 132.72it/s]\n",
      " 76%|████████████████████████████         | 5500/7241 [00:35<00:12, 142.06it/s]\n",
      " 76%|████████████████████████████▏        | 5515/7241 [00:35<00:12, 141.49it/s]\n",
      " 76%|████████████████████████████▎        | 5531/7241 [00:35<00:11, 143.42it/s]\n",
      " 77%|████████████████████████████▎        | 5549/7241 [00:35<00:11, 152.34it/s]\n",
      " 77%|████████████████████████████▍        | 5565/7241 [00:35<00:11, 147.71it/s]\n",
      " 77%|████████████████████████████▌        | 5583/7241 [00:35<00:10, 153.31it/s]\n",
      " 77%|████████████████████████████▌        | 5601/7241 [00:36<00:10, 159.59it/s]\n",
      " 78%|████████████████████████████▋        | 5618/7241 [00:36<00:10, 160.73it/s]\n",
      " 78%|████████████████████████████▊        | 5635/7241 [00:36<00:09, 163.40it/s]\n",
      " 78%|████████████████████████████▉        | 5652/7241 [00:36<00:09, 163.88it/s]\n",
      " 78%|████████████████████████████▉        | 5669/7241 [00:36<00:10, 155.23it/s]\n",
      " 79%|█████████████████████████████        | 5686/7241 [00:36<00:09, 155.87it/s]\n",
      " 79%|█████████████████████████████▏       | 5705/7241 [00:36<00:09, 164.32it/s]\n",
      " 79%|█████████████████████████████▏       | 5722/7241 [00:36<00:09, 163.11it/s]\n",
      " 79%|█████████████████████████████▎       | 5739/7241 [00:36<00:09, 165.11it/s]\n",
      " 80%|█████████████████████████████▍       | 5759/7241 [00:36<00:08, 171.54it/s]\n",
      " 80%|█████████████████████████████▌       | 5777/7241 [00:37<00:08, 170.04it/s]\n",
      " 80%|█████████████████████████████▌       | 5795/7241 [00:37<00:08, 167.59it/s]\n",
      " 80%|█████████████████████████████▋       | 5814/7241 [00:37<00:08, 172.79it/s]\n",
      " 81%|█████████████████████████████▊       | 5832/7241 [00:37<00:08, 171.39it/s]\n",
      " 81%|█████████████████████████████▉       | 5850/7241 [00:37<00:08, 173.38it/s]\n",
      " 81%|█████████████████████████████▉       | 5868/7241 [00:37<00:08, 166.09it/s]\n",
      " 81%|██████████████████████████████       | 5885/7241 [00:37<00:08, 167.24it/s]\n",
      " 82%|██████████████████████████████▏      | 5902/7241 [00:37<00:08, 167.06it/s]\n",
      " 82%|██████████████████████████████▎      | 5922/7241 [00:37<00:07, 174.82it/s]\n",
      " 82%|██████████████████████████████▎      | 5940/7241 [00:38<00:07, 170.81it/s]\n",
      " 82%|██████████████████████████████▍      | 5959/7241 [00:38<00:07, 175.17it/s]\n",
      " 83%|██████████████████████████████▌      | 5977/7241 [00:38<00:07, 170.08it/s]\n",
      " 83%|██████████████████████████████▋      | 5995/7241 [00:38<00:07, 157.91it/s]\n",
      " 83%|██████████████████████████████▋      | 6013/7241 [00:38<00:08, 153.46it/s]\n",
      " 83%|██████████████████████████████▊      | 6032/7241 [00:38<00:07, 162.43it/s]\n",
      " 84%|██████████████████████████████▉      | 6051/7241 [00:38<00:07, 166.69it/s]\n",
      " 84%|███████████████████████████████      | 6073/7241 [00:38<00:06, 174.20it/s]\n",
      " 84%|███████████████████████████████▏     | 6093/7241 [00:38<00:06, 180.23it/s]\n",
      " 84%|███████████████████████████████▏     | 6112/7241 [00:39<00:06, 177.91it/s]\n",
      " 85%|███████████████████████████████▎     | 6131/7241 [00:39<00:06, 180.33it/s]\n",
      " 85%|███████████████████████████████▍     | 6150/7241 [00:39<00:06, 180.00it/s]\n",
      " 85%|███████████████████████████████▌     | 6169/7241 [00:39<00:06, 169.65it/s]\n",
      " 85%|███████████████████████████████▌     | 6188/7241 [00:39<00:06, 173.84it/s]\n",
      " 86%|███████████████████████████████▋     | 6206/7241 [00:39<00:05, 175.64it/s]\n",
      " 86%|███████████████████████████████▊     | 6224/7241 [00:39<00:05, 171.36it/s]\n",
      " 86%|███████████████████████████████▉     | 6244/7241 [00:39<00:05, 176.67it/s]\n",
      " 86%|████████████████████████████████     | 6263/7241 [00:39<00:05, 178.94it/s]\n",
      " 87%|████████████████████████████████     | 6281/7241 [00:39<00:05, 178.71it/s]\n",
      " 87%|████████████████████████████████▏    | 6299/7241 [00:40<00:05, 174.92it/s]\n",
      " 87%|████████████████████████████████▎    | 6317/7241 [00:40<00:05, 173.85it/s]\n",
      " 87%|████████████████████████████████▎    | 6335/7241 [00:40<00:05, 170.16it/s]\n",
      " 88%|████████████████████████████████▍    | 6354/7241 [00:40<00:05, 175.66it/s]\n",
      " 88%|████████████████████████████████▌    | 6372/7241 [00:40<00:05, 171.38it/s]\n",
      " 88%|████████████████████████████████▋    | 6390/7241 [00:40<00:05, 167.09it/s]\n",
      " 88%|████████████████████████████████▋    | 6407/7241 [00:40<00:04, 167.95it/s]\n",
      " 89%|████████████████████████████████▊    | 6424/7241 [00:40<00:05, 159.54it/s]\n",
      " 89%|████████████████████████████████▉    | 6441/7241 [00:40<00:05, 148.87it/s]\n",
      " 89%|████████████████████████████████▉    | 6457/7241 [00:41<00:05, 143.84it/s]\n",
      " 89%|█████████████████████████████████    | 6472/7241 [00:41<00:05, 141.11it/s]\n",
      " 90%|█████████████████████████████████▏   | 6490/7241 [00:41<00:05, 149.38it/s]\n",
      " 90%|█████████████████████████████████▏   | 6506/7241 [00:41<00:04, 152.41it/s]\n",
      " 90%|█████████████████████████████████▎   | 6522/7241 [00:41<00:04, 152.40it/s]\n",
      " 90%|█████████████████████████████████▍   | 6539/7241 [00:41<00:04, 157.28it/s]\n",
      " 91%|█████████████████████████████████▍   | 6556/7241 [00:41<00:04, 159.53it/s]\n",
      " 91%|█████████████████████████████████▌   | 6574/7241 [00:41<00:04, 164.25it/s]\n",
      " 91%|█████████████████████████████████▋   | 6592/7241 [00:41<00:03, 167.73it/s]\n",
      " 91%|█████████████████████████████████▊   | 6611/7241 [00:42<00:03, 171.02it/s]\n",
      " 92%|█████████████████████████████████▊   | 6629/7241 [00:42<00:03, 167.32it/s]\n",
      " 92%|█████████████████████████████████▉   | 6647/7241 [00:42<00:03, 169.48it/s]\n",
      " 92%|██████████████████████████████████   | 6667/7241 [00:42<00:03, 176.66it/s]\n",
      " 92%|██████████████████████████████████▏  | 6685/7241 [00:42<00:03, 174.55it/s]\n",
      " 93%|██████████████████████████████████▎  | 6703/7241 [00:42<00:03, 175.63it/s]\n",
      " 93%|██████████████████████████████████▎  | 6721/7241 [00:42<00:03, 173.33it/s]\n",
      " 93%|██████████████████████████████████▍  | 6739/7241 [00:42<00:02, 170.78it/s]\n",
      " 93%|██████████████████████████████████▌  | 6759/7241 [00:42<00:02, 175.78it/s]\n",
      " 94%|██████████████████████████████████▋  | 6777/7241 [00:43<00:02, 169.52it/s]\n",
      " 94%|██████████████████████████████████▋  | 6795/7241 [00:43<00:02, 166.77it/s]\n",
      " 94%|██████████████████████████████████▊  | 6812/7241 [00:43<00:02, 167.72it/s]\n",
      " 94%|██████████████████████████████████▉  | 6829/7241 [00:43<00:02, 162.60it/s]\n",
      " 95%|██████████████████████████████████▉  | 6846/7241 [00:43<00:02, 164.74it/s]\n",
      " 95%|███████████████████████████████████  | 6863/7241 [00:43<00:02, 161.54it/s]\n",
      " 95%|███████████████████████████████████▏ | 6881/7241 [00:43<00:02, 163.04it/s]\n",
      " 95%|███████████████████████████████████▏ | 6898/7241 [00:43<00:02, 164.58it/s]\n",
      " 95%|███████████████████████████████████▎ | 6915/7241 [00:43<00:02, 152.32it/s]\n",
      " 96%|███████████████████████████████████▍ | 6932/7241 [00:43<00:02, 153.39it/s]\n",
      " 96%|███████████████████████████████████▌ | 6949/7241 [00:44<00:01, 156.71it/s]\n",
      " 96%|███████████████████████████████████▌ | 6966/7241 [00:44<00:01, 157.35it/s]\n",
      " 96%|███████████████████████████████████▋ | 6983/7241 [00:44<00:01, 160.03it/s]\n",
      " 97%|███████████████████████████████████▊ | 7001/7241 [00:44<00:01, 164.62it/s]\n"
     ]
    },
    {
     "name": "stderr",
     "output_type": "stream",
     "text": [
      " 97%|███████████████████████████████████▊ | 7018/7241 [00:44<00:01, 161.92it/s]\n",
      " 97%|███████████████████████████████████▉ | 7035/7241 [00:44<00:01, 162.38it/s]\n",
      " 97%|████████████████████████████████████ | 7052/7241 [00:44<00:01, 161.31it/s]\n",
      " 98%|████████████████████████████████████ | 7069/7241 [00:44<00:01, 157.44it/s]\n",
      " 98%|████████████████████████████████████▏| 7090/7241 [00:44<00:00, 168.58it/s]\n",
      " 98%|████████████████████████████████████▎| 7110/7241 [00:45<00:00, 171.01it/s]\n",
      " 98%|████████████████████████████████████▍| 7130/7241 [00:45<00:00, 176.88it/s]\n",
      " 99%|████████████████████████████████████▌| 7148/7241 [00:45<00:00, 174.19it/s]\n",
      " 99%|████████████████████████████████████▌| 7166/7241 [00:45<00:00, 170.88it/s]\n",
      " 99%|████████████████████████████████████▋| 7184/7241 [00:45<00:00, 160.08it/s]\n",
      " 99%|████████████████████████████████████▊| 7201/7241 [00:45<00:00, 150.79it/s]\n",
      "100%|████████████████████████████████████▉| 7217/7241 [00:45<00:00, 134.48it/s]\n",
      "100%|████████████████████████████████████▉| 7235/7241 [00:45<00:00, 143.43it/s]\n",
      "100%|█████████████████████████████████████| 7241/7241 [00:45<00:00, 157.69it/s]"
     ]
    },
    {
     "name": "stdout",
     "output_type": "stream",
     "text": [
      "[MoviePy] Done.\n",
      "[MoviePy] >>>> Video ready: ..\\VideoArchives\\PHM 515 - 11-14-2017 - Room 250E - fionawu.mp4 \n",
      "\n"
     ]
    }
   ],
   "source": [
    "clip=VideoFileClip(\"..\\\\VideoArchives\\\\250\"+room+\".asf\")\n",
    "st=X[X[\"Rooms\"]==\"250\"+room][\"Start_time\"][i]\n",
    "et=X[X[\"Rooms\"]==\"250\"+room][\"End_time\"][i]\n",
    "stv=datetime.combine(date.today(),st) - datetime.combine(date.today(), offset)\n",
    "etv=datetime.combine(date.today(),et) - datetime.combine(date.today(), offset)\n",
    "st=(datetime.min + stv).time()\n",
    "et=(datetime.min + etv).time()\n",
    "fileName=X[X[\"Rooms\"]==\"250\"+room][\"FileName\"][i]            \n",
    "newclip=clip.subclip(t_start=(st.hour,st.minute,st.second), t_end=(et.hour,et.minute,et.second))\n",
    "newclip.write_videofile(\"..\\\\VideoArchives\\\\\"+fileName+\".mp4\")"
   ]
  },
  {
   "cell_type": "code",
   "execution_count": 34,
   "metadata": {
    "collapsed": true
   },
   "outputs": [],
   "source": [
    "clip=VideoFileClip(\"..\\\\VideoArchives\\\\PHM 515 - 11-14-2017 - Room 250G - maggiekr.asf\")"
   ]
  },
  {
   "cell_type": "code",
   "execution_count": 35,
   "metadata": {
    "scrolled": true
   },
   "outputs": [
    {
     "name": "stdout",
     "output_type": "stream",
     "text": [
      "[MoviePy] >>>> Building video ..\\VideoArchives\\PHM 515 - 11-14-2017 - Room 250G - maggiekr.mp4\n",
      "[MoviePy] Writing audio in PHM 515 - 11-14-2017 - Room 250G - maggiekrTEMP_MPY_wvf_snd.mp3\n"
     ]
    },
    {
     "name": "stderr",
     "output_type": "stream",
     "text": [
      "\n",
      "  0%|                                                | 0/14801 [00:00<?, ?it/s]\n",
      "  1%|▎                                     | 98/14801 [00:00<00:15, 979.90it/s]\n",
      "  1%|▍                                    | 179/14801 [00:00<00:15, 921.86it/s]\n",
      "  2%|▋                                    | 293/14801 [00:00<00:14, 977.98it/s]\n",
      "  3%|▉                                   | 409/14801 [00:00<00:14, 1026.26it/s]\n",
      "  4%|█▎                                  | 537/14801 [00:00<00:13, 1091.12it/s]\n",
      "  4%|█▌                                  | 655/14801 [00:00<00:12, 1116.32it/s]\n",
      "  5%|█▉                                  | 783/14801 [00:00<00:12, 1160.82it/s]\n",
      "  6%|██▏                                 | 897/14801 [00:00<00:12, 1154.46it/s]\n",
      "  7%|██▍                                | 1011/14801 [00:00<00:11, 1150.05it/s]\n",
      "  8%|██▋                                | 1140/14801 [00:01<00:11, 1188.71it/s]\n",
      "  8%|██▉                                | 1258/14801 [00:01<00:11, 1178.93it/s]\n",
      "  9%|███▎                               | 1375/14801 [00:01<00:11, 1162.18it/s]\n",
      " 10%|███▌                               | 1501/14801 [00:01<00:11, 1186.50it/s]\n",
      " 11%|███▊                               | 1629/14801 [00:01<00:10, 1213.05it/s]\n",
      " 12%|████▏                              | 1751/14801 [00:01<00:10, 1207.87it/s]\n",
      " 13%|████▍                              | 1874/14801 [00:01<00:10, 1214.39it/s]\n",
      " 13%|████▋                              | 1996/14801 [00:01<00:10, 1194.60it/s]\n",
      " 14%|█████                              | 2116/14801 [00:01<00:11, 1151.41it/s]\n",
      " 15%|█████▎                             | 2235/14801 [00:01<00:10, 1162.69it/s]\n",
      " 16%|█████▌                             | 2353/14801 [00:02<00:10, 1167.79it/s]\n",
      " 17%|█████▊                             | 2484/14801 [00:02<00:10, 1207.07it/s]\n",
      " 18%|██████▏                            | 2608/14801 [00:02<00:10, 1216.73it/s]\n",
      " 18%|██████▍                            | 2736/14801 [00:02<00:09, 1235.01it/s]\n",
      " 19%|██████▊                            | 2860/14801 [00:02<00:09, 1232.78it/s]\n",
      " 20%|███████                            | 2986/14801 [00:02<00:09, 1240.78it/s]\n",
      " 21%|███████▎                           | 3111/14801 [00:02<00:09, 1228.83it/s]\n",
      " 22%|███████▋                           | 3238/14801 [00:02<00:09, 1240.86it/s]\n",
      " 23%|███████▉                           | 3363/14801 [00:02<00:09, 1228.88it/s]\n",
      " 24%|████████▏                          | 3487/14801 [00:02<00:09, 1232.16it/s]\n",
      " 24%|████████▌                          | 3611/14801 [00:03<00:09, 1227.13it/s]\n",
      " 25%|████████▊                          | 3741/14801 [00:03<00:08, 1248.08it/s]\n",
      " 26%|█████████▏                         | 3866/14801 [00:03<00:08, 1237.49it/s]\n",
      " 27%|█████████▍                         | 3995/14801 [00:03<00:08, 1252.76it/s]\n",
      " 28%|█████████▋                         | 4121/14801 [00:03<00:08, 1247.43it/s]\n",
      " 29%|██████████                         | 4246/14801 [00:03<00:08, 1244.43it/s]\n",
      " 30%|██████████▎                        | 4371/14801 [00:03<00:08, 1231.33it/s]\n",
      " 30%|██████████▋                        | 4499/14801 [00:03<00:08, 1245.50it/s]\n",
      " 31%|██████████▉                        | 4624/14801 [00:03<00:08, 1235.72it/s]\n",
      " 32%|███████████▏                       | 4751/14801 [00:03<00:08, 1231.27it/s]\n",
      " 33%|███████████▌                       | 4881/14801 [00:04<00:07, 1251.08it/s]\n",
      " 34%|███████████▊                       | 5007/14801 [00:04<00:07, 1242.58it/s]\n",
      " 35%|████████████▏                      | 5140/14801 [00:04<00:07, 1267.54it/s]\n",
      " 36%|████████████▍                      | 5267/14801 [00:04<00:07, 1256.94it/s]\n",
      " 36%|████████████▊                      | 5395/14801 [00:04<00:07, 1263.73it/s]\n",
      " 37%|█████████████                      | 5522/14801 [00:04<00:07, 1258.05it/s]\n",
      " 38%|█████████████▎                     | 5648/14801 [00:04<00:07, 1254.83it/s]\n",
      " 39%|█████████████▋                     | 5774/14801 [00:04<00:07, 1248.87it/s]\n",
      " 40%|█████████████▉                     | 5899/14801 [00:04<00:07, 1230.72it/s]\n",
      " 41%|██████████████▏                    | 6023/14801 [00:04<00:07, 1194.25it/s]\n",
      " 42%|██████████████▌                    | 6151/14801 [00:05<00:07, 1208.35it/s]\n",
      " 42%|██████████████▊                    | 6280/14801 [00:05<00:06, 1231.70it/s]\n",
      " 43%|███████████████▏                   | 6404/14801 [00:05<00:06, 1230.47it/s]\n",
      " 44%|███████████████▍                   | 6537/14801 [00:05<00:06, 1258.69it/s]\n",
      " 45%|███████████████▊                   | 6664/14801 [00:05<00:06, 1236.23it/s]\n",
      " 46%|████████████████                   | 6793/14801 [00:05<00:06, 1251.85it/s]\n",
      " 47%|████████████████▎                  | 6919/14801 [00:05<00:06, 1254.24it/s]\n",
      " 48%|████████████████▋                  | 7047/14801 [00:05<00:06, 1261.82it/s]\n",
      " 48%|████████████████▉                  | 7174/14801 [00:05<00:06, 1245.63it/s]\n",
      " 49%|█████████████████▎                 | 7299/14801 [00:06<00:06, 1243.18it/s]\n",
      " 50%|█████████████████▌                 | 7424/14801 [00:06<00:06, 1223.24it/s]\n",
      " 51%|█████████████████▊                 | 7547/14801 [00:06<00:05, 1221.57it/s]\n",
      " 52%|██████████████████▏                | 7670/14801 [00:06<00:05, 1224.05it/s]\n",
      " 53%|██████████████████▍                | 7800/14801 [00:06<00:05, 1245.85it/s]\n",
      " 54%|██████████████████▋                | 7925/14801 [00:06<00:05, 1235.96it/s]\n",
      " 54%|███████████████████                | 8051/14801 [00:06<00:05, 1232.10it/s]\n",
      " 55%|███████████████████▎               | 8182/14801 [00:06<00:05, 1254.44it/s]\n",
      " 56%|███████████████████▋               | 8308/14801 [00:06<00:05, 1244.90it/s]\n",
      " 57%|███████████████████▉               | 8435/14801 [00:06<00:05, 1252.29it/s]\n",
      " 58%|████████████████████▏              | 8561/14801 [00:07<00:04, 1250.82it/s]\n",
      " 59%|████████████████████▌              | 8689/14801 [00:07<00:04, 1259.39it/s]\n",
      " 60%|████████████████████▊              | 8816/14801 [00:07<00:04, 1247.63it/s]\n",
      " 60%|█████████████████████▏             | 8943/14801 [00:07<00:04, 1254.22it/s]\n",
      " 61%|█████████████████████▍             | 9069/14801 [00:07<00:04, 1237.41it/s]\n",
      " 62%|█████████████████████▋             | 9194/14801 [00:07<00:04, 1241.12it/s]\n",
      " 63%|██████████████████████             | 9319/14801 [00:07<00:04, 1214.73it/s]\n",
      " 64%|██████████████████████▎            | 9441/14801 [00:07<00:04, 1216.27it/s]\n",
      " 65%|██████████████████████▋            | 9568/14801 [00:07<00:04, 1231.87it/s]\n",
      " 66%|██████████████████████▉            | 9697/14801 [00:07<00:04, 1248.71it/s]\n",
      " 66%|███████████████████████▏           | 9823/14801 [00:08<00:03, 1244.62it/s]\n",
      " 67%|███████████████████████▌           | 9951/14801 [00:08<00:03, 1244.01it/s]\n",
      " 68%|███████████████████████▏          | 10085/14801 [00:08<00:03, 1271.30it/s]\n",
      " 69%|███████████████████████▍          | 10213/14801 [00:08<00:03, 1251.44it/s]\n",
      " 70%|███████████████████████▊          | 10342/14801 [00:08<00:03, 1262.72it/s]\n",
      " 71%|████████████████████████          | 10469/14801 [00:08<00:03, 1238.95it/s]\n",
      " 72%|████████████████████████▎         | 10594/14801 [00:08<00:03, 1238.51it/s]\n",
      " 72%|████████████████████████▌         | 10719/14801 [00:08<00:03, 1216.51it/s]\n",
      " 73%|████████████████████████▉         | 10844/14801 [00:08<00:03, 1226.33it/s]\n",
      " 74%|█████████████████████████▏        | 10967/14801 [00:08<00:03, 1227.40it/s]\n",
      " 75%|█████████████████████████▍        | 11096/14801 [00:09<00:02, 1245.49it/s]\n",
      " 76%|█████████████████████████▊        | 11221/14801 [00:09<00:02, 1239.39it/s]\n",
      " 77%|██████████████████████████        | 11349/14801 [00:09<00:02, 1251.26it/s]\n",
      " 78%|██████████████████████████▎       | 11475/14801 [00:09<00:02, 1242.70it/s]\n",
      " 78%|██████████████████████████▋       | 11601/14801 [00:09<00:02, 1233.15it/s]\n",
      " 79%|██████████████████████████▉       | 11728/14801 [00:09<00:02, 1243.94it/s]\n",
      " 80%|███████████████████████████▏      | 11853/14801 [00:09<00:02, 1242.00it/s]\n",
      " 81%|███████████████████████████▌      | 11979/14801 [00:09<00:02, 1247.31it/s]\n",
      " 82%|███████████████████████████▊      | 12104/14801 [00:09<00:02, 1240.64it/s]\n",
      " 83%|████████████████████████████      | 12235/14801 [00:09<00:02, 1260.63it/s]\n",
      " 84%|████████████████████████████▍     | 12362/14801 [00:10<00:01, 1237.53it/s]\n",
      " 84%|████████████████████████████▋     | 12486/14801 [00:10<00:01, 1230.86it/s]\n",
      " 85%|████████████████████████████▉     | 12610/14801 [00:10<00:01, 1222.60it/s]\n",
      " 86%|█████████████████████████████▎    | 12738/14801 [00:10<00:01, 1239.24it/s]\n",
      " 87%|█████████████████████████████▌    | 12863/14801 [00:10<00:01, 1238.72it/s]\n",
      " 88%|█████████████████████████████▊    | 12995/14801 [00:10<00:01, 1261.99it/s]\n",
      " 89%|██████████████████████████████▏   | 13122/14801 [00:10<00:01, 1245.74it/s]\n",
      " 90%|██████████████████████████████▍   | 13249/14801 [00:10<00:01, 1252.88it/s]\n",
      " 90%|██████████████████████████████▋   | 13375/14801 [00:10<00:01, 1243.82it/s]\n",
      " 91%|███████████████████████████████   | 13501/14801 [00:10<00:01, 1233.92it/s]\n",
      " 92%|███████████████████████████████▎  | 13628/14801 [00:11<00:00, 1244.49it/s]\n",
      " 93%|███████████████████████████████▌  | 13753/14801 [00:11<00:00, 1235.02it/s]\n",
      " 94%|███████████████████████████████▉  | 13877/14801 [00:11<00:00, 1221.85it/s]\n",
      " 95%|████████████████████████████████▏ | 14001/14801 [00:11<00:00, 1212.80it/s]\n",
      " 95%|████████████████████████████████▍ | 14129/14801 [00:11<00:00, 1232.17it/s]\n",
      " 96%|████████████████████████████████▋ | 14253/14801 [00:11<00:00, 1230.80it/s]\n",
      " 97%|█████████████████████████████████ | 14377/14801 [00:11<00:00, 1233.51it/s]\n",
      " 98%|█████████████████████████████████▎| 14501/14801 [00:11<00:00, 1231.73it/s]\n",
      " 99%|█████████████████████████████████▌| 14630/14801 [00:11<00:00, 1248.61it/s]\n",
      "100%|█████████████████████████████████▉| 14755/14801 [00:12<00:00, 1237.86it/s]\n",
      "100%|██████████████████████████████████| 14801/14801 [00:12<00:00, 1227.87it/s]"
     ]
    },
    {
     "name": "stdout",
     "output_type": "stream",
     "text": [
      "[MoviePy] Done.\n",
      "[MoviePy] Writing video ..\\VideoArchives\\PHM 515 - 11-14-2017 - Room 250G - maggiekr.mp4\n"
     ]
    },
    {
     "name": "stderr",
     "output_type": "stream",
     "text": [
      "\n",
      "  0%|                                                | 0/10062 [00:00<?, ?it/s]\n",
      "  0%|                                      | 30/10062 [00:00<00:33, 297.00it/s]\n",
      "  1%|▏                                     | 54/10062 [00:00<00:36, 275.33it/s]\n",
      "  1%|▎                                     | 69/10062 [00:00<00:45, 219.17it/s]\n",
      "  1%|▎                                     | 83/10062 [00:00<00:57, 174.74it/s]\n",
      "  1%|▎                                     | 98/10062 [00:00<01:01, 162.71it/s]\n",
      "  1%|▍                                    | 112/10062 [00:00<01:06, 150.64it/s]\n",
      "  1%|▍                                    | 126/10062 [00:00<01:10, 141.05it/s]\n",
      "  1%|▌                                    | 139/10062 [00:00<01:16, 130.49it/s]\n",
      "  2%|▌                                    | 152/10062 [00:00<01:18, 126.17it/s]\n",
      "  2%|▌                                    | 165/10062 [00:01<01:23, 118.26it/s]\n",
      "  2%|▋                                    | 177/10062 [00:01<01:30, 109.65it/s]\n",
      "  2%|▋                                    | 188/10062 [00:01<01:31, 108.46it/s]\n",
      "  2%|▋                                    | 199/10062 [00:01<01:37, 101.66it/s]\n",
      "  2%|▊                                     | 210/10062 [00:01<01:44, 93.90it/s]\n",
      "  2%|▊                                     | 220/10062 [00:01<01:50, 89.01it/s]\n",
      "  2%|▊                                     | 230/10062 [00:01<01:54, 85.87it/s]\n",
      "  2%|▉                                     | 242/10062 [00:01<01:46, 92.58it/s]\n",
      "  3%|▉                                     | 254/10062 [00:02<01:39, 98.90it/s]\n",
      "  3%|▉                                    | 267/10062 [00:02<01:34, 103.49it/s]\n",
      "  3%|█                                    | 278/10062 [00:02<01:34, 103.86it/s]\n",
      "  3%|█                                    | 289/10062 [00:02<01:35, 102.38it/s]\n",
      "  3%|█                                    | 300/10062 [00:02<01:33, 104.26it/s]\n",
      "  3%|█▏                                   | 315/10062 [00:02<01:25, 113.97it/s]\n",
      "  3%|█▏                                   | 330/10062 [00:02<01:19, 121.92it/s]\n",
      "  3%|█▎                                   | 343/10062 [00:02<01:20, 120.43it/s]\n",
      "  4%|█▎                                   | 356/10062 [00:02<01:19, 122.45it/s]\n",
      "  4%|█▎                                   | 372/10062 [00:03<01:13, 131.40it/s]\n",
      "  4%|█▍                                   | 386/10062 [00:03<01:13, 130.86it/s]\n",
      "  4%|█▍                                   | 402/10062 [00:03<01:10, 137.70it/s]\n",
      "  4%|█▌                                   | 417/10062 [00:03<01:11, 135.43it/s]\n",
      "  4%|█▌                                   | 433/10062 [00:03<01:08, 140.85it/s]\n",
      "  4%|█▋                                   | 448/10062 [00:03<01:07, 141.44it/s]\n",
      "  5%|█▋                                   | 463/10062 [00:03<01:09, 138.71it/s]\n",
      "  5%|█▊                                   | 477/10062 [00:03<01:11, 134.67it/s]\n",
      "  5%|█▊                                   | 491/10062 [00:03<01:11, 133.88it/s]\n",
      "  5%|█▊                                   | 505/10062 [00:03<01:12, 131.45it/s]\n",
      "  5%|█▉                                   | 519/10062 [00:04<01:13, 129.44it/s]\n",
      "  5%|█▉                                   | 532/10062 [00:04<01:16, 125.11it/s]\n",
      "  5%|██                                   | 545/10062 [00:04<01:23, 114.50it/s]\n",
      "  6%|██                                   | 559/10062 [00:04<01:20, 117.75it/s]\n",
      "  6%|██                                   | 575/10062 [00:04<01:15, 126.07it/s]\n",
      "  6%|██▏                                  | 588/10062 [00:04<01:17, 122.19it/s]\n",
      "  6%|██▏                                  | 605/10062 [00:04<01:13, 128.60it/s]\n",
      "  6%|██▎                                  | 622/10062 [00:04<01:08, 138.40it/s]\n",
      "  6%|██▎                                  | 637/10062 [00:04<01:07, 139.31it/s]\n",
      "  6%|██▍                                  | 652/10062 [00:05<01:08, 136.89it/s]\n",
      "  7%|██▍                                  | 666/10062 [00:05<01:08, 137.81it/s]\n",
      "  7%|██▌                                  | 681/10062 [00:05<01:09, 135.87it/s]\n",
      "  7%|██▌                                  | 697/10062 [00:05<01:06, 140.80it/s]\n",
      "  7%|██▌                                  | 712/10062 [00:05<01:07, 138.66it/s]\n",
      "  7%|██▋                                  | 726/10062 [00:05<01:07, 137.42it/s]\n",
      "  7%|██▋                                  | 742/10062 [00:05<01:06, 139.37it/s]\n",
      "  8%|██▊                                  | 758/10062 [00:05<01:04, 144.58it/s]\n",
      "  8%|██▊                                  | 773/10062 [00:05<01:04, 143.64it/s]\n",
      "  8%|██▉                                  | 788/10062 [00:06<01:05, 140.97it/s]\n",
      "  8%|██▉                                  | 805/10062 [00:06<01:05, 141.88it/s]\n",
      "  8%|███                                  | 821/10062 [00:06<01:06, 138.84it/s]\n",
      "  8%|███                                  | 837/10062 [00:06<01:05, 141.50it/s]\n",
      "  8%|███▏                                 | 854/10062 [00:06<01:01, 148.99it/s]\n",
      "  9%|███▏                                 | 870/10062 [00:06<01:02, 147.50it/s]\n",
      "  9%|███▎                                 | 889/10062 [00:06<00:58, 156.16it/s]\n",
      "  9%|███▎                                 | 906/10062 [00:06<00:57, 159.16it/s]\n",
      "  9%|███▍                                 | 926/10062 [00:06<00:53, 169.54it/s]\n",
      "  9%|███▍                                 | 945/10062 [00:07<00:52, 174.71it/s]\n",
      " 10%|███▌                                 | 963/10062 [00:07<00:54, 167.88it/s]\n",
      " 10%|███▌                                 | 982/10062 [00:07<00:53, 171.13it/s]\n",
      " 10%|███▌                                | 1000/10062 [00:07<00:52, 172.69it/s]\n",
      " 10%|███▋                                | 1018/10062 [00:07<00:53, 168.91it/s]\n",
      " 10%|███▋                                | 1038/10062 [00:07<00:50, 177.17it/s]\n",
      " 10%|███▊                                | 1056/10062 [00:07<00:51, 174.89it/s]\n",
      " 11%|███▊                                | 1074/10062 [00:07<00:51, 173.83it/s]\n",
      " 11%|███▉                                | 1093/10062 [00:07<00:50, 176.89it/s]\n",
      " 11%|███▉                                | 1111/10062 [00:07<00:51, 174.19it/s]\n",
      " 11%|████                                | 1129/10062 [00:08<00:51, 172.35it/s]\n",
      " 11%|████                                | 1147/10062 [00:08<00:58, 151.25it/s]\n",
      " 12%|████▏                               | 1163/10062 [00:08<00:58, 151.15it/s]\n",
      " 12%|████▏                               | 1179/10062 [00:08<01:03, 139.98it/s]\n",
      " 12%|████▎                               | 1196/10062 [00:08<01:01, 144.42it/s]\n",
      " 12%|████▎                               | 1213/10062 [00:08<00:58, 150.04it/s]\n",
      " 12%|████▍                               | 1232/10062 [00:08<00:55, 160.14it/s]\n",
      " 12%|████▍                               | 1249/10062 [00:08<00:56, 155.37it/s]\n",
      " 13%|████▌                               | 1265/10062 [00:09<00:59, 148.44it/s]\n",
      " 13%|████▌                               | 1281/10062 [00:09<01:01, 141.65it/s]\n",
      " 13%|████▋                               | 1296/10062 [00:09<01:01, 142.82it/s]\n",
      " 13%|████▋                               | 1316/10062 [00:09<00:55, 156.21it/s]\n",
      " 13%|████▊                               | 1335/10062 [00:09<00:53, 164.58it/s]\n",
      " 13%|████▊                               | 1352/10062 [00:09<00:56, 153.56it/s]\n",
      " 14%|████▉                               | 1368/10062 [00:09<00:56, 152.76it/s]\n",
      " 14%|████▉                               | 1385/10062 [00:09<00:59, 146.17it/s]\n",
      " 14%|█████                               | 1402/10062 [00:09<01:03, 136.42it/s]\n",
      " 14%|█████                               | 1423/10062 [00:10<00:56, 152.44it/s]\n",
      " 14%|█████▏                              | 1443/10062 [00:10<00:53, 162.15it/s]\n",
      " 15%|█████▏                              | 1460/10062 [00:10<00:52, 163.95it/s]\n",
      " 15%|█████▎                              | 1477/10062 [00:10<00:55, 154.42it/s]\n",
      " 15%|█████▎                              | 1493/10062 [00:10<00:58, 147.01it/s]\n",
      " 15%|█████▍                              | 1512/10062 [00:10<00:54, 157.72it/s]\n",
      " 15%|█████▍                              | 1529/10062 [00:10<00:53, 159.84it/s]\n",
      " 15%|█████▌                              | 1546/10062 [00:10<00:55, 154.33it/s]\n",
      " 16%|█████▌                              | 1565/10062 [00:10<00:53, 159.42it/s]\n",
      " 16%|█████▋                              | 1584/10062 [00:11<00:51, 165.32it/s]\n",
      " 16%|█████▋                              | 1601/10062 [00:11<00:54, 154.85it/s]\n",
      " 16%|█████▊                              | 1617/10062 [00:11<00:54, 155.44it/s]\n",
      " 16%|█████▊                              | 1636/10062 [00:11<00:51, 163.98it/s]\n",
      " 16%|█████▉                              | 1654/10062 [00:11<00:50, 168.00it/s]\n",
      " 17%|█████▉                              | 1672/10062 [00:11<00:54, 153.45it/s]\n",
      " 17%|██████                              | 1689/10062 [00:11<00:53, 157.62it/s]\n",
      " 17%|██████                              | 1706/10062 [00:11<00:51, 161.14it/s]\n",
      " 17%|██████▏                             | 1724/10062 [00:11<00:51, 163.20it/s]\n",
      " 17%|██████▏                             | 1741/10062 [00:12<00:52, 158.70it/s]\n",
      " 17%|██████▎                             | 1758/10062 [00:12<00:54, 153.17it/s]\n",
      " 18%|██████▎                             | 1775/10062 [00:12<00:52, 157.85it/s]\n",
      " 18%|██████▍                             | 1794/10062 [00:12<00:50, 163.71it/s]\n",
      " 18%|██████▍                             | 1811/10062 [00:12<00:51, 159.94it/s]\n",
      " 18%|██████▌                             | 1828/10062 [00:12<00:53, 154.39it/s]\n",
      " 18%|██████▌                             | 1845/10062 [00:12<00:52, 155.28it/s]\n",
      " 19%|██████▋                             | 1862/10062 [00:12<00:51, 158.08it/s]\n",
      " 19%|██████▋                             | 1882/10062 [00:12<00:49, 166.58it/s]\n",
      " 19%|██████▊                             | 1899/10062 [00:13<00:51, 159.11it/s]\n",
      " 19%|██████▊                             | 1916/10062 [00:13<00:56, 145.18it/s]\n",
      " 19%|██████▉                             | 1931/10062 [00:13<00:55, 145.31it/s]\n",
      " 19%|██████▉                             | 1946/10062 [00:13<00:55, 146.68it/s]\n",
      " 19%|███████                             | 1961/10062 [00:13<00:59, 137.13it/s]\n",
      " 20%|███████                             | 1978/10062 [00:13<00:56, 142.28it/s]\n",
      " 20%|███████▏                            | 1993/10062 [00:13<00:57, 140.45it/s]\n",
      " 20%|███████▏                            | 2008/10062 [00:13<01:02, 129.80it/s]\n",
      " 20%|███████▏                            | 2026/10062 [00:13<00:56, 141.31it/s]\n",
      " 20%|███████▎                            | 2044/10062 [00:14<00:54, 146.62it/s]\n",
      " 21%|███████▍                            | 2063/10062 [00:14<00:51, 156.62it/s]\n",
      " 21%|███████▍                            | 2081/10062 [00:14<00:49, 162.52it/s]\n",
      " 21%|███████▌                            | 2100/10062 [00:14<00:47, 167.20it/s]\n",
      " 21%|███████▌                            | 2118/10062 [00:14<00:47, 167.97it/s]\n",
      " 21%|███████▋                            | 2136/10062 [00:14<00:46, 169.94it/s]\n",
      " 21%|███████▋                            | 2154/10062 [00:14<00:48, 163.87it/s]\n",
      " 22%|███████▊                            | 2172/10062 [00:14<00:46, 167.92it/s]\n",
      " 22%|███████▊                            | 2189/10062 [00:14<00:46, 168.53it/s]\n",
      " 22%|███████▉                            | 2208/10062 [00:15<00:45, 173.48it/s]\n",
      " 22%|███████▉                            | 2226/10062 [00:15<00:45, 172.86it/s]\n",
      " 22%|████████                            | 2244/10062 [00:15<00:45, 172.92it/s]\n",
      " 22%|████████                            | 2262/10062 [00:15<00:45, 170.99it/s]\n",
      " 23%|████████▏                           | 2280/10062 [00:15<00:45, 171.12it/s]\n",
      " 23%|████████▏                           | 2302/10062 [00:15<00:43, 180.18it/s]\n",
      " 23%|████████▎                           | 2321/10062 [00:15<00:42, 181.96it/s]\n",
      " 23%|████████▎                           | 2340/10062 [00:15<00:42, 183.23it/s]\n",
      " 23%|████████▍                           | 2359/10062 [00:15<00:42, 179.94it/s]\n",
      " 24%|████████▌                           | 2378/10062 [00:15<00:42, 181.27it/s]\n",
      " 24%|████████▌                           | 2397/10062 [00:16<00:42, 180.14it/s]\n",
      " 24%|████████▋                           | 2416/10062 [00:16<00:42, 181.41it/s]\n",
      " 24%|████████▋                           | 2435/10062 [00:16<00:43, 175.25it/s]\n",
      " 24%|████████▊                           | 2453/10062 [00:16<00:44, 172.08it/s]\n",
      " 25%|████████▊                           | 2471/10062 [00:16<00:43, 173.37it/s]\n",
      " 25%|████████▉                           | 2492/10062 [00:16<00:41, 181.05it/s]\n",
      " 25%|████████▉                           | 2511/10062 [00:16<00:42, 176.47it/s]\n",
      " 25%|█████████                           | 2529/10062 [00:16<00:44, 167.59it/s]\n",
      " 25%|█████████                           | 2548/10062 [00:16<00:43, 173.26it/s]\n",
      " 26%|█████████▏                          | 2567/10062 [00:17<00:42, 177.96it/s]\n",
      " 26%|█████████▎                          | 2587/10062 [00:17<00:41, 180.55it/s]\n",
      " 26%|█████████▎                          | 2606/10062 [00:17<00:41, 178.12it/s]\n",
      " 26%|█████████▍                          | 2628/10062 [00:17<00:39, 188.42it/s]\n",
      " 26%|█████████▍                          | 2648/10062 [00:17<00:39, 187.96it/s]\n",
      " 27%|█████████▌                          | 2667/10062 [00:17<00:39, 186.89it/s]\n",
      " 27%|█████████▌                          | 2687/10062 [00:17<00:38, 189.55it/s]\n",
      " 27%|█████████▋                          | 2707/10062 [00:17<00:40, 181.06it/s]\n",
      " 27%|█████████▊                          | 2726/10062 [00:17<00:41, 176.97it/s]\n",
      " 27%|█████████▊                          | 2745/10062 [00:18<00:41, 175.67it/s]\n",
      " 27%|█████████▉                          | 2763/10062 [00:18<00:41, 174.88it/s]\n",
      " 28%|█████████▉                          | 2781/10062 [00:18<00:42, 172.33it/s]\n",
      " 28%|██████████                          | 2799/10062 [00:18<00:41, 174.05it/s]\n",
      " 28%|██████████                          | 2817/10062 [00:18<00:41, 173.75it/s]\n",
      " 28%|██████████▏                         | 2835/10062 [00:18<00:41, 175.06it/s]\n",
      " 28%|██████████▏                         | 2853/10062 [00:18<00:41, 174.96it/s]\n",
      " 29%|██████████▎                         | 2871/10062 [00:18<00:42, 168.04it/s]\n",
      " 29%|██████████▎                         | 2888/10062 [00:18<00:45, 156.51it/s]\n",
      " 29%|██████████▍                         | 2904/10062 [00:19<00:48, 148.33it/s]\n",
      " 29%|██████████▍                         | 2920/10062 [00:19<00:47, 151.65it/s]\n",
      " 29%|██████████▌                         | 2936/10062 [00:19<00:46, 153.17it/s]\n",
      " 29%|██████████▌                         | 2954/10062 [00:19<00:44, 159.91it/s]\n",
      " 30%|██████████▋                         | 2973/10062 [00:19<00:42, 165.68it/s]\n",
      " 30%|██████████▋                         | 2991/10062 [00:19<00:42, 168.30it/s]\n",
      " 30%|██████████▊                         | 3009/10062 [00:19<00:41, 171.64it/s]\n",
      " 30%|██████████▊                         | 3027/10062 [00:19<00:40, 173.06it/s]\n",
      " 30%|██████████▉                         | 3045/10062 [00:19<00:40, 172.07it/s]\n",
      " 30%|██████████▉                         | 3066/10062 [00:19<00:38, 180.98it/s]\n",
      " 31%|███████████                         | 3085/10062 [00:20<00:39, 178.42it/s]\n",
      " 31%|███████████                         | 3105/10062 [00:20<00:38, 180.39it/s]\n",
      " 31%|███████████▏                        | 3126/10062 [00:20<00:36, 187.85it/s]\n",
      " 31%|███████████▎                        | 3145/10062 [00:20<00:38, 177.89it/s]\n",
      " 31%|███████████▎                        | 3164/10062 [00:20<00:38, 177.79it/s]\n",
      " 32%|███████████▍                        | 3182/10062 [00:20<00:38, 177.91it/s]\n",
      " 32%|███████████▍                        | 3201/10062 [00:20<00:40, 169.70it/s]\n",
      " 32%|███████████▌                        | 3220/10062 [00:20<00:39, 173.40it/s]\n",
      " 32%|███████████▌                        | 3240/10062 [00:20<00:37, 180.11it/s]\n",
      " 32%|███████████▋                        | 3259/10062 [00:21<00:38, 177.33it/s]\n",
      " 33%|███████████▋                        | 3277/10062 [00:21<00:38, 178.12it/s]\n",
      " 33%|███████████▊                        | 3295/10062 [00:21<00:38, 177.09it/s]\n",
      " 33%|███████████▊                        | 3314/10062 [00:21<00:37, 180.77it/s]\n",
      " 33%|███████████▉                        | 3333/10062 [00:21<00:37, 179.28it/s]\n",
      " 33%|███████████▉                        | 3352/10062 [00:21<00:38, 172.90it/s]\n",
      " 33%|████████████                        | 3370/10062 [00:21<00:38, 174.97it/s]\n",
      " 34%|████████████▏                       | 3389/10062 [00:21<00:37, 178.71it/s]\n",
      " 34%|████████████▏                       | 3407/10062 [00:21<00:38, 172.40it/s]\n",
      " 34%|████████████▎                       | 3425/10062 [00:21<00:40, 163.21it/s]\n",
      " 34%|████████████▎                       | 3442/10062 [00:22<00:41, 160.05it/s]\n",
      " 34%|████████████▍                       | 3459/10062 [00:22<00:43, 152.39it/s]\n"
     ]
    },
    {
     "name": "stderr",
     "output_type": "stream",
     "text": [
      " 35%|████████████▍                       | 3475/10062 [00:22<00:43, 151.09it/s]\n",
      " 35%|████████████▍                       | 3491/10062 [00:22<00:43, 151.90it/s]\n",
      " 35%|████████████▌                       | 3507/10062 [00:22<00:42, 153.79it/s]\n",
      " 35%|████████████▌                       | 3527/10062 [00:22<00:39, 165.24it/s]\n",
      " 35%|████████████▋                       | 3546/10062 [00:22<00:38, 168.30it/s]\n",
      " 35%|████████████▊                       | 3568/10062 [00:22<00:36, 179.73it/s]\n",
      " 36%|████████████▊                       | 3587/10062 [00:22<00:35, 180.09it/s]\n",
      " 36%|████████████▉                       | 3606/10062 [00:23<00:36, 178.31it/s]\n",
      " 36%|████████████▉                       | 3627/10062 [00:23<00:34, 185.28it/s]\n",
      " 36%|█████████████                       | 3646/10062 [00:23<00:34, 184.49it/s]\n",
      " 36%|█████████████                       | 3665/10062 [00:23<00:35, 180.79it/s]\n",
      " 37%|█████████████▏                      | 3684/10062 [00:23<00:35, 177.79it/s]\n",
      " 37%|█████████████▎                      | 3704/10062 [00:23<00:34, 183.40it/s]\n",
      " 37%|█████████████▎                      | 3724/10062 [00:23<00:34, 185.46it/s]\n",
      " 37%|█████████████▍                      | 3743/10062 [00:23<00:34, 183.02it/s]\n",
      " 37%|█████████████▍                      | 3762/10062 [00:23<00:34, 185.05it/s]\n",
      " 38%|█████████████▌                      | 3781/10062 [00:24<00:34, 182.74it/s]\n",
      " 38%|█████████████▌                      | 3800/10062 [00:24<00:35, 178.09it/s]\n",
      " 38%|█████████████▋                      | 3820/10062 [00:24<00:34, 182.63it/s]\n",
      " 38%|█████████████▋                      | 3840/10062 [00:24<00:33, 185.42it/s]\n",
      " 38%|█████████████▊                      | 3860/10062 [00:24<00:32, 189.56it/s]\n",
      " 39%|█████████████▉                      | 3880/10062 [00:24<00:33, 185.60it/s]\n",
      " 39%|█████████████▉                      | 3899/10062 [00:24<00:33, 185.25it/s]\n",
      " 39%|██████████████                      | 3918/10062 [00:24<00:33, 181.82it/s]\n",
      " 39%|██████████████                      | 3937/10062 [00:24<00:33, 181.56it/s]\n",
      " 39%|██████████████▏                     | 3956/10062 [00:24<00:35, 173.90it/s]\n",
      " 40%|██████████████▏                     | 3976/10062 [00:25<00:33, 180.00it/s]\n",
      " 40%|██████████████▎                     | 3995/10062 [00:25<00:33, 180.28it/s]\n",
      " 40%|██████████████▎                     | 4014/10062 [00:25<00:33, 180.99it/s]\n",
      " 40%|██████████████▍                     | 4033/10062 [00:25<00:33, 179.44it/s]\n",
      " 40%|██████████████▍                     | 4052/10062 [00:25<00:33, 181.43it/s]\n",
      " 40%|██████████████▌                     | 4071/10062 [00:25<00:33, 178.72it/s]\n",
      " 41%|██████████████▋                     | 4089/10062 [00:25<00:33, 175.95it/s]\n",
      " 41%|██████████████▋                     | 4107/10062 [00:25<00:36, 161.41it/s]\n",
      " 41%|██████████████▊                     | 4127/10062 [00:25<00:35, 169.15it/s]\n",
      " 41%|██████████████▊                     | 4146/10062 [00:26<00:34, 172.99it/s]\n",
      " 41%|██████████████▉                     | 4164/10062 [00:26<00:33, 174.02it/s]\n",
      " 42%|██████████████▉                     | 4182/10062 [00:26<00:33, 174.74it/s]\n",
      " 42%|███████████████                     | 4200/10062 [00:26<00:33, 172.73it/s]\n",
      " 42%|███████████████                     | 4220/10062 [00:26<00:32, 179.60it/s]\n",
      " 42%|███████████████▏                    | 4239/10062 [00:26<00:32, 180.51it/s]\n",
      " 42%|███████████████▏                    | 4258/10062 [00:26<00:32, 176.12it/s]\n",
      " 43%|███████████████▎                    | 4277/10062 [00:26<00:32, 178.54it/s]\n",
      " 43%|███████████████▎                    | 4297/10062 [00:26<00:32, 178.54it/s]\n",
      " 43%|███████████████▍                    | 4317/10062 [00:27<00:31, 183.97it/s]\n",
      " 43%|███████████████▌                    | 4337/10062 [00:27<00:30, 187.96it/s]\n",
      " 43%|███████████████▌                    | 4356/10062 [00:27<00:30, 185.80it/s]\n",
      " 43%|███████████████▋                    | 4375/10062 [00:27<00:32, 177.59it/s]\n",
      " 44%|███████████████▋                    | 4393/10062 [00:27<00:32, 173.66it/s]\n",
      " 44%|███████████████▊                    | 4411/10062 [00:27<00:33, 168.60it/s]\n",
      " 44%|███████████████▊                    | 4431/10062 [00:27<00:31, 176.00it/s]\n",
      " 44%|███████████████▉                    | 4449/10062 [00:27<00:32, 170.14it/s]\n",
      " 44%|███████████████▉                    | 4467/10062 [00:27<00:34, 163.55it/s]\n",
      " 45%|████████████████                    | 4484/10062 [00:28<00:35, 155.87it/s]\n",
      " 45%|████████████████                    | 4500/10062 [00:28<00:37, 149.59it/s]\n",
      " 45%|████████████████▏                   | 4516/10062 [00:28<00:36, 151.70it/s]\n",
      " 45%|████████████████▏                   | 4535/10062 [00:28<00:34, 160.23it/s]\n",
      " 45%|████████████████▎                   | 4553/10062 [00:28<00:34, 160.37it/s]\n",
      " 45%|████████████████▎                   | 4573/10062 [00:28<00:32, 170.50it/s]\n",
      " 46%|████████████████▍                   | 4591/10062 [00:28<00:32, 166.51it/s]\n",
      " 46%|████████████████▍                   | 4608/10062 [00:28<00:33, 161.33it/s]\n",
      " 46%|████████████████▌                   | 4625/10062 [00:28<00:38, 142.78it/s]\n",
      " 46%|████████████████▌                   | 4642/10062 [00:29<00:36, 149.98it/s]\n",
      " 46%|████████████████▋                   | 4658/10062 [00:29<00:37, 145.75it/s]\n",
      " 46%|████████████████▋                   | 4673/10062 [00:29<00:37, 144.86it/s]\n",
      " 47%|████████████████▊                   | 4688/10062 [00:29<00:37, 145.09it/s]\n",
      " 47%|████████████████▊                   | 4703/10062 [00:29<00:37, 143.58it/s]\n",
      " 47%|████████████████▉                   | 4724/10062 [00:29<00:34, 156.50it/s]\n",
      " 47%|████████████████▉                   | 4745/10062 [00:29<00:31, 167.82it/s]\n",
      " 47%|█████████████████                   | 4763/10062 [00:29<00:31, 168.88it/s]\n",
      " 48%|█████████████████                   | 4781/10062 [00:29<00:30, 170.60it/s]\n",
      " 48%|█████████████████▏                  | 4801/10062 [00:29<00:29, 176.57it/s]\n",
      " 48%|█████████████████▏                  | 4820/10062 [00:30<00:29, 175.88it/s]\n",
      " 48%|█████████████████▎                  | 4839/10062 [00:30<00:29, 179.89it/s]\n",
      " 48%|█████████████████▍                  | 4858/10062 [00:30<00:29, 176.19it/s]\n",
      " 48%|█████████████████▍                  | 4876/10062 [00:30<00:29, 175.24it/s]\n",
      " 49%|█████████████████▌                  | 4895/10062 [00:30<00:28, 179.42it/s]\n",
      " 49%|█████████████████▌                  | 4914/10062 [00:30<00:28, 181.41it/s]\n",
      " 49%|█████████████████▋                  | 4933/10062 [00:30<00:28, 179.73it/s]\n",
      " 49%|█████████████████▋                  | 4952/10062 [00:30<00:29, 175.11it/s]\n",
      " 49%|█████████████████▊                  | 4970/10062 [00:30<00:30, 167.66it/s]\n",
      " 50%|█████████████████▊                  | 4987/10062 [00:31<00:31, 162.09it/s]\n",
      " 50%|█████████████████▉                  | 5004/10062 [00:31<00:33, 153.26it/s]\n",
      " 50%|█████████████████▉                  | 5023/10062 [00:31<00:31, 161.45it/s]\n",
      " 50%|██████████████████                  | 5043/10062 [00:31<00:29, 170.48it/s]\n",
      " 50%|██████████████████                  | 5061/10062 [00:31<00:29, 170.76it/s]\n",
      " 50%|██████████████████▏                 | 5080/10062 [00:31<00:28, 175.62it/s]\n",
      " 51%|██████████████████▏                 | 5100/10062 [00:31<00:27, 181.78it/s]\n",
      " 51%|██████████████████▎                 | 5119/10062 [00:31<00:27, 179.98it/s]\n",
      " 51%|██████████████████▍                 | 5138/10062 [00:31<00:27, 182.34it/s]\n",
      " 51%|██████████████████▍                 | 5157/10062 [00:32<00:28, 174.88it/s]\n",
      " 51%|██████████████████▌                 | 5176/10062 [00:32<00:27, 179.15it/s]\n",
      " 52%|██████████████████▌                 | 5196/10062 [00:32<00:26, 184.42it/s]\n",
      " 52%|██████████████████▋                 | 5215/10062 [00:32<00:27, 179.21it/s]\n",
      " 52%|██████████████████▋                 | 5236/10062 [00:32<00:25, 185.96it/s]\n",
      " 52%|██████████████████▊                 | 5255/10062 [00:32<00:26, 180.74it/s]\n",
      " 52%|██████████████████▊                 | 5274/10062 [00:32<00:26, 182.88it/s]\n",
      " 53%|██████████████████▉                 | 5293/10062 [00:32<00:26, 180.22it/s]\n",
      " 53%|███████████████████                 | 5312/10062 [00:32<00:26, 181.99it/s]\n",
      " 53%|███████████████████                 | 5331/10062 [00:32<00:26, 179.61it/s]\n",
      " 53%|███████████████████▏                | 5350/10062 [00:33<00:26, 180.52it/s]\n",
      " 53%|███████████████████▏                | 5369/10062 [00:33<00:26, 180.13it/s]\n",
      " 54%|███████████████████▎                | 5389/10062 [00:33<00:25, 183.61it/s]\n",
      " 54%|███████████████████▎                | 5408/10062 [00:33<00:26, 175.21it/s]\n",
      " 54%|███████████████████▍                | 5426/10062 [00:33<00:26, 176.62it/s]\n",
      " 54%|███████████████████▍                | 5448/10062 [00:33<00:24, 185.82it/s]\n",
      " 54%|███████████████████▌                | 5467/10062 [00:33<00:25, 179.62it/s]\n",
      " 55%|███████████████████▋                | 5486/10062 [00:33<00:25, 176.50it/s]\n",
      " 55%|███████████████████▋                | 5508/10062 [00:33<00:24, 185.72it/s]\n",
      " 55%|███████████████████▊                | 5527/10062 [00:34<00:24, 186.98it/s]\n",
      " 55%|███████████████████▊                | 5546/10062 [00:34<00:24, 183.52it/s]\n",
      " 55%|███████████████████▉                | 5566/10062 [00:34<00:23, 187.63it/s]\n",
      " 56%|███████████████████▉                | 5585/10062 [00:34<00:23, 187.22it/s]\n",
      " 56%|████████████████████                | 5604/10062 [00:34<00:25, 177.50it/s]\n",
      " 56%|████████████████████▏               | 5627/10062 [00:34<00:23, 186.37it/s]\n",
      " 56%|████████████████████▏               | 5646/10062 [00:34<00:24, 183.64it/s]\n",
      " 56%|████████████████████▎               | 5665/10062 [00:34<00:23, 184.41it/s]\n",
      " 56%|████████████████████▎               | 5684/10062 [00:34<00:24, 175.24it/s]\n",
      " 57%|████████████████████▍               | 5702/10062 [00:35<00:25, 171.58it/s]\n",
      " 57%|████████████████████▍               | 5722/10062 [00:35<00:24, 178.26it/s]\n",
      " 57%|████████████████████▌               | 5741/10062 [00:35<00:23, 180.59it/s]\n",
      " 57%|████████████████████▌               | 5760/10062 [00:35<00:24, 179.16it/s]\n",
      " 57%|████████████████████▋               | 5780/10062 [00:35<00:23, 183.41it/s]\n",
      " 58%|████████████████████▋               | 5799/10062 [00:35<00:23, 179.04it/s]\n",
      " 58%|████████████████████▊               | 5819/10062 [00:35<00:23, 184.34it/s]\n",
      " 58%|████████████████████▉               | 5838/10062 [00:35<00:22, 184.91it/s]\n",
      " 58%|████████████████████▉               | 5857/10062 [00:35<00:22, 185.85it/s]\n",
      " 58%|█████████████████████               | 5876/10062 [00:35<00:23, 177.63it/s]\n",
      " 59%|█████████████████████               | 5896/10062 [00:36<00:22, 182.78it/s]\n",
      " 59%|█████████████████████▏              | 5915/10062 [00:36<00:22, 180.67it/s]\n",
      " 59%|█████████████████████▏              | 5935/10062 [00:36<00:22, 181.99it/s]\n",
      " 59%|█████████████████████▎              | 5954/10062 [00:36<00:22, 182.72it/s]\n",
      " 59%|█████████████████████▎              | 5973/10062 [00:36<00:22, 181.66it/s]\n",
      " 60%|█████████████████████▍              | 5992/10062 [00:36<00:22, 178.88it/s]\n",
      " 60%|█████████████████████▌              | 6011/10062 [00:36<00:22, 181.03it/s]\n",
      " 60%|█████████████████████▌              | 6030/10062 [00:36<00:23, 174.52it/s]\n",
      " 60%|█████████████████████▋              | 6048/10062 [00:36<00:24, 166.82it/s]\n",
      " 60%|█████████████████████▋              | 6065/10062 [00:37<00:25, 157.06it/s]\n",
      " 60%|█████████████████████▊              | 6082/10062 [00:37<00:25, 158.48it/s]\n",
      " 61%|█████████████████████▊              | 6098/10062 [00:37<00:25, 157.52it/s]\n",
      " 61%|█████████████████████▊              | 6114/10062 [00:37<00:25, 155.94it/s]\n",
      " 61%|█████████████████████▉              | 6135/10062 [00:37<00:23, 168.17it/s]\n",
      " 61%|██████████████████████              | 6154/10062 [00:37<00:22, 172.27it/s]\n",
      " 61%|██████████████████████              | 6173/10062 [00:37<00:22, 175.75it/s]\n",
      " 62%|██████████████████████▏             | 6191/10062 [00:37<00:22, 175.45it/s]\n",
      " 62%|██████████████████████▏             | 6209/10062 [00:37<00:22, 172.22it/s]\n",
      " 62%|██████████████████████▎             | 6228/10062 [00:38<00:21, 176.20it/s]\n",
      " 62%|██████████████████████▎             | 6248/10062 [00:38<00:20, 181.72it/s]\n",
      " 62%|██████████████████████▍             | 6267/10062 [00:38<00:20, 183.59it/s]\n",
      " 62%|██████████████████████▍             | 6286/10062 [00:38<00:20, 184.92it/s]\n",
      " 63%|██████████████████████▌             | 6306/10062 [00:38<00:19, 188.13it/s]\n",
      " 63%|██████████████████████▋             | 6325/10062 [00:38<00:20, 179.58it/s]\n",
      " 63%|██████████████████████▋             | 6346/10062 [00:38<00:19, 187.74it/s]\n",
      " 63%|██████████████████████▊             | 6365/10062 [00:38<00:20, 181.39it/s]\n",
      " 63%|██████████████████████▊             | 6384/10062 [00:38<00:20, 180.22it/s]\n",
      " 64%|██████████████████████▉             | 6404/10062 [00:38<00:19, 185.21it/s]\n",
      " 64%|██████████████████████▉             | 6424/10062 [00:39<00:19, 187.28it/s]\n",
      " 64%|███████████████████████             | 6443/10062 [00:39<00:19, 184.25it/s]\n",
      " 64%|███████████████████████             | 6463/10062 [00:39<00:19, 188.17it/s]\n",
      " 64%|███████████████████████▏            | 6482/10062 [00:39<00:19, 183.78it/s]\n",
      " 65%|███████████████████████▎            | 6501/10062 [00:39<00:19, 185.60it/s]\n",
      " 65%|███████████████████████▎            | 6520/10062 [00:39<00:21, 167.60it/s]\n",
      " 65%|███████████████████████▍            | 6538/10062 [00:39<00:21, 165.47it/s]\n",
      " 65%|███████████████████████▍            | 6555/10062 [00:39<00:21, 165.34it/s]\n",
      " 65%|███████████████████████▌            | 6572/10062 [00:39<00:21, 164.29it/s]\n",
      " 65%|███████████████████████▌            | 6589/10062 [00:40<00:21, 160.32it/s]\n",
      " 66%|███████████████████████▋            | 6606/10062 [00:40<00:22, 152.15it/s]\n",
      " 66%|███████████████████████▋            | 6622/10062 [00:40<00:22, 153.97it/s]\n",
      " 66%|███████████████████████▋            | 6638/10062 [00:40<00:23, 148.36it/s]\n",
      " 66%|███████████████████████▊            | 6653/10062 [00:40<00:23, 142.08it/s]\n",
      " 66%|███████████████████████▊            | 6668/10062 [00:40<00:23, 141.50it/s]\n",
      " 66%|███████████████████████▉            | 6683/10062 [00:40<00:25, 135.00it/s]\n",
      " 67%|███████████████████████▉            | 6697/10062 [00:40<00:25, 131.09it/s]\n",
      " 67%|████████████████████████            | 6711/10062 [00:40<00:25, 129.20it/s]\n",
      " 67%|████████████████████████            | 6727/10062 [00:41<00:24, 135.03it/s]\n",
      " 67%|████████████████████████▏           | 6743/10062 [00:41<00:23, 139.80it/s]\n",
      " 67%|████████████████████████▏           | 6758/10062 [00:41<00:24, 135.00it/s]\n",
      " 67%|████████████████████████▏           | 6773/10062 [00:41<00:24, 132.88it/s]\n",
      " 67%|████████████████████████▎           | 6787/10062 [00:41<00:25, 130.41it/s]\n",
      " 68%|████████████████████████▎           | 6803/10062 [00:41<00:24, 132.58it/s]\n",
      " 68%|████████████████████████▍           | 6817/10062 [00:41<00:25, 128.06it/s]\n",
      " 68%|████████████████████████▍           | 6833/10062 [00:41<00:23, 134.84it/s]\n",
      " 68%|████████████████████████▌           | 6848/10062 [00:41<00:23, 139.05it/s]\n",
      " 68%|████████████████████████▌           | 6863/10062 [00:42<00:22, 139.39it/s]\n",
      " 68%|████████████████████████▌           | 6879/10062 [00:42<00:22, 142.66it/s]\n",
      " 69%|████████████████████████▋           | 6895/10062 [00:42<00:21, 147.45it/s]\n",
      " 69%|████████████████████████▋           | 6912/10062 [00:42<00:20, 153.56it/s]\n",
      " 69%|████████████████████████▊           | 6930/10062 [00:42<00:19, 160.63it/s]\n",
      " 69%|████████████████████████▊           | 6947/10062 [00:42<00:19, 161.93it/s]\n",
      " 69%|████████████████████████▉           | 6965/10062 [00:42<00:18, 165.11it/s]\n",
      " 69%|████████████████████████▉           | 6982/10062 [00:42<00:18, 165.57it/s]\n",
      " 70%|█████████████████████████           | 6999/10062 [00:42<00:18, 161.63it/s]\n",
      " 70%|█████████████████████████           | 7019/10062 [00:42<00:17, 170.19it/s]\n",
      " 70%|█████████████████████████▏          | 7037/10062 [00:43<00:17, 171.04it/s]\n",
      " 70%|█████████████████████████▏          | 7055/10062 [00:43<00:17, 168.74it/s]\n",
      " 70%|█████████████████████████▎          | 7073/10062 [00:43<00:17, 171.47it/s]\n",
      " 70%|█████████████████████████▍          | 7093/10062 [00:43<00:16, 177.23it/s]\n",
      " 71%|█████████████████████████▍          | 7111/10062 [00:43<00:17, 169.49it/s]\n",
      " 71%|█████████████████████████▌          | 7129/10062 [00:43<00:17, 168.16it/s]\n",
      " 71%|█████████████████████████▌          | 7148/10062 [00:43<00:17, 168.15it/s]\n",
      " 71%|█████████████████████████▋          | 7165/10062 [00:43<00:17, 162.88it/s]\n",
      " 71%|█████████████████████████▋          | 7182/10062 [00:43<00:17, 163.99it/s]\n",
      " 72%|█████████████████████████▊          | 7199/10062 [00:44<00:17, 164.30it/s]\n",
      " 72%|█████████████████████████▊          | 7216/10062 [00:44<00:17, 165.48it/s]\n"
     ]
    },
    {
     "name": "stderr",
     "output_type": "stream",
     "text": [
      " 72%|█████████████████████████▉          | 7233/10062 [00:44<00:17, 161.11it/s]\n",
      " 72%|█████████████████████████▉          | 7252/10062 [00:44<00:18, 154.40it/s]\n",
      " 72%|██████████████████████████          | 7270/10062 [00:44<00:17, 161.28it/s]\n",
      " 72%|██████████████████████████          | 7288/10062 [00:44<00:16, 165.09it/s]\n",
      " 73%|██████████████████████████▏         | 7308/10062 [00:44<00:16, 170.64it/s]\n",
      " 73%|██████████████████████████▏         | 7326/10062 [00:44<00:16, 165.23it/s]\n",
      " 73%|██████████████████████████▎         | 7343/10062 [00:44<00:17, 151.08it/s]\n",
      " 73%|██████████████████████████▎         | 7360/10062 [00:45<00:17, 154.59it/s]\n",
      " 73%|██████████████████████████▍         | 7378/10062 [00:45<00:16, 160.55it/s]\n",
      " 74%|██████████████████████████▍         | 7396/10062 [00:45<00:16, 164.56it/s]\n",
      " 74%|██████████████████████████▌         | 7414/10062 [00:45<00:15, 167.49it/s]\n",
      " 74%|██████████████████████████▌         | 7431/10062 [00:45<00:15, 166.74it/s]\n",
      " 74%|██████████████████████████▋         | 7448/10062 [00:45<00:15, 167.70it/s]\n",
      " 74%|██████████████████████████▋         | 7467/10062 [00:45<00:14, 173.34it/s]\n",
      " 74%|██████████████████████████▊         | 7485/10062 [00:45<00:15, 171.77it/s]\n",
      " 75%|██████████████████████████▊         | 7504/10062 [00:45<00:14, 176.36it/s]\n",
      " 75%|██████████████████████████▉         | 7522/10062 [00:46<00:14, 170.38it/s]\n",
      " 75%|██████████████████████████▉         | 7541/10062 [00:46<00:14, 175.33it/s]\n",
      " 75%|███████████████████████████         | 7559/10062 [00:46<00:14, 172.64it/s]\n",
      " 75%|███████████████████████████         | 7580/10062 [00:46<00:13, 180.02it/s]\n",
      " 76%|███████████████████████████▏        | 7599/10062 [00:46<00:13, 179.78it/s]\n",
      " 76%|███████████████████████████▎        | 7619/10062 [00:46<00:13, 182.86it/s]\n",
      " 76%|███████████████████████████▎        | 7638/10062 [00:46<00:13, 177.67it/s]\n",
      " 76%|███████████████████████████▍        | 7656/10062 [00:46<00:14, 167.88it/s]\n",
      " 76%|███████████████████████████▍        | 7673/10062 [00:46<00:15, 159.04it/s]\n",
      " 76%|███████████████████████████▌        | 7690/10062 [00:47<00:15, 156.36it/s]\n",
      " 77%|███████████████████████████▌        | 7706/10062 [00:47<00:16, 142.69it/s]\n",
      " 77%|███████████████████████████▋        | 7723/10062 [00:47<00:15, 149.51it/s]\n",
      " 77%|███████████████████████████▋        | 7739/10062 [00:47<00:15, 146.64it/s]\n",
      " 77%|███████████████████████████▊        | 7757/10062 [00:47<00:14, 155.27it/s]\n",
      " 77%|███████████████████████████▊        | 7774/10062 [00:47<00:14, 156.33it/s]\n",
      " 77%|███████████████████████████▊        | 7791/10062 [00:47<00:14, 158.84it/s]\n",
      " 78%|███████████████████████████▉        | 7808/10062 [00:47<00:14, 160.65it/s]\n",
      " 78%|████████████████████████████        | 7827/10062 [00:47<00:13, 166.68it/s]\n",
      " 78%|████████████████████████████        | 7845/10062 [00:47<00:13, 167.60it/s]\n",
      " 78%|████████████████████████████▏       | 7862/10062 [00:48<00:13, 162.52it/s]\n",
      " 78%|████████████████████████████▏       | 7880/10062 [00:48<00:13, 167.39it/s]\n",
      " 78%|████████████████████████████▎       | 7897/10062 [00:48<00:12, 168.16it/s]\n",
      " 79%|████████████████████████████▎       | 7915/10062 [00:48<00:12, 166.77it/s]\n",
      " 79%|████████████████████████████▍       | 7933/10062 [00:48<00:12, 170.04it/s]\n",
      " 79%|████████████████████████████▍       | 7952/10062 [00:48<00:12, 174.60it/s]\n",
      " 79%|████████████████████████████▌       | 7970/10062 [00:48<00:12, 166.41it/s]\n",
      " 79%|████████████████████████████▌       | 7988/10062 [00:48<00:12, 170.26it/s]\n",
      " 80%|████████████████████████████▋       | 8006/10062 [00:48<00:12, 161.86it/s]\n",
      " 80%|████████████████████████████▋       | 8023/10062 [00:49<00:12, 162.80it/s]\n",
      " 80%|████████████████████████████▊       | 8040/10062 [00:49<00:12, 161.60it/s]\n",
      " 80%|████████████████████████████▊       | 8058/10062 [00:49<00:12, 165.78it/s]\n",
      " 80%|████████████████████████████▉       | 8075/10062 [00:49<00:11, 166.53it/s]\n",
      " 80%|████████████████████████████▉       | 8093/10062 [00:49<00:11, 169.39it/s]\n",
      " 81%|█████████████████████████████       | 8112/10062 [00:49<00:11, 173.64it/s]\n",
      " 81%|█████████████████████████████       | 8130/10062 [00:49<00:11, 169.54it/s]\n",
      " 81%|█████████████████████████████▏      | 8148/10062 [00:49<00:11, 165.41it/s]\n",
      " 81%|█████████████████████████████▏      | 8165/10062 [00:49<00:11, 164.34it/s]\n",
      " 81%|█████████████████████████████▎      | 8183/10062 [00:50<00:11, 167.33it/s]\n",
      " 81%|█████████████████████████████▎      | 8200/10062 [00:50<00:11, 160.95it/s]\n",
      " 82%|█████████████████████████████▍      | 8217/10062 [00:50<00:11, 157.21it/s]\n",
      " 82%|█████████████████████████████▍      | 8233/10062 [00:50<00:12, 149.61it/s]\n",
      " 82%|█████████████████████████████▌      | 8249/10062 [00:50<00:11, 152.14it/s]\n",
      " 82%|█████████████████████████████▌      | 8265/10062 [00:50<00:11, 153.08it/s]\n",
      " 82%|█████████████████████████████▋      | 8281/10062 [00:50<00:11, 149.44it/s]\n",
      " 82%|█████████████████████████████▋      | 8297/10062 [00:50<00:11, 152.02it/s]\n",
      " 83%|█████████████████████████████▋      | 8314/10062 [00:50<00:11, 156.56it/s]\n",
      " 83%|█████████████████████████████▊      | 8330/10062 [00:50<00:11, 151.74it/s]\n",
      " 83%|█████████████████████████████▊      | 8346/10062 [00:51<00:11, 148.13it/s]\n",
      " 83%|█████████████████████████████▉      | 8364/10062 [00:51<00:10, 155.63it/s]\n",
      " 83%|█████████████████████████████▉      | 8380/10062 [00:51<00:11, 151.56it/s]\n",
      " 83%|██████████████████████████████      | 8396/10062 [00:51<00:10, 152.23it/s]\n",
      " 84%|██████████████████████████████      | 8413/10062 [00:51<00:10, 156.29it/s]\n",
      " 84%|██████████████████████████████▏     | 8429/10062 [00:51<00:10, 150.28it/s]\n",
      " 84%|██████████████████████████████▏     | 8445/10062 [00:51<00:10, 153.07it/s]\n",
      " 84%|██████████████████████████████▎     | 8461/10062 [00:51<00:10, 152.86it/s]\n",
      " 84%|██████████████████████████████▎     | 8479/10062 [00:51<00:10, 157.16it/s]\n",
      " 84%|██████████████████████████████▍     | 8497/10062 [00:52<00:09, 163.37it/s]\n",
      " 85%|██████████████████████████████▍     | 8514/10062 [00:52<00:09, 164.82it/s]\n",
      " 85%|██████████████████████████████▌     | 8531/10062 [00:52<00:09, 164.88it/s]\n",
      " 85%|██████████████████████████████▌     | 8548/10062 [00:52<00:09, 162.10it/s]\n",
      " 85%|██████████████████████████████▋     | 8566/10062 [00:52<00:09, 166.15it/s]\n",
      " 85%|██████████████████████████████▋     | 8583/10062 [00:52<00:08, 164.85it/s]\n",
      " 85%|██████████████████████████████▊     | 8602/10062 [00:52<00:09, 158.75it/s]\n",
      " 86%|██████████████████████████████▊     | 8620/10062 [00:52<00:08, 163.68it/s]\n",
      " 86%|██████████████████████████████▉     | 8637/10062 [00:52<00:08, 165.52it/s]\n",
      " 86%|██████████████████████████████▉     | 8654/10062 [00:53<00:08, 164.89it/s]\n",
      " 86%|███████████████████████████████     | 8671/10062 [00:53<00:08, 163.04it/s]\n",
      " 86%|███████████████████████████████     | 8688/10062 [00:53<00:08, 161.30it/s]\n",
      " 87%|███████████████████████████████▏    | 8706/10062 [00:53<00:08, 166.02it/s]\n",
      " 87%|███████████████████████████████▏    | 8723/10062 [00:53<00:08, 161.02it/s]\n",
      " 87%|███████████████████████████████▎    | 8740/10062 [00:53<00:08, 161.74it/s]\n",
      " 87%|███████████████████████████████▎    | 8757/10062 [00:53<00:08, 160.86it/s]\n",
      " 87%|███████████████████████████████▍    | 8775/10062 [00:53<00:07, 163.89it/s]\n",
      " 87%|███████████████████████████████▍    | 8795/10062 [00:53<00:07, 172.82it/s]\n",
      " 88%|███████████████████████████████▌    | 8813/10062 [00:53<00:07, 163.47it/s]\n",
      " 88%|███████████████████████████████▌    | 8830/10062 [00:54<00:07, 162.06it/s]\n",
      " 88%|███████████████████████████████▋    | 8847/10062 [00:54<00:07, 162.94it/s]\n",
      " 88%|███████████████████████████████▋    | 8864/10062 [00:54<00:07, 157.65it/s]\n",
      " 88%|███████████████████████████████▊    | 8882/10062 [00:54<00:07, 162.41it/s]\n",
      " 88%|███████████████████████████████▊    | 8899/10062 [00:54<00:07, 157.30it/s]\n",
      " 89%|███████████████████████████████▉    | 8915/10062 [00:54<00:07, 150.09it/s]\n",
      " 89%|███████████████████████████████▉    | 8932/10062 [00:54<00:07, 153.86it/s]\n",
      " 89%|████████████████████████████████    | 8949/10062 [00:54<00:07, 157.49it/s]\n",
      " 89%|████████████████████████████████    | 8969/10062 [00:54<00:06, 166.11it/s]\n",
      " 89%|████████████████████████████████▏   | 8986/10062 [00:55<00:06, 165.79it/s]\n",
      " 89%|████████████████████████████████▏   | 9005/10062 [00:55<00:06, 170.98it/s]\n",
      " 90%|████████████████████████████████▎   | 9023/10062 [00:55<00:06, 171.11it/s]\n",
      " 90%|████████████████████████████████▎   | 9041/10062 [00:55<00:05, 173.68it/s]\n",
      " 90%|████████████████████████████████▍   | 9059/10062 [00:55<00:05, 172.99it/s]\n",
      " 90%|████████████████████████████████▍   | 9078/10062 [00:55<00:05, 176.77it/s]\n",
      " 90%|████████████████████████████████▌   | 9096/10062 [00:55<00:05, 175.64it/s]\n",
      " 91%|████████████████████████████████▌   | 9115/10062 [00:55<00:05, 177.69it/s]\n",
      " 91%|████████████████████████████████▋   | 9133/10062 [00:55<00:05, 173.72it/s]\n",
      " 91%|████████████████████████████████▋   | 9151/10062 [00:55<00:05, 173.02it/s]\n",
      " 91%|████████████████████████████████▊   | 9169/10062 [00:56<00:05, 172.54it/s]\n",
      " 91%|████████████████████████████████▊   | 9187/10062 [00:56<00:05, 174.70it/s]\n",
      " 91%|████████████████████████████████▉   | 9205/10062 [00:56<00:05, 169.77it/s]\n",
      " 92%|█████████████████████████████████   | 9224/10062 [00:56<00:04, 173.45it/s]\n",
      " 92%|█████████████████████████████████   | 9242/10062 [00:56<00:04, 174.34it/s]\n",
      " 92%|█████████████████████████████████▏  | 9261/10062 [00:56<00:04, 176.76it/s]\n",
      " 92%|█████████████████████████████████▏  | 9279/10062 [00:56<00:04, 175.12it/s]\n",
      " 92%|█████████████████████████████████▎  | 9297/10062 [00:56<00:04, 176.03it/s]\n",
      " 93%|█████████████████████████████████▎  | 9315/10062 [00:56<00:04, 174.11it/s]\n",
      " 93%|█████████████████████████████████▍  | 9335/10062 [00:57<00:04, 180.65it/s]\n",
      " 93%|█████████████████████████████████▍  | 9354/10062 [00:57<00:04, 170.06it/s]\n",
      " 93%|█████████████████████████████████▌  | 9375/10062 [00:57<00:03, 178.96it/s]\n",
      " 93%|█████████████████████████████████▌  | 9395/10062 [00:57<00:03, 179.32it/s]\n",
      " 94%|█████████████████████████████████▋  | 9414/10062 [00:57<00:03, 181.35it/s]\n",
      " 94%|█████████████████████████████████▊  | 9434/10062 [00:57<00:03, 186.04it/s]\n",
      " 94%|█████████████████████████████████▊  | 9453/10062 [00:57<00:03, 183.94it/s]\n",
      " 94%|█████████████████████████████████▉  | 9472/10062 [00:57<00:03, 179.40it/s]\n",
      " 94%|█████████████████████████████████▉  | 9491/10062 [00:57<00:03, 169.73it/s]\n",
      " 95%|██████████████████████████████████  | 9509/10062 [00:58<00:03, 158.96it/s]\n",
      " 95%|██████████████████████████████████  | 9531/10062 [00:58<00:03, 171.76it/s]\n",
      " 95%|██████████████████████████████████▏ | 9549/10062 [00:58<00:03, 165.96it/s]\n",
      " 95%|██████████████████████████████████▏ | 9570/10062 [00:58<00:02, 175.76it/s]\n",
      " 95%|██████████████████████████████████▎ | 9588/10062 [00:58<00:02, 177.01it/s]\n",
      " 95%|██████████████████████████████████▍ | 9608/10062 [00:58<00:02, 179.38it/s]\n",
      " 96%|██████████████████████████████████▍ | 9627/10062 [00:58<00:02, 179.84it/s]\n",
      " 96%|██████████████████████████████████▌ | 9647/10062 [00:58<00:02, 180.43it/s]\n",
      " 96%|██████████████████████████████████▌ | 9667/10062 [00:58<00:02, 178.42it/s]\n",
      " 96%|██████████████████████████████████▋ | 9688/10062 [00:59<00:02, 184.38it/s]\n",
      " 96%|██████████████████████████████████▋ | 9707/10062 [00:59<00:01, 182.28it/s]\n",
      " 97%|██████████████████████████████████▊ | 9726/10062 [00:59<00:01, 180.83it/s]\n",
      " 97%|██████████████████████████████████▊ | 9747/10062 [00:59<00:01, 188.69it/s]\n",
      " 97%|██████████████████████████████████▉ | 9766/10062 [00:59<00:01, 186.84it/s]\n",
      " 97%|███████████████████████████████████ | 9785/10062 [00:59<00:01, 185.03it/s]\n",
      " 97%|███████████████████████████████████ | 9804/10062 [00:59<00:01, 181.15it/s]\n",
      " 98%|███████████████████████████████████▏| 9825/10062 [00:59<00:01, 188.43it/s]\n",
      " 98%|███████████████████████████████████▏| 9844/10062 [00:59<00:01, 182.36it/s]\n",
      " 98%|███████████████████████████████████▎| 9863/10062 [00:59<00:01, 171.12it/s]\n",
      " 98%|███████████████████████████████████▎| 9881/10062 [01:00<00:01, 163.73it/s]\n",
      " 98%|███████████████████████████████████▍| 9898/10062 [01:00<00:01, 155.13it/s]\n",
      " 99%|███████████████████████████████████▍| 9914/10062 [01:00<00:00, 154.29it/s]\n",
      " 99%|███████████████████████████████████▌| 9930/10062 [01:00<00:00, 146.13it/s]\n",
      " 99%|███████████████████████████████████▌| 9947/10062 [01:00<00:00, 151.33it/s]\n",
      " 99%|███████████████████████████████████▋| 9964/10062 [01:00<00:00, 154.77it/s]\n",
      " 99%|███████████████████████████████████▋| 9982/10062 [01:00<00:00, 158.99it/s]\n",
      " 99%|███████████████████████████████████▊| 9999/10062 [01:00<00:00, 138.38it/s]\n",
      "100%|██████████████████████████████████▊| 10014/10062 [01:01<00:00, 141.27it/s]\n",
      "100%|██████████████████████████████████▉| 10029/10062 [01:01<00:00, 138.98it/s]\n",
      "100%|██████████████████████████████████▉| 10044/10062 [01:01<00:00, 141.30it/s]\n",
      "100%|███████████████████████████████████| 10062/10062 [01:01<00:00, 164.03it/s]"
     ]
    },
    {
     "name": "stdout",
     "output_type": "stream",
     "text": [
      "[MoviePy] Done.\n"
     ]
    },
    {
     "ename": "PermissionError",
     "evalue": "[WinError 32] The process cannot access the file because it is being used by another process: 'PHM 515 - 11-14-2017 - Room 250G - maggiekrTEMP_MPY_wvf_snd.mp3'",
     "output_type": "error",
     "traceback": [
      "\u001b[1;31m---------------------------------------------------------------------------\u001b[0m",
      "\u001b[1;31mPermissionError\u001b[0m                           Traceback (most recent call last)",
      "\u001b[1;32m<ipython-input-35-ae2f05f6d57e>\u001b[0m in \u001b[0;36m<module>\u001b[1;34m()\u001b[0m\n\u001b[1;32m----> 1\u001b[1;33m \u001b[0mclip\u001b[0m\u001b[1;33m.\u001b[0m\u001b[0mwrite_videofile\u001b[0m\u001b[1;33m(\u001b[0m\u001b[1;34m\"..\\\\VideoArchives\\\\PHM 515 - 11-14-2017 - Room 250G - maggiekr.mp4\"\u001b[0m\u001b[1;33m)\u001b[0m\u001b[1;33m\u001b[0m\u001b[0m\n\u001b[0m",
      "\u001b[1;32m<decorator-gen-173>\u001b[0m in \u001b[0;36mwrite_videofile\u001b[1;34m(self, filename, fps, codec, bitrate, audio, audio_fps, preset, audio_nbytes, audio_codec, audio_bitrate, audio_bufsize, temp_audiofile, rewrite_audio, remove_temp, write_logfile, verbose, threads, ffmpeg_params, progress_bar)\u001b[0m\n",
      "\u001b[1;32mC:\\Users\\dpaul7\\AppData\\Local\\Continuum\\Anaconda3\\lib\\site-packages\\moviepy\\decorators.py\u001b[0m in \u001b[0;36mrequires_duration\u001b[1;34m(f, clip, *a, **k)\u001b[0m\n\u001b[0;32m     52\u001b[0m         \u001b[1;32mraise\u001b[0m \u001b[0mValueError\u001b[0m\u001b[1;33m(\u001b[0m\u001b[1;34m\"Attribute 'duration' not set\"\u001b[0m\u001b[1;33m)\u001b[0m\u001b[1;33m\u001b[0m\u001b[0m\n\u001b[0;32m     53\u001b[0m     \u001b[1;32melse\u001b[0m\u001b[1;33m:\u001b[0m\u001b[1;33m\u001b[0m\u001b[0m\n\u001b[1;32m---> 54\u001b[1;33m         \u001b[1;32mreturn\u001b[0m \u001b[0mf\u001b[0m\u001b[1;33m(\u001b[0m\u001b[0mclip\u001b[0m\u001b[1;33m,\u001b[0m \u001b[1;33m*\u001b[0m\u001b[0ma\u001b[0m\u001b[1;33m,\u001b[0m \u001b[1;33m**\u001b[0m\u001b[0mk\u001b[0m\u001b[1;33m)\u001b[0m\u001b[1;33m\u001b[0m\u001b[0m\n\u001b[0m\u001b[0;32m     55\u001b[0m \u001b[1;33m\u001b[0m\u001b[0m\n\u001b[0;32m     56\u001b[0m \u001b[1;33m\u001b[0m\u001b[0m\n",
      "\u001b[1;32m<decorator-gen-172>\u001b[0m in \u001b[0;36mwrite_videofile\u001b[1;34m(self, filename, fps, codec, bitrate, audio, audio_fps, preset, audio_nbytes, audio_codec, audio_bitrate, audio_bufsize, temp_audiofile, rewrite_audio, remove_temp, write_logfile, verbose, threads, ffmpeg_params, progress_bar)\u001b[0m\n",
      "\u001b[1;32mC:\\Users\\dpaul7\\AppData\\Local\\Continuum\\Anaconda3\\lib\\site-packages\\moviepy\\decorators.py\u001b[0m in \u001b[0;36muse_clip_fps_by_default\u001b[1;34m(f, clip, *a, **k)\u001b[0m\n\u001b[0;32m    135\u001b[0m              for (k,v) in k.items()}\n\u001b[0;32m    136\u001b[0m \u001b[1;33m\u001b[0m\u001b[0m\n\u001b[1;32m--> 137\u001b[1;33m     \u001b[1;32mreturn\u001b[0m \u001b[0mf\u001b[0m\u001b[1;33m(\u001b[0m\u001b[0mclip\u001b[0m\u001b[1;33m,\u001b[0m \u001b[1;33m*\u001b[0m\u001b[0mnew_a\u001b[0m\u001b[1;33m,\u001b[0m \u001b[1;33m**\u001b[0m\u001b[0mnew_kw\u001b[0m\u001b[1;33m)\u001b[0m\u001b[1;33m\u001b[0m\u001b[0m\n\u001b[0m",
      "\u001b[1;32m<decorator-gen-171>\u001b[0m in \u001b[0;36mwrite_videofile\u001b[1;34m(self, filename, fps, codec, bitrate, audio, audio_fps, preset, audio_nbytes, audio_codec, audio_bitrate, audio_bufsize, temp_audiofile, rewrite_audio, remove_temp, write_logfile, verbose, threads, ffmpeg_params, progress_bar)\u001b[0m\n",
      "\u001b[1;32mC:\\Users\\dpaul7\\AppData\\Local\\Continuum\\Anaconda3\\lib\\site-packages\\moviepy\\decorators.py\u001b[0m in \u001b[0;36mconvert_masks_to_RGB\u001b[1;34m(f, clip, *a, **k)\u001b[0m\n\u001b[0;32m     20\u001b[0m     \u001b[1;32mif\u001b[0m \u001b[0mclip\u001b[0m\u001b[1;33m.\u001b[0m\u001b[0mismask\u001b[0m\u001b[1;33m:\u001b[0m\u001b[1;33m\u001b[0m\u001b[0m\n\u001b[0;32m     21\u001b[0m         \u001b[0mclip\u001b[0m \u001b[1;33m=\u001b[0m \u001b[0mclip\u001b[0m\u001b[1;33m.\u001b[0m\u001b[0mto_RGB\u001b[0m\u001b[1;33m(\u001b[0m\u001b[1;33m)\u001b[0m\u001b[1;33m\u001b[0m\u001b[0m\n\u001b[1;32m---> 22\u001b[1;33m     \u001b[1;32mreturn\u001b[0m \u001b[0mf\u001b[0m\u001b[1;33m(\u001b[0m\u001b[0mclip\u001b[0m\u001b[1;33m,\u001b[0m \u001b[1;33m*\u001b[0m\u001b[0ma\u001b[0m\u001b[1;33m,\u001b[0m \u001b[1;33m**\u001b[0m\u001b[0mk\u001b[0m\u001b[1;33m)\u001b[0m\u001b[1;33m\u001b[0m\u001b[0m\n\u001b[0m\u001b[0;32m     23\u001b[0m \u001b[1;33m\u001b[0m\u001b[0m\n\u001b[0;32m     24\u001b[0m \u001b[1;33m@\u001b[0m\u001b[0mdecorator\u001b[0m\u001b[1;33m.\u001b[0m\u001b[0mdecorator\u001b[0m\u001b[1;33m\u001b[0m\u001b[0m\n",
      "\u001b[1;32mC:\\Users\\dpaul7\\AppData\\Local\\Continuum\\Anaconda3\\lib\\site-packages\\moviepy\\video\\VideoClip.py\u001b[0m in \u001b[0;36mwrite_videofile\u001b[1;34m(self, filename, fps, codec, bitrate, audio, audio_fps, preset, audio_nbytes, audio_codec, audio_bitrate, audio_bufsize, temp_audiofile, rewrite_audio, remove_temp, write_logfile, verbose, threads, ffmpeg_params, progress_bar)\u001b[0m\n\u001b[0;32m    350\u001b[0m \u001b[1;33m\u001b[0m\u001b[0m\n\u001b[0;32m    351\u001b[0m         \u001b[1;32mif\u001b[0m \u001b[0mremove_temp\u001b[0m \u001b[1;32mand\u001b[0m \u001b[0mmake_audio\u001b[0m\u001b[1;33m:\u001b[0m\u001b[1;33m\u001b[0m\u001b[0m\n\u001b[1;32m--> 352\u001b[1;33m             \u001b[0mos\u001b[0m\u001b[1;33m.\u001b[0m\u001b[0mremove\u001b[0m\u001b[1;33m(\u001b[0m\u001b[0maudiofile\u001b[0m\u001b[1;33m)\u001b[0m\u001b[1;33m\u001b[0m\u001b[0m\n\u001b[0m\u001b[0;32m    353\u001b[0m \u001b[1;33m\u001b[0m\u001b[0m\n\u001b[0;32m    354\u001b[0m         \u001b[0mverbose_print\u001b[0m\u001b[1;33m(\u001b[0m\u001b[0mverbose\u001b[0m\u001b[1;33m,\u001b[0m \u001b[1;34m\"[MoviePy] >>>> Video ready: %s \\n\\n\"\u001b[0m\u001b[1;33m%\u001b[0m\u001b[0mfilename\u001b[0m\u001b[1;33m)\u001b[0m\u001b[1;33m\u001b[0m\u001b[0m\n",
      "\u001b[1;31mPermissionError\u001b[0m: [WinError 32] The process cannot access the file because it is being used by another process: 'PHM 515 - 11-14-2017 - Room 250G - maggiekrTEMP_MPY_wvf_snd.mp3'"
     ]
    }
   ],
   "source": [
    "clip.write_videofile(\"..\\\\VideoArchives\\\\PHM 515 - 11-14-2017 - Room 250G - maggiekr.mp4\")"
   ]
  },
  {
   "cell_type": "code",
   "execution_count": null,
   "metadata": {
    "collapsed": true
   },
   "outputs": [],
   "source": []
  }
 ],
 "metadata": {
  "kernelspec": {
   "display_name": "Python 3",
   "language": "python",
   "name": "python3"
  },
  "language_info": {
   "codemirror_mode": {
    "name": "ipython",
    "version": 3
   },
   "file_extension": ".py",
   "mimetype": "text/x-python",
   "name": "python",
   "nbconvert_exporter": "python",
   "pygments_lexer": "ipython3",
   "version": "3.6.1"
  }
 },
 "nbformat": 4,
 "nbformat_minor": 2
}
