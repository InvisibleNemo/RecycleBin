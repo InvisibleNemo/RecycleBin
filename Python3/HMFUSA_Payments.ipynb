{
 "cells": [
  {
   "cell_type": "code",
   "execution_count": 1,
   "metadata": {},
   "outputs": [],
   "source": [
    "import sys\n",
    "import os\n",
    "import requests\n",
    "from selenium import webdriver\n",
    "from selenium.webdriver.common.keys import Keys\n",
    "from selenium.webdriver.common.action_chains import ActionChains\n",
    "from selenium.webdriver.common.by import By\n",
    "from selenium.webdriver.support.wait import WebDriverWait\n",
    "from selenium.webdriver.support import expected_conditions as EC\n",
    "from selenium.webdriver.chrome.options import Options\n",
    "from selenium import webdriver\n",
    "import pandas as pd\n",
    "import time\n",
    "import datetime as dt\n",
    "from tqdm import tqdm"
   ]
  },
  {
   "cell_type": "code",
   "execution_count": 15,
   "metadata": {},
   "outputs": [],
   "source": [
    "def get_dates():\n",
    "    return [(dt.datetime.now() + dt.timedelta(days=i)).strftime(\"%m/%d/%Y\") for i in range(22)]"
   ]
  },
  {
   "cell_type": "code",
   "execution_count": 18,
   "metadata": {},
   "outputs": [],
   "source": [
    "# get_dates()[2:]"
   ]
  },
  {
   "cell_type": "code",
   "execution_count": 3,
   "metadata": {},
   "outputs": [],
   "source": [
    "ROOT_URL = \"https://www.hmfusa.com/\"\n",
    "login_username = \"Something\"\n",
    "login_password = \"Somepassword\""
   ]
  },
  {
   "cell_type": "code",
   "execution_count": 4,
   "metadata": {},
   "outputs": [],
   "source": [
    "# This is not needed if chromedriver is already on your path:\n",
    "chromedriver_path = \"/usr/local/bin/chromedriver\"\n",
    "\n",
    "options = Options()\n",
    "# options.add_argument(\"--window-size=1920x1080\")\n",
    "# options.add_argument(\"--verbose\")\n",
    "options.add_argument(\"--headless\")\n",
    "\n",
    "driver = webdriver.Chrome()\n",
    "driver.get(ROOT_URL)"
   ]
  },
  {
   "cell_type": "code",
   "execution_count": 5,
   "metadata": {},
   "outputs": [],
   "source": [
    "actions = ActionChains(driver)"
   ]
  },
  {
   "cell_type": "markdown",
   "metadata": {},
   "source": [
    "## Logging in"
   ]
  },
  {
   "cell_type": "code",
   "execution_count": 6,
   "metadata": {},
   "outputs": [],
   "source": [
    "driver.find_element(\n",
    "    By.ID, \n",
    "    'Username'\n",
    "    ).send_keys(login_username)\n",
    "time.sleep(1)"
   ]
  },
  {
   "cell_type": "code",
   "execution_count": 7,
   "metadata": {},
   "outputs": [],
   "source": [
    "driver.find_element(\n",
    "    By.ID, \n",
    "    'Password'\n",
    "    ).send_keys(login_password)\n",
    "time.sleep(1)\n"
   ]
  },
  {
   "cell_type": "code",
   "execution_count": 8,
   "metadata": {},
   "outputs": [],
   "source": [
    "actions = ActionChains(driver)\n",
    "actions.send_keys(Keys.ENTER)\n",
    "actions.perform()"
   ]
  },
  {
   "cell_type": "markdown",
   "metadata": {},
   "source": [
    "## Making Payments"
   ]
  },
  {
   "cell_type": "code",
   "execution_count": 9,
   "metadata": {},
   "outputs": [],
   "source": [
    "PAY_URL = \"https://www.hmfusa.com/PayMyBillWithFee/MakeOneTimePaymentWithConvFeeStep1\""
   ]
  },
  {
   "cell_type": "code",
   "execution_count": 10,
   "metadata": {},
   "outputs": [],
   "source": [
    "payment_amount = 21"
   ]
  },
  {
   "cell_type": "markdown",
   "metadata": {},
   "source": [
    "### Starting Point"
   ]
  },
  {
   "cell_type": "code",
   "execution_count": 17,
   "metadata": {},
   "outputs": [],
   "source": [
    "for payment_date in get_dates():\n",
    "    driver.get(PAY_URL)\n",
    "    amount = driver.find_element(\n",
    "        By.ID, \n",
    "        'PaymentInformationOtherAmount'\n",
    "        )\n",
    "    time.sleep(1)\n",
    "    amount.send_keys(payment_amount)\n",
    "    time.sleep(1)\n",
    "    driver.execute_script(\n",
    "        \"arguments[0].removeAttribute('readonly')\", \n",
    "        WebDriverWait(driver, 20).until(\n",
    "            EC.element_to_be_clickable(\n",
    "                (\n",
    "                    By.ID, \n",
    "                    'PaymentDate'\n",
    "                    )))\n",
    "                )\n",
    "    time.sleep(1)\n",
    "    date = driver.find_element(\n",
    "        By.ID, \n",
    "        'PaymentDate'\n",
    "        )\n",
    "    date.clear()\n",
    "    date.send_keys(payment_date)\n",
    "    time.sleep(1)\n",
    "    agree_check = driver.find_element(\n",
    "        By.ID,\n",
    "        'chkAgreeToPayConvenienceFee'\n",
    "    )\n",
    "    agree_check.click()\n",
    "    time.sleep(2)\n",
    "    next_button = driver.find_element(\n",
    "        By.NAME,\n",
    "        \"Next\"\n",
    "    )\n",
    "    next_button.click()\n",
    "    time.sleep(2)\n",
    "    submit_button = driver.find_element(\n",
    "        By.XPATH,\n",
    "        \"//input[contains(@value, 'Submit')]\"\n",
    "    )\n",
    "    submit_button.click()\n",
    "    time.sleep(2)"
   ]
  },
  {
   "cell_type": "code",
   "execution_count": 14,
   "metadata": {},
   "outputs": [],
   "source": [
    "driver.close()"
   ]
  },
  {
   "cell_type": "code",
   "execution_count": null,
   "metadata": {},
   "outputs": [],
   "source": []
  }
 ],
 "metadata": {
  "kernelspec": {
   "display_name": "Python 3 (ipykernel)",
   "language": "python",
   "name": "python3"
  },
  "language_info": {
   "codemirror_mode": {
    "name": "ipython",
    "version": 3
   },
   "file_extension": ".py",
   "mimetype": "text/x-python",
   "name": "python",
   "nbconvert_exporter": "python",
   "pygments_lexer": "ipython3",
   "version": "3.10.8"
  },
  "vscode": {
   "interpreter": {
    "hash": "93d244e3043a2a8e2e487657130acf14fd68d145541e746dac9e6ba69ed7ec40"
   }
  }
 },
 "nbformat": 4,
 "nbformat_minor": 4
}
